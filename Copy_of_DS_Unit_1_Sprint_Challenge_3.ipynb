{
  "nbformat": 4,
  "nbformat_minor": 0,
  "metadata": {
    "colab": {
      "name": "Copy of DS_Unit_1_Sprint_Challenge_3.ipynb",
      "version": "0.3.2",
      "provenance": [],
      "collapsed_sections": [],
      "toc_visible": true,
      "include_colab_link": true
    },
    "kernelspec": {
      "name": "python3",
      "display_name": "Python 3"
    }
  },
  "cells": [
    {
      "cell_type": "markdown",
      "metadata": {
        "id": "view-in-github",
        "colab_type": "text"
      },
      "source": [
        "<a href=\"https://colab.research.google.com/github/chrisseiler96/DS-Sprint-03-Creating-Professional-Portfolios/blob/master/Copy_of_DS_Unit_1_Sprint_Challenge_3.ipynb\" target=\"_parent\"><img src=\"https://colab.research.google.com/assets/colab-badge.svg\" alt=\"Open In Colab\"/></a>"
      ]
    },
    {
      "metadata": {
        "id": "i-n_5en3ER1o",
        "colab_type": "text"
      },
      "cell_type": "markdown",
      "source": [
        "# Data Science Unit 1 Sprint Challenge 3\n",
        "\n",
        "# Creating Professional Portfolios\n",
        "\n",
        "For your Sprint Challenge, you will **write about your upcoming [data storytelling portfolio project](https://learn.lambdaschool.com/ds/module/recedjanlbpqxic2r)**.\n",
        "\n",
        "(Don't worry, you don't have to choose your final idea now. For this challenge, you can write about any idea you're considering.)"
      ]
    },
    {
      "metadata": {
        "id": "OS0nW1vz1itX",
        "colab_type": "text"
      },
      "cell_type": "markdown",
      "source": [
        "# Part 1\n",
        "\n",
        "**Describe an idea** you could work on for your upcoming data storytelling project. What's your hypothesis?\n",
        "\n",
        "#### Write a [lede](https://www.thoughtco.com/how-to-write-a-great-lede-2074346) (first paragraph)\n",
        "- Put the bottom line up front.\n",
        "- Use 60 words or fewer. (The [Hemingway App](http://www.hemingwayapp.com/) gives you word count.)\n",
        "\n",
        "[This is hard](https://quoteinvestigator.com/2012/04/28/shorter-letter/), but you can do it!\n",
        "\n",
        "#### Stretch goals\n",
        "- Write more about your idea. Tell us what the story's about. Show us why it's interesting. Continue to follow the inverted pyramid structure. \n",
        "- Improve your readability. Post your \"before & after\" scores from the Hemingway App."
      ]
    },
    {
      "metadata": {
        "id": "bnLqMTWLd5i9",
        "colab_type": "text"
      },
      "cell_type": "markdown",
      "source": [
        "# My Data Storytelling Project - *An Exclusive Preview*\n",
        "\n",
        "\n",
        "I have already started working on my Data Storytelling project. My project generates word-clouds from IMDb review data. It's difficult scraping data from IMDb review pages, because the majority of the reviews are hidden by code and only rendered in browser. I currently use a virtual browser to scrape the pages but hypothesize it's possible to solve this without one.\n",
        "\n",
        "\n",
        "\n",
        "\n",
        "## This is a sample wordcloud:\n",
        "\n",
        "![Sample wordcloud](https://raw.githubusercontent.com/chrisseiler96/DS-Sprint-01-Dealing-With-Data/master/47010878_919750941746524_577307268882628608_n.png)"
      ]
    },
    {
      "metadata": {
        "id": "Nqf9oJJDDu-d",
        "colab_type": "text"
      },
      "cell_type": "markdown",
      "source": [
        "# Part 2\n",
        "\n",
        "#### Find sources\n",
        "- Link to at least 2 relevant sources for your topic. Sources could include any data or writing about your topic.\n",
        "- Use [Markdown](https://commonmark.org/help/) to format your links.\n",
        "- Summarize each source in 1-2 sentences.\n",
        "\n",
        "#### Stretch goals\n",
        "- Find more sources.\n",
        "- Use Markdown to add images from your sources.\n",
        "- Critically evaluate your sources in writing."
      ]
    },
    {
      "metadata": {
        "id": "xAJlf735-2T5",
        "colab_type": "text"
      },
      "cell_type": "markdown",
      "source": [
        "# Gathering the Data - ***A Tale of Two Sites***\n",
        "\n",
        "\n",
        "###The sources of my data will be IMDb and Rotten Tomatoes.\n",
        "\n",
        "\n",
        "IMDb has the largest amount of total reviews for most movies. It's very hard to be sure of the quality of these reviews, some of them may even be created by bots. (***The image in section 1 is created via this page: https://www.imdb.com/title/tt0110357/reviews?ref_=tt_ql_3)***\n",
        "\n",
        "Rotten Tomatoes has a section made up of only professional movie critic reviews. I hypothesize that these reviews will produce better images even though there is less total data.\n",
        "\n",
        "***Below is an image of a similar page on Rotten Tomatoes:***\n",
        "\n",
        "![alt text](https://i.gyazo.com/172cd2e4ea4d1e09ca9830e2a79c35fd.png)"
      ]
    },
    {
      "metadata": {
        "id": "LuacMjSf2ses",
        "colab_type": "text"
      },
      "cell_type": "markdown",
      "source": [
        "# Part 3\n",
        "\n",
        "#### Plan your next steps\n",
        "- Describe at least 2 actions you'd take to get started with your project.\n",
        "- Use Markdown headings and lists to organize your plan.\n",
        "\n",
        "#### Stretch goals\n",
        "- Add detail to your plan.\n",
        "- Publish your project proposal on your GitHub Pages site. "
      ]
    },
    {
      "metadata": {
        "id": "SFmS6ZZld4ot",
        "colab_type": "text"
      },
      "cell_type": "markdown",
      "source": [
        "# Next Steps:*** To Infinity and Beyond***\n",
        "\n",
        "\n",
        "\n",
        "I've already applied for an API key for Rotten Tomatoes, but it's been a few days with no response. I plan on building a web-scraper that works with Rotten Tomatoes review pages aswell.\n",
        "\n",
        "\n",
        "***I'd also like my wordclouds to include:***\n",
        "\n",
        "\n",
        "*   The Title of the film\n",
        "*   Length of the movie\n",
        "*   Review score for both Rotten tomatoes and IMDB\n",
        "\n",
        "\n",
        "I plan on listing this information in one of the corners of my wordcloud images, or extending the image and including these as the bottom.\n",
        "\n"
      ]
    }
  ]
}