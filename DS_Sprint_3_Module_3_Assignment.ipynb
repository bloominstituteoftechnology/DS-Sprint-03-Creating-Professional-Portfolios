{
  "nbformat": 4,
  "nbformat_minor": 0,
  "metadata": {
    "colab": {
      "name": "DS Sprint 3 Module 3 Assignment.ipynb",
      "version": "0.3.2",
      "provenance": [],
      "include_colab_link": true
    },
    "kernelspec": {
      "name": "python3",
      "display_name": "Python 3"
    }
  },
  "cells": [
    {
      "cell_type": "markdown",
      "metadata": {
        "id": "view-in-github",
        "colab_type": "text"
      },
      "source": [
        "<a href=\"https://colab.research.google.com/github/albert-h-wong/DS-Sprint-03-Creating-Professional-Portfolios/blob/master/DS_Sprint_3_Module_3_Assignment.ipynb\" target=\"_parent\"><img src=\"https://colab.research.google.com/assets/colab-badge.svg\" alt=\"Open In Colab\"/></a>"
      ]
    },
    {
      "metadata": {
        "id": "NUjDF4aUAFa9",
        "colab_type": "text"
      },
      "cell_type": "markdown",
      "source": [
        "## **Connect with professionals assignment**"
      ]
    },
    {
      "metadata": {
        "id": "G9BbD_1xAMiy",
        "colab_type": "text"
      },
      "cell_type": "markdown",
      "source": [
        "# List your target geographic areas\n",
        "\n",
        "\n",
        "\n",
        "*   Boston\n",
        "*   New York\n",
        "*   Los Angeles\n",
        "*   San Francisco\n",
        "\n",
        "\n",
        "\n"
      ]
    },
    {
      "metadata": {
        "id": "uTEVv4B1AM4w",
        "colab_type": "text"
      },
      "cell_type": "markdown",
      "source": [
        "# List your target industries\n",
        "\n",
        "*    Finance\n",
        "*    Insurance\n",
        "*    Healthcare\n",
        "*    Social Impact\n",
        "*    Public Policy\n",
        "*    Sports"
      ]
    },
    {
      "metadata": {
        "id": "1QYteuxfAM7R",
        "colab_type": "text"
      },
      "cell_type": "markdown",
      "source": [
        "# List 10 companies in your target geographic area or industry\n",
        "\n",
        "\n",
        "\n",
        "1.   DataRobot\n",
        "\n",
        "1.   Liberty Mutual Insurance\n",
        "\n",
        "1.   Wayfair\n",
        "\n",
        "1.   Palantir\n",
        "\n",
        "1.   NBA\n",
        "\n",
        "1.   PWC\n",
        "\n",
        "1.   Mass Mutual\n",
        "\n",
        "1.   McKinsey\n",
        "\n",
        "1.   ICF\n",
        "\n",
        "1.   Amazon\n",
        "\n"
      ]
    },
    {
      "metadata": {
        "id": "uA1iMkgJAM-U",
        "colab_type": "text"
      },
      "cell_type": "markdown",
      "source": [
        "# Find 5 data scientists\n",
        "\n",
        "Limited linkedin network so was unable to find mutual connections or view information of data scientists outside the network to list their URLs and background information"
      ]
    },
    {
      "metadata": {
        "id": "DyXWsbvGANBb",
        "colab_type": "text"
      },
      "cell_type": "markdown",
      "source": [
        "# Draft sample cold email requesting an informational interview\n",
        "\n",
        "Hello John,\n",
        "\n",
        "I'm an experienced banking professional recently transitioning into the data science field and I am looking to network with Boston area data scientists in the finance industry. Your LinkedIn profile and background was quite impressive and in particular, your Company XYZ's current initiative to build out machine learning applications in the research process is very exciting. I've been following some of the recent developments and had some general questions based on some recent work and research I have been doing. If you have any availability, I would like to briefly connect through email and would appreciate any insight and thoughts you can share. Thank you for your consideration.\n",
        "\n",
        "Best Regards,\n",
        "\n",
        "Albert Wong"
      ]
    }
  ]
}