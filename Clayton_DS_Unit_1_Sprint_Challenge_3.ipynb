{
  "nbformat": 4,
  "nbformat_minor": 0,
  "metadata": {
    "colab": {
      "name": "DS_Unit_1_Sprint_Challenge_3.ipynb",
      "version": "0.3.2",
      "provenance": [],
      "collapsed_sections": [],
      "include_colab_link": true
    },
    "kernelspec": {
      "name": "python3",
      "display_name": "Python 3"
    }
  },
  "cells": [
    {
      "cell_type": "markdown",
      "metadata": {
        "id": "view-in-github",
        "colab_type": "text"
      },
      "source": [
        "<a href=\"https://colab.research.google.com/github/rick1270/DS-Sprint-03-Creating-Professional-Portfolios/blob/master/Clayton_DS_Unit_1_Sprint_Challenge_3.ipynb\" target=\"_parent\"><img src=\"https://colab.research.google.com/assets/colab-badge.svg\" alt=\"Open In Colab\"/></a>"
      ]
    },
    {
      "metadata": {
        "id": "i-n_5en3ER1o",
        "colab_type": "text"
      },
      "cell_type": "markdown",
      "source": [
        "# Data Science Unit 1 Sprint Challenge 3\n",
        "\n",
        "# Creating Professional Portfolios\n",
        "\n",
        "For your Sprint Challenge, you will **write about your upcoming [data storytelling portfolio project](https://learn.lambdaschool.com/ds/module/recedjanlbpqxic2r)**.\n",
        "\n",
        "(Don't worry, you don't have to choose your final idea now. For this challenge, you can write about any idea you're considering.)"
      ]
    },
    {
      "metadata": {
        "id": "OS0nW1vz1itX",
        "colab_type": "text"
      },
      "cell_type": "markdown",
      "source": [
        "# Part 1\n",
        "\n",
        "**Describe an idea** you could work on for your upcoming data storytelling project. What's your hypothesis?\n",
        "\n",
        "#### Write a [lede](https://www.thoughtco.com/how-to-write-a-great-lede-2074346) (first paragraph)\n",
        "- Put the bottom line up front.\n",
        "- Use 60 words or fewer. (The [Hemingway App](http://www.hemingwayapp.com/) gives you word count.)\n",
        "\n",
        "[This is hard](https://quoteinvestigator.com/2012/04/28/shorter-letter/), but you can do it!\n",
        "\n",
        "#### Stretch goals\n",
        "- Write more about your idea. Tell us what the story's about. Show us why it's interesting. Continue to follow the inverted pyramid structure. \n",
        "- Improve your readability. Post your \"before & after\" scores from the Hemingway App."
      ]
    },
    {
      "metadata": {
        "id": "SUBmoTwGYgDf",
        "colab_type": "text"
      },
      "cell_type": "markdown",
      "source": [
        "###Residents Face Water Related Health Risk\n",
        "\n",
        "Residents of California are putting their health at risk every time they drink tap water.    Over the last decade, drought conditions and an ever-increasing demand have caused a significant decrease in the quality of water we drink.\n",
        "\n",
        "\n"
      ]
    },
    {
      "metadata": {
        "id": "Nqf9oJJDDu-d",
        "colab_type": "text"
      },
      "cell_type": "markdown",
      "source": [
        "# Part 2\n",
        "\n",
        "#### Find sources\n",
        "- Link to at least 2 relevant sources for your topic. Sources could include any data or writing about your topic.\n",
        "- Use [Markdown](https://commonmark.org/help/) to format your links.\n",
        "- Summarize each source in 1-2 sentences.\n",
        "\n",
        "#### Stretch goals\n",
        "- Find more sources.\n",
        "- Use Markdown to add images from your sources.\n",
        "- Critically evaluate your sources in writing."
      ]
    },
    {
      "metadata": {
        "id": "xAJlf735-2T5",
        "colab_type": "text"
      },
      "cell_type": "markdown",
      "source": [
        "![USGS Log](https://upload.wikimedia.org/wikipedia/commons/thumb/0/08/USGS_logo.png/220px-USGS_logo.png \"USGS Logo\")\n",
        "\n",
        "[USGS National Water Quality Database ](https://waterdata.usgs.gov/nwis/uv/?referred_module=qw)\n",
        "  -- A database, of current and past water conditions, maintained by the U.S. Geological Survey, at 22,725 sites throughout the United States.\n",
        "  \n",
        "\n",
        " ![USGS Log](https://ehtrust.org/wp-content/uploads/EPA-logo-300x183.jpg \"USGS Logo\")\n",
        "  \n",
        " [2018 Edition of the Drinking Water Standards and Health Advisories Tables](https://www.epa.gov/sites/production/files/2018-03/documents/dwtable2018.pdf)\n",
        "  -- An annual report, put out by the United States Environmental Protection Agency, which sets forth parameters, rules, and standards for drinking water in the U.S.\n"
      ]
    },
    {
      "metadata": {
        "id": "LuacMjSf2ses",
        "colab_type": "text"
      },
      "cell_type": "markdown",
      "source": [
        "# Part 3\n",
        "\n",
        "#### Plan your next steps\n",
        "- Describe at least 2 actions you'd take to get started with your project.\n",
        "- Use Markdown headings and lists to organize your plan.\n",
        "\n",
        "#### Stretch goals\n",
        "- Add detail to your plan.\n",
        "- Publish your project proposal on your GitHub Pages site. "
      ]
    },
    {
      "metadata": {
        "id": "SFmS6ZZld4ot",
        "colab_type": "text"
      },
      "cell_type": "markdown",
      "source": [
        "##Project Action Plan\n",
        "####Phase One\n",
        "1.  Develop Hypothesis regarding water quality \n",
        "2.  Research parameters, set forth by the EPA determin their relevance and availibility\n",
        "3.  Establish time frame and data points for project\n",
        "\n",
        "####Phase Two\n",
        "1.  Download data from USGS\n",
        "2.  Review data (shape, discription, headers)\n",
        "3.  Determin frequency and distribution of missing data\n",
        "4.  Address missing data\n",
        "\n",
        "####Phase Three\n",
        "1.  Produce  plot consisting of state of California, data collection points, colors indicating water component levels, with two sliders for year and component.\n",
        "2.  Produce line graph showing five largest cities in CA and change in each component over time frame\n",
        "\n"
      ]
    }
  ]
}