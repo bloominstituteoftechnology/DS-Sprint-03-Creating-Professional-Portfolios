{
  "nbformat": 4,
  "nbformat_minor": 0,
  "metadata": {
    "colab": {
      "name": "Connect with Professionals.ipynb",
      "version": "0.3.2",
      "provenance": [],
      "include_colab_link": true
    },
    "kernelspec": {
      "name": "python3",
      "display_name": "Python 3"
    }
  },
  "cells": [
    {
      "cell_type": "markdown",
      "metadata": {
        "id": "view-in-github",
        "colab_type": "text"
      },
      "source": [
        "<a href=\"https://colab.research.google.com/github/ShreyasJothish/DS-Sprint-03-Creating-Professional-Portfolios/blob/master/Connect_with_Professionals.ipynb\" target=\"_parent\"><img src=\"https://colab.research.google.com/assets/colab-badge.svg\" alt=\"Open In Colab\"/></a>"
      ]
    },
    {
      "metadata": {
        "id": "-wWAfM_ITuLK",
        "colab_type": "text"
      },
      "cell_type": "markdown",
      "source": [
        "\n",
        "**List your target geographic areas**\n",
        "1. Bangalore, India\n",
        "2. Hyderabad, India\n",
        "3. Singapore\n",
        "4. Netherland\n",
        "5. Germany\n",
        "6. Sacramento, California\n",
        "7. New Jersey\n",
        "8. Hongkong/Shenzhen\n",
        "9. Remote Jobs.\n",
        "\n",
        "**List your target industries**\n",
        "1. Startup\n",
        "2. Social impact companies.\n",
        "\n",
        "**List 10 companies in your target geographic area or industry**\n",
        "1. Google\n",
        "2. Facebook\n",
        "3. Amazon\n",
        "4. Flipkart\n",
        "5. Walmart Labs\n",
        "6. Intel\n",
        "\n",
        "https://www.kaggle.com/jobs\n",
        "https://angel.co/jobs\n",
        "https://stackoverflow.com/jobs?med=site-ui&ref=jobs-tab\n",
        "\n",
        "\n",
        "**Find 5 data scientists who have mutual connections with you, or work in your target geographic area, or work in your target industry / company. List their URLs (to LinkedIn profile or other online presence), and something interesting about each person and/or their company.**\n",
        "\n",
        "Ram Prakash H \n",
        "AI Researcher. Creating AI Environments for People to Learn Better.\n",
        "https://www.linkedin.com/in/ram-prakash-h-0557826/\n",
        "\n",
        "Santanu Bhattacharya\n",
        "Chief Data Scientist at airtel\n",
        "https://www.linkedin.com/in/santanub/\n",
        "\n",
        "Pavan Balaji,DataScientist \n",
        "Project Manager, CSM at Wipro Limited\n",
        "https://www.linkedin.com/in/pavan-balaji-csm/\n",
        "\n",
        "Nageswara Reddy Kakarla \n",
        "Lead Data Scientist with 14 years of total IT experience\n",
        "https://www.linkedin.com/in/nageswara-reddy-kakarla-10059742/\n",
        "\n",
        "vishnu prasad \n",
        "Data Scientist at Happiest Minds Technologies\n",
        "https://www.linkedin.com/in/vishnu667/\n",
        "\n",
        "Nitish Rai \n",
        "Data Scientist at HARMAN International\n",
        "https://www.linkedin.com/in/nitish-rai-b3595611a/\n",
        "\n",
        "Nayan Dharamshi \n",
        "Principal Data Scientist at Noodle.ai\n",
        "https://www.linkedin.com/in/nayandharamshi/\n",
        "\n",
        "Vijayendra Grampurohit \n",
        "Senior Data Scientist at Honeywell AI\n",
        "https://www.linkedin.com/in/vijayendra-grampurohit-79413815/\n",
        "\n",
        "From analyticsindiamag\n",
        "https://www.analyticsindiamag.com/top-10-data-scientists-in-india-2018/\n",
        "\n"
      ]
    },
    {
      "metadata": {
        "id": "C2rdJw-nihrN",
        "colab_type": "text"
      },
      "cell_type": "markdown",
      "source": [
        "**Challenge**\n",
        "\n",
        "Draft 1 cold email or LinkedIn message to a data scientist from your list.\n",
        "\n",
        "Checklist for your message:\n",
        "\n",
        "* Build rapport (with common ground and/or compliment)\n",
        "* Ask a question, such as: What’s a day in the life like there? / What are the biggest challenges you’re working on? / Would you be free for a 30 minute chat?\n",
        "* Share your background, in 1-2 sentences. (No self-deprecation.)\n",
        "* Show enthusiasm! (But no desperation.)\n",
        "\n",
        "Hi Ram Prakash,\n",
        "\n",
        "I am Shreyas Jothish and a good friend of Pradeep. Hope your day is going well. I just loved your Machine Learning - Choosing Substance Over Style blog.\n",
        "\n",
        "I have recently started pursing my career in Data Science recently and would love to connect to you over LinkedIn.\n",
        "\n",
        "Regards\n",
        "Shreyas"
      ]
    }
  ]
}