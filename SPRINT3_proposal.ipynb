{
  "nbformat": 4,
  "nbformat_minor": 0,
  "metadata": {
    "colab": {
      "name": "DS_Unit_1_Sprint_Challenge_3.ipynb",
      "version": "0.3.2",
      "provenance": [],
      "collapsed_sections": [],
      "include_colab_link": true
    },
    "kernelspec": {
      "name": "python3",
      "display_name": "Python 3"
    }
  },
  "cells": [
    {
      "cell_type": "markdown",
      "metadata": {
        "id": "view-in-github",
        "colab_type": "text"
      },
      "source": [
        "<a href=\"https://colab.research.google.com/github/quinn-dougherty/DS-Sprint-03-Creating-Professional-Portfolios/blob/master/SPRINT3_proposal.ipynb\" target=\"_parent\"><img src=\"https://colab.research.google.com/assets/colab-badge.svg\" alt=\"Open In Colab\"/></a>"
      ]
    },
    {
      "metadata": {
        "id": "bnLqMTWLd5i9",
        "colab_type": "text"
      },
      "cell_type": "markdown",
      "source": [
        "## Yet another autopsy of the 2016 election\n",
        "\n",
        "I want to compare prediction market data to polling from the 2016 election. Typically people will look at prediction market prices in the runup to an election, and [some say](https://primary.guide/) the price is more informative than even the best inferential summaries of polling data. but I haven't seen a study that looked at this *in hindsight*. \n",
        "\n",
        "#### What's the plan?\n",
        "\n",
        "I will *reconstruct the general sense of \"who's gonna win?\"* from the perspective of: \n",
        "\n",
        "1.   the prices on shares of predictions (data [PredictIt](predictit.org), possibly also [betfair](https://www.betfair.com/exchange/plus/))\n",
        "2.   538 (data [1](https://github.com/fivethirtyeight/data/issues/72), [2](https://projects.fivethirtyeight.com/2016-election-forecast/))\n",
        "\n",
        "The goal is to to be able to see, from each perspective:\n",
        "1.  how does the forecast change over time?\n",
        "2.  how much can we zoom into specific, key swing states? \n",
        "\n",
        "what I am not interested in: \n",
        "1. using hindsight to improve upon a historical forecast by providing a new aggregation or inference\n",
        "\n",
        "## The hypothesis: forecasting via prediction markets are more accurate than aggregated polling data.\n",
        "\n",
        "Keeping in mind that the point of a hypothesis is to focus the project, and doesn't necessarily impact the final presentation. "
      ]
    },
    {
      "metadata": {
        "id": "xAJlf735-2T5",
        "colab_type": "text"
      },
      "cell_type": "markdown",
      "source": [
        "## Prediction Markets, what's that? \n",
        "\n",
        "According to [wikipedia, prediction markets](https://en.wikipedia.org/wiki/Prediction_market) \"are exchange-traded markets created for the purpose of trading the outcome of events. The market prices can indicate what the crowd thinks the probability of the event is.\"\n",
        "\n",
        "[Tyler Cowen's youtube video](https://youtu.be/jYLgRo8upO0) is probably the best introduction. He introduces the idea by saying that prices in any market indirectly make predictions, prediction markets are just a more direct version of the same principle. \n",
        "\n",
        "## Forecasting, who cares? \n",
        "\n",
        "It's been widely said that the outcome of the 2016 presidential election is arguably a \"black swan\", in other words many forecasters were wrong. Election outcome forecasting comes down to aggregating data from polls. When days before the election Nate Silver [updated](https://fivethirtyeight.com/features/final-election-update-theres-a-wide-range-of-outcomes-and-most-of-them-come-up-clinton/?ex_cid=2016-forecast) \"Hillary's margin of victory is within a polling error\", peoples' responses if I recall were either along the lines of \"hah, who does this *nerd* think he is?\" or of \"[see, this just reinforces the narrative i was going to believe anyway](http://slatestarcodex.com/2016/11/07/tuesday-shouldnt-change-the-narrative/)\"; both were immensely unwise, if you know what forecasting is. \n",
        "\n",
        "As Silver said, \"Despite what you might think, we haven’t been trying to scare anyone with these updates. The goal of a probabilistic model is not to provide deterministic predictions (“Clinton will win Wisconsin”) but instead to provide an assessment of probabilities and risks.\"\n",
        "\n",
        "## ok, prices aren't exactly the same as probabilities, are they? \n",
        "No, they're not. The correspondence breaks down under rigorous scrutiny. For instance, prices of mutually exclusive events needn't sum to 1, at least not in PredictIt's implementatoin. Hopefully this will add to the drama when I show the difference between 538's forecast and a forecast constructed from PredictIt data. \n"
      ]
    },
    {
      "metadata": {
        "id": "SFmS6ZZld4ot",
        "colab_type": "text"
      },
      "cell_type": "markdown",
      "source": [
        "### PredictIt data\n",
        "\n",
        "The first thing I had to do was get PredictIt's data. Although anyone can analyze their live markets with an XML scraper, they have a slightly more involved process for access to historical data. Their head of public engagement sent me a list of thousands of now closed markets going back a few years, and in LibreOffice Calc I just filtered on `DateClosed==11/8/2016`,  and I got 17 markets on predictions like \"Clinton wins Wisconsin\", etc. They're currently processing the request, so I don't know yet what form I'll receive the data in, how large it will be, etc. \n",
        "\n",
        "They're live XML data is updated every 60 seconds, so if the price fluctuates a lot in the course of a single day you can get a really refined look at it. I'm assuming these datasets will have at least some ability to look at price over time. \n",
        "\n",
        "I also ran a filter on `Name contains 'Trump vs. Clinton'`, and that returned 54 markets (any prediction containting the phrase Trump vs. Clinton)-- but I wanted to start with a smaller request since their policy is something like \"requests larger than 25 require more approval and have a longer wait\". \n",
        "\n",
        "### 538 data\n",
        "Yes, a lot of data is avaible about 538's forecast, but I haven't looked closely. My first questions are: \n",
        "1. how much of their model do they release? i.e. could i, in theory, reproduce their prediction by aggregating everything they're looking at, at least to a small extent? \n",
        "2. Will I even have access to a record of how their forecast changed over time? \n",
        "\n",
        "The first part isn't interesting to me, as I mentioned. \n",
        "\n",
        "The second part, however, is very concerning. I may not be able to salvage exactly this hypothesis, if 538 doesn't have available it's change in forecast over time. \n",
        "\n",
        "### Presentation: states\n",
        "I can get a head start at learning the map representation in a library like altair or plotly. "
      ]
    }
  ]
}