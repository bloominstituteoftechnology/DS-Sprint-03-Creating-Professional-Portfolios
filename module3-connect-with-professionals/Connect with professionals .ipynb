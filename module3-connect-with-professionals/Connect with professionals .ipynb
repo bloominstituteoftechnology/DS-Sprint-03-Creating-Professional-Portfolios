{
  "nbformat": 4,
  "nbformat_minor": 0,
  "metadata": {
    "colab": {
      "name": "Connect with professionals .ipynb",
      "version": "0.3.2",
      "provenance": [],
      "include_colab_link": true
    },
    "kernelspec": {
      "display_name": "Python 3",
      "language": "python",
      "name": "python3"
    }
  },
  "cells": [
    {
      "cell_type": "markdown",
      "metadata": {
        "id": "view-in-github",
        "colab_type": "text"
      },
      "source": [
        "<a href=\"https://colab.research.google.com/github/invegat/DS-Sprint-03-Creating-Professional-Portfolios/blob/master/module3-connect-with-professionals/Connect%20with%20professionals%20.ipynb\" target=\"_parent\"><img src=\"https://colab.research.google.com/assets/colab-badge.svg\" alt=\"Open In Colab\"/></a>"
      ]
    },
    {
      "metadata": {
        "id": "E43S4LxhtoIU",
        "colab_type": "text"
      },
      "cell_type": "markdown",
      "source": [
        "# Connect with professionals assignment\n",
        "\n",
        "\n",
        "### List your target geographic areas\n",
        "\n",
        " 1. Anywhere is OK with me\n",
        " 2. Maimi, FL\n",
        " 3. Austin, TX\n",
        " 4. Nashua, NH\n",
        " 5. Boston, MA\n",
        "\n",
        "\n",
        "### List your target industries\n",
        "\n",
        "Full Stack Web Development with Data Science/AI\n",
        "\n",
        "\n",
        "\n",
        "### List 10 companies in your target geographic area or industry\n",
        "\n",
        "1. https://www.linkedin.com/company/tracfone-wireless/\n",
        "2. https://www.linkedin.com/company/capgemini/\n",
        "3. https://www.linkedin.com/company/nextera-energy-inc/life/\n",
        "4. https://www.linkedin.com/company/wix-com/\n",
        "5. https://www.linkedin.com/company/microsoft/\n",
        "6. https://www.linkedin.com/company/accenture/life/\n",
        "7. www.vividresourcing.com\n",
        "8. https://www.linkedin.com/company/ibm/\n",
        "9. https://www.linkedin.com/company/chen-medical/\n",
        "10. http://www.sthal.net/\n",
        "\n",
        "\n",
        "### Find 5 data scientists who:\n",
        "- Have mutual connections with you, or\n",
        "- Work in your target geographic area, or\n",
        "- Work in your target industry / company\n",
        "1. https://www.linkedin.com/in/max-clark-307b0080/\n",
        "2. https://www.linkedin.com/in/jake-robertson-0b809a109/\n",
        "3. https://www.linkedin.com/in/francisco-sananez-a51194101/\n",
        "4. https://www.linkedin.com/in/fernando-lacerda/\n",
        "5. https://www.linkedin.com/in/dasilvaclaudio/\n",
        "\n",
        "\n",
        "List their URLs, and something interesting about each person and/or their company:\n",
        "\n",
        "1. Found no other url for https://www.linkedin.com/in/max-clark-307b0080.  He came back to Miami after going to a high ranking Masters of Data Science school in Cincinnati.   His unnecessary and confusing abbreviations of his educational degrees is inconsistently dash separated and parenthesized, wouldn't know how to tell him that and also ask for his advice.  \n",
        "### Master of Science - MS</span>\n",
        "### Bachelor of Arts (BA)</span>\n",
        "2. https://robertsonjake.github.io/ In college \"two majors in Applied Mathematics and Meteorology, as well as a minor in Climate Science and Policy from the University of Miami\" Now works for a company that provides fueling logistics. https://www.wfscorp.com/en\n",
        "3.Francisco Sananez's employer https://www.capgemini.com/news/esop5/ has\n",
        "\"Highly successful 5th Employee Share Ownership Plan\n",
        "• Plan offer subscribed 191% by employees • Dilution offset by the share repurchase agreement\" The article shows that 16% of employees participated but doesn't explain the confusing 191% number.\n",
        "4. No other url for https://www.linkedin.com/in/fernando-lacerda/, he lists two completely overlapping jobs at wix.com, Product Specialist and Artificial Design Intelligence - both from Feb 2017 - Present\n",
        "5. https://social.technet.microsoft.com/profile/claudio%20da%20silva%20%5Bmsft%5D/?ws=usercard-mini doesn't do a lot of answering customer questions.   With \"BSkyB\" Looks like he tried and failed to make his former employer's name Sky bold, failed, and blew it off.\n",
        "\n",
        "\n",
        "\n",
        "### Draft 1 cold email or LinkedIn message to request an informational interview\n",
        "\n",
        "Checklist:\n",
        "\n",
        "- [ ] Build rapport (with common ground and/or compliment)\n",
        "- [ ] Ask a question, such as: What’s a day in the life like there? / What are the biggest challenges you’re working on? / Would you be free for a 30 minute video chat?\n",
        "- [ ] Share your background, in 1-2 sentences. (No self-deprecation.)\n",
        "- [ ] Show enthusiasm! (But no desperation.)\n",
        "\n",
        "Your message:\n",
        "\n",
        "  Hi Fancisco, Was in Austin for 19 months doing a contract for the US Treasury FMS-Austin a few years ago, great city.   Looking to become a Data Science Engineer, do you have know any Python resources that would help with that, especially for Capgemini requirements?  \n",
        "\n",
        "\n",
        "\n",
        "### Stretch goals\n",
        "\n",
        "- Find more companies, managers, and data scientists\n",
        "- Draft more messages"
      ]
    },
    {
      "metadata": {
        "id": "6XVxOBBEtoIW",
        "colab_type": "code",
        "colab": {}
      },
      "cell_type": "code",
      "source": [
        ""
      ],
      "execution_count": 0,
      "outputs": []
    }
  ]
}