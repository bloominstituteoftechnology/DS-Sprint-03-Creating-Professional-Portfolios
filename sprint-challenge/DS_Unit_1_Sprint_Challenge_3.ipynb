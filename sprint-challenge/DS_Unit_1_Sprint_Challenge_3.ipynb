{
 "cells": [
  {
   "cell_type": "markdown",
   "metadata": {
    "colab_type": "text",
    "id": "i-n_5en3ER1o"
   },
   "source": [
    "# Data Science Unit 1 Sprint Challenge 3\n",
    "\n",
    "# Creating Professional Portfolios\n",
    "\n",
    "For your Sprint Challenge, you will **write about your upcoming [data storytelling portfolio project](https://learn.lambdaschool.com/ds/module/recedjanlbpqxic2r)**.\n",
    "\n",
    "(Don't worry, you don't have to choose your final idea now. For this challenge, you can write about any idea you're considering.)"
   ]
  },
  {
   "cell_type": "markdown",
   "metadata": {
    "colab_type": "text",
    "id": "OS0nW1vz1itX"
   },
   "source": [
    "# Part 1\n",
    "\n",
    "**Describe an idea** you could work on for your upcoming data storytelling project. What's your hypothesis?\n",
    "\n",
    "#### Write a [lede](https://www.thoughtco.com/how-to-write-a-great-lede-2074346) (first paragraph)\n",
    "- Put the bottom line up front.\n",
    "- Use 60 words or fewer. (The [Hemingway App](http://www.hemingwayapp.com/) gives you word count.)\n",
    "\n",
    "[This is hard](https://quoteinvestigator.com/2012/04/28/shorter-letter/), but you can do it!\n",
    "\n",
    "#### Stretch goals\n",
    "- Write more about your idea. Tell us what the story's about. Show us why it's interesting. Continue to follow the inverted pyramid structure. \n",
    "- Improve your readability. Post your \"before & after\" scores from the Hemingway App."
   ]
  },
  {
   "cell_type": "markdown",
   "metadata": {},
   "source": [
    "## Dangerous Breed Or Not?  "
   ]
  },
  {
   "cell_type": "markdown",
   "metadata": {},
   "source": [
    "![Pittbull](Pittbull.png)"
   ]
  },
  {
   "cell_type": "markdown",
   "metadata": {},
   "source": [
    ">What breeds of dog are dangerous and which ones are not has been\n",
    ">an ongoing debate for years. Why are certain dogs considered\n",
    ">dangerous? What has caused the choice of breed to change over the\n",
    ">years? The dogs pay the price not the people. Yet, it appears the\n",
    ">people are the problem, not the dogs. "
   ]
  },
  {
   "cell_type": "markdown",
   "metadata": {
    "colab_type": "text",
    "id": "bnLqMTWLd5i9"
   },
   "source": [
    "![Breed Specific Laws](Breed%20Specific%20Laws.png)"
   ]
  },
  {
   "cell_type": "markdown",
   "metadata": {},
   "source": [
    ">Dogs are said to be man's best friend. Their love is unconditional. Yet, man often mistreats the very animal whose\n",
    ">loyalty goes beyond its own self preservation. Over the decades the breed of dog considered 'dangerous'\n",
    ">has changed. At one point in time it was Rottweilers. Then it was Doberman Pinschers. Next in line were German\n",
    ">Shepherds. In 2018, the dangerous breed is more general. Any bully breed is considered dangerous. In many place,\n",
    ">there are restrictions concerning ownership of a bully breed. Is it the dog's DNA? Is it their health? Or, could it\n",
    ">be that man's best friend is causing the problem? It could be a combination and it could be more complicated than\n",
    ">any of those things. But, the breeds that used to be considered dangerous are no longer on the list. What causes\n",
    ">that to change? My hypothesis is that man is the real problem behind those dogs considered dangerous. Certain breeds\n",
    ">may have a predisposition for aggression but the underlying trigger is the person behind the dog."
   ]
  },
  {
   "cell_type": "markdown",
   "metadata": {
    "colab_type": "text",
    "id": "Nqf9oJJDDu-d"
   },
   "source": [
    "# Part 2\n",
    "\n",
    "#### Find sources\n",
    "- Link to at least 2 relevant sources for your topic. Sources could include any data or writing about your topic.\n",
    "- Use [Markdown](https://commonmark.org/help/) to format your links.\n",
    "- Summarize each source in 1-2 sentences.\n",
    "\n",
    "#### Stretch goals\n",
    "- Find more sources.\n",
    "- Use Markdown to add images from your sources.\n",
    "- Critically evaluate your sources in writing."
   ]
  },
  {
   "cell_type": "markdown",
   "metadata": {
    "colab_type": "text",
    "id": "xAJlf735-2T5"
   },
   "source": [
    "[The Dangerous Dog Debate](https://www.avma.org/news/javmanews/pages/171115a.aspx)\n",
    ">This article starts with a story about a woman who got attacked by a pitbull. The\n",
    ">dog was on a leash and the owner was able to get the dog to release. Police were\n",
    ">contacted and further investion done. It seems this dog had a history of aggressive\n",
    ">behavior. Read further into the article to find statistics and potential reasons\n",
    ">for aggressive behavior in certain dogs."
   ]
  },
  {
   "cell_type": "markdown",
   "metadata": {},
   "source": [
    "[Declared Dangerous Dogs](https://catalog.data.gov/dataset/declared-dangerous-dogs)\n",
    ">This provides a dataset specifically for Austin, Texas. Data.gov has many more datasets\n",
    ">about dogs, dog bites, dog breeds, etc. This is a great resource to find more of the data\n",
    ">I'm looking for to complete this project."
   ]
  },
  {
   "cell_type": "markdown",
   "metadata": {},
   "source": [
    "[Dog Bit Statistics](https://www.caninejournal.com/dog-bite-statistics/)\n",
    ">This article in Canine Journal provides some general statistics about dog bites.\n",
    ">It has quite a few links to data I'd love to explore. However, the data requires\n",
    ">payment or a paid subscription to a website. The author no longer writes for \n",
    ">Canine Journal, nor does she want to respond to any emails about the article. I'll\n",
    ">continue to use this to attempt to access some of the data she was able to."
   ]
  },
  {
   "cell_type": "markdown",
   "metadata": {},
   "source": [
    "[Health or Heritage](https://www.psychologytoday.com/us/blog/canine-corner/201811/mapping-your-dogs-behavior-health-and-heritage)\n",
    ">This is a fantastic article about canine DNA. I believe collecting data on the mapped DNA of different dog breeds\n",
    ">would provide a wealth of information about the differences between them. It is possible to identify specific\n",
    ">genes that might predispose a dog to aggressive behavior. I emailed the author of this article to see if he\n",
    ">could provide any data he might have used."
   ]
  },
  {
   "cell_type": "markdown",
   "metadata": {
    "colab_type": "text",
    "id": "LuacMjSf2ses"
   },
   "source": [
    "# Part 3\n",
    "\n",
    "#### Plan your next steps\n",
    "- Describe at least 2 actions you'd take to get started with your project.\n",
    "- Use Markdown headings and lists to organize your plan.\n",
    "\n",
    "#### Stretch goals\n",
    "- Add detail to your plan.\n",
    "- Publish your project proposal on your GitHub Pages site. "
   ]
  },
  {
   "cell_type": "markdown",
   "metadata": {
    "colab_type": "text",
    "id": "SFmS6ZZld4ot"
   },
   "source": [
    "-**I will be searching for more resources that will give me access to appropriate datasets.**  \n",
    "-**I plan on outlining my project including what kind of diagrams or charts would be most beneficial to display.**  \n",
    "-**Any data I already have access to, I'll begin to work with.**  \n",
    "-**Data I continue to collect, I'll use to either combine with what I have or draw some addition conclusions.**  "
   ]
  },
  {
   "cell_type": "markdown",
   "metadata": {},
   "source": [
    ">*My first step is really to find as much data as I can on the specific topics I'd like to address in this project. Cleaning up the data frames and finding pertinent information from that data will be my focus.*"
   ]
  },
  {
   "cell_type": "code",
   "execution_count": null,
   "metadata": {},
   "outputs": [],
   "source": []
  }
 ],
 "metadata": {
  "colab": {
   "collapsed_sections": [],
   "name": "DS_Unit_1_Sprint_Challenge_3.ipynb",
   "provenance": [],
   "version": "0.3.2"
  },
  "kernelspec": {
   "display_name": "Python 3",
   "language": "python",
   "name": "python3"
  },
  "language_info": {
   "codemirror_mode": {
    "name": "ipython",
    "version": 3
   },
   "file_extension": ".py",
   "mimetype": "text/x-python",
   "name": "python",
   "nbconvert_exporter": "python",
   "pygments_lexer": "ipython3",
   "version": "3.6.7"
  }
 },
 "nbformat": 4,
 "nbformat_minor": 1
}
