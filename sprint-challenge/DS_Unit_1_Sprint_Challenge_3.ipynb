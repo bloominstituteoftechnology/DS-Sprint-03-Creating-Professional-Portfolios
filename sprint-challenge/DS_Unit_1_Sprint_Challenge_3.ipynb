{
  "nbformat": 4,
  "nbformat_minor": 0,
  "metadata": {
    "colab": {
      "name": "DS_Unit_1_Sprint_Challenge_3.ipynb",
      "version": "0.3.2",
      "provenance": [],
      "collapsed_sections": [],
      "toc_visible": true,
      "include_colab_link": true
    },
    "kernelspec": {
      "name": "python3",
      "display_name": "Python 3"
    }
  },
  "cells": [
    {
      "cell_type": "markdown",
      "metadata": {
        "id": "view-in-github",
        "colab_type": "text"
      },
      "source": [
        "<a href=\"https://colab.research.google.com/github/krsmith/DS-Sprint-03-Creating-Professional-Portfolios/blob/master/sprint-challenge/DS_Unit_1_Sprint_Challenge_3.ipynb\" target=\"_parent\"><img src=\"https://colab.research.google.com/assets/colab-badge.svg\" alt=\"Open In Colab\"/></a>"
      ]
    },
    {
      "metadata": {
        "id": "i-n_5en3ER1o",
        "colab_type": "text"
      },
      "cell_type": "markdown",
      "source": [
        "# Data Science Unit 1 Sprint Challenge 3\n",
        "\n",
        "# Creating Professional Portfolios\n",
        "\n",
        "For your Sprint Challenge, you will **write about your upcoming [data storytelling portfolio project](https://learn.lambdaschool.com/ds/module/recedjanlbpqxic2r)**.\n",
        "\n",
        "(Don't worry, you don't have to choose your final idea now. For this challenge, you can write about any idea you're considering.)"
      ]
    },
    {
      "metadata": {
        "id": "OS0nW1vz1itX",
        "colab_type": "text"
      },
      "cell_type": "markdown",
      "source": [
        "# Part 1\n",
        "\n",
        "**Describe an idea** you could work on for your upcoming data storytelling project. What's your hypothesis?\n",
        "\n",
        "#### Write a [lede](https://www.thoughtco.com/how-to-write-a-great-lede-2074346) (first paragraph)\n",
        "- Put the bottom line up front.\n",
        "- Use 60 words or fewer. (The [Hemingway App](http://www.hemingwayapp.com/) gives you word count.)\n",
        "\n",
        "[This is hard](https://quoteinvestigator.com/2012/04/28/shorter-letter/), but you can do it!\n",
        "\n",
        "#### Stretch goals\n",
        "- Write more about your idea. Tell us what the story's about. Show us why it's interesting. Continue to follow the inverted pyramid structure. \n",
        "- Improve your readability. Post your \"before & after\" scores from the Hemingway App."
      ]
    },
    {
      "metadata": {
        "id": "bnLqMTWLd5i9",
        "colab_type": "text"
      },
      "cell_type": "markdown",
      "source": [
        "## What makes a NY Times Best Seller?\n",
        "\n",
        "Aspiring writers often struggle to figure out the best way to create a career doing what they love. Using the NY Times best sellers list, I want to create visualizations that will help understand trends over time. Authors will be able to use this information to determine genre, themes, and target publishers.\n",
        "\n",
        "Can following these trends guarantee that a book will hit the best seller's list? There is a lot more to a book than title, publisher, and genre. This project can't determine quality of writing or marketing strategies, but it should help to show trends in what is selling. \n",
        "\n",
        "Another complication is determining what will be selling once your book is published, which could take years. The trend of this year could drop by the time your book hits the shelves, but a consistent trend could last a decade or more."
      ]
    },
    {
      "metadata": {
        "id": "Nqf9oJJDDu-d",
        "colab_type": "text"
      },
      "cell_type": "markdown",
      "source": [
        "# Part 2\n",
        "\n",
        "#### Find sources\n",
        "- Link to at least 2 relevant sources for your topic. Sources could include any data or writing about your topic.\n",
        "- Use [Markdown](https://commonmark.org/help/) to format your links.\n",
        "- Summarize each source in 1-2 sentences.\n",
        "\n",
        "#### Stretch goals\n",
        "- Find more sources.\n",
        "- Use Markdown to add images from your sources.\n",
        "- Critically evaluate your sources in writing."
      ]
    },
    {
      "metadata": {
        "id": "xAJlf735-2T5",
        "colab_type": "text"
      },
      "cell_type": "markdown",
      "source": [
        "### Sources\n",
        "\n",
        "[Erica Verillo's article](https://writingcooperative.com/what-are-the-most-popular-literary-genres-6db5c69928cc) talks about which genre's are the most popular and bring in the largest revenue. She also states that author's should only write what they enjoy. \n",
        "\n",
        "> Ultimately, the writers who are the most successful have followed their own ideas, their own inspiration, their own muse.\n",
        "\n",
        ">![](https://cdn-images-1.medium.com/max/1600/0*R7TtgnXa5a__b4RT.png)\n",
        "\n",
        "\n",
        "\n",
        "\n",
        "\n",
        "\n",
        "[Lauren Wise of Pressbook](https://pressbooks.com/blog/2017-publishing-trends-for-authors-and-the-industry/) suggests that authors take a look at the world around them to choose their book's theme. Certain themes are dying out while others are sliding in to popularity."
      ]
    },
    {
      "metadata": {
        "id": "LuacMjSf2ses",
        "colab_type": "text"
      },
      "cell_type": "markdown",
      "source": [
        "# Part 3\n",
        "\n",
        "#### Plan your next steps\n",
        "- Describe at least 2 actions you'd take to get started with your project.\n",
        "- Use Markdown headings and lists to organize your plan.\n",
        "\n",
        "#### Stretch goals\n",
        "- Add detail to your plan.\n",
        "- Publish your project proposal on your GitHub Pages site. "
      ]
    },
    {
      "metadata": {
        "id": "SFmS6ZZld4ot",
        "colab_type": "text"
      },
      "cell_type": "markdown",
      "source": [
        "## Action Plan\n",
        "\n",
        "### Get the data\n",
        "\n",
        "1. Find historical data on the NY Times best seller list\n",
        "2. Analyze the data to understand what it contains\n",
        "3. Clean data as needed\n",
        "4. Split out or group data into easily visualized dataframes\n",
        "\n",
        "### Visualize\n",
        "\n",
        "1. Use data in different visualizations to tell a story\n",
        "2. Determine what trends are being shown in the data\n",
        "3. Make visualization explanatory\n",
        "\n",
        "### Conclusion\n",
        "\n",
        "1. Write up a summary of what was found\n",
        "2. Edit summary until it is clear and concise\n",
        "3. Publish to blog/portfolio"
      ]
    }
  ]
}