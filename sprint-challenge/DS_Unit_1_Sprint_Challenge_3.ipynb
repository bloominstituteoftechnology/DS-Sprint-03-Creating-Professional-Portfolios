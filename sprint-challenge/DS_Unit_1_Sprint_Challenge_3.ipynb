{
  "nbformat": 4,
  "nbformat_minor": 0,
  "metadata": {
    "colab": {
      "name": "DS_Unit_1_Sprint_Challenge_3.ipynb",
      "version": "0.3.2",
      "provenance": [],
      "collapsed_sections": [],
      "include_colab_link": true
    },
    "kernelspec": {
      "name": "python3",
      "display_name": "Python 3"
    }
  },
  "cells": [
    {
      "cell_type": "markdown",
      "metadata": {
        "id": "view-in-github",
        "colab_type": "text"
      },
      "source": [
        "<a href=\"https://colab.research.google.com/github/BrianBehnke/DS-Sprint-03-Creating-Professional-Portfolios/blob/master/sprint-challenge/DS_Unit_1_Sprint_Challenge_3.ipynb\" target=\"_parent\"><img src=\"https://colab.research.google.com/assets/colab-badge.svg\" alt=\"Open In Colab\"/></a>"
      ]
    },
    {
      "metadata": {
        "id": "i-n_5en3ER1o",
        "colab_type": "text"
      },
      "cell_type": "markdown",
      "source": [
        "# Data Science Unit 1 Sprint Challenge 3\n",
        "\n",
        "# Creating Professional Portfolios\n",
        "\n",
        "For your Sprint Challenge, you will **write about your upcoming [data storytelling portfolio project](https://learn.lambdaschool.com/ds/module/recedjanlbpqxic2r)**.\n",
        "\n",
        "(Don't worry, you don't have to choose your final idea now. For this challenge, you can write about any idea you're considering.)"
      ]
    },
    {
      "metadata": {
        "id": "OS0nW1vz1itX",
        "colab_type": "text"
      },
      "cell_type": "markdown",
      "source": [
        "# Part 1\n",
        "\n",
        "**Describe an idea** you could work on for your upcoming data storytelling project. What's your hypothesis?\n",
        "\n",
        "#### Write a [lede](https://www.thoughtco.com/how-to-write-a-great-lede-2074346) (first paragraph)\n",
        "- Put the bottom line up front.\n",
        "- Use 60 words or fewer. (The [Hemingway App](http://www.hemingwayapp.com/) gives you word count.)\n",
        "\n",
        "[This is hard](https://quoteinvestigator.com/2012/04/28/shorter-letter/), but you can do it!\n",
        "\n",
        "#### Stretch goals\n",
        "- Write more about your idea. Tell us what the story's about. Show us why it's interesting. Continue to follow the inverted pyramid structure. \n",
        "- Improve your readability. Post your \"before & after\" scores from the Hemingway App."
      ]
    },
    {
      "metadata": {
        "id": "bnLqMTWLd5i9",
        "colab_type": "text"
      },
      "cell_type": "markdown",
      "source": [
        "My portfolio project will be an analysis on NFL salaries and in-game scoring for the 2017 season. I will analyze who is earning their salary based on how much the player aids in the final score of the games. \n",
        "\n",
        "I am interested in trying to find a way to determine a NFL player's relative contractual worth. I feel that a higher paid player should more directly affect a game and the team's ability to achieve victory. Showing the value of the contract pitted against the players contractual value is a good sign of a player's worth to the team. \n",
        "\n",
        "Many fans enjoy celebrating the success of their team but also enjoy complaining about a player who does not do enough to help their team. Considering the amount of money they may be getting paid. Sports forums are a fun place to watch the fan's consternation with players who they feel are under performing. Fans can be brutally open about their opinions. And yet many fans likely do not know the player's true worth to the team. Especially in aspects that may not relate to the final score of the game. \n",
        "\n",
        "My analysis will be one way to show a player's value based on their ability to help determine the score of the game. I understand that there are plenty of positions that will not factor into the scoring. But many do bring a measure of influence to the score but do not actually get credit for points scored. I will leave that discussion and analysis for the next project. There I will determine player value without looking only at scoring. \n",
        "\n",
        "# Hemingway scores\n",
        "## Hemingway before edits\n",
        "![Hemingway before score](https://i.imgur.com/1j1cbuAh.png)\n",
        "\n",
        "***\n",
        "## Hemingway after edits\n",
        "![Hemingway after score](https://i.imgur.com/hdFu9TKh.png)"
      ]
    },
    {
      "metadata": {
        "id": "Nqf9oJJDDu-d",
        "colab_type": "text"
      },
      "cell_type": "markdown",
      "source": [
        "# Part 2\n",
        "\n",
        "#### Find sources\n",
        "- Link to at least 2 relevant sources for your topic. Sources could include any data or writing about your topic.\n",
        "- Use [Markdown](https://commonmark.org/help/) to format your links.\n",
        "- Summarize each source in 1-2 sentences.\n",
        "\n",
        "#### Stretch goals\n",
        "- Find more sources.\n",
        "- Use Markdown to add images from your sources.\n",
        "- Critically evaluate your sources in writing."
      ]
    },
    {
      "metadata": {
        "id": "xAJlf735-2T5",
        "colab_type": "text"
      },
      "cell_type": "markdown",
      "source": [
        "# My data sources:\n",
        "\n",
        "[Pro Football Reference](https://www.pro-football-reference.com/years/2017/scoring.htm)\n",
        "\n",
        "[Pro Football Reference](https://www.pro-football-reference.com/players/salary.htm)\n",
        "\n",
        "![Image](https://i.imgur.com/8OltDf0.png)\n",
        "\n",
        "This is the main source of the data I am going to be working with. It provides all the scoring and salary information that I need for each player in the NFL for the 2017 season.\n",
        "\n",
        "This is a full fledged statistical treasure trove for many sports. The site conpiles data for Baseball, Football(professional and college), Basketball(professional and college), hockey, and soccer.They have several years worth of data available for all of these sports and allows for easy down of the data in csv format. If you are doing a sports analytical project this IS the place to find it. \n",
        "\n",
        "In the NFl pages there is information on players and teams and their statistics, statistical rankings,  awards, salaries, draft information and well as about coaches, executives and officials. There is not much data you would want that you can't find at this site. \n",
        "\n",
        "I am focused on looking at individual player's statistical performance and salary. This information is easily found on the website and it is provided in csv format for easy download. The site is easy to navigate with many pre-filled pages showing rankings on players and salaries. \n",
        "\n",
        "I will be back to this page for future use, even if just for informational purposes and not for a project, as there is so much information it is a joy to look through. \n",
        "***\n",
        "\n",
        "[Spotrac contract](https://www.spotrac.com/nfl/contracts/)\n",
        "\n",
        "![Image](https://i.imgur.com/DIBORG0.png)\n",
        "\n",
        "This site shows salary related information for all players and teams. It provides a nice way to see the full contract figures for all players, rather than a 1 year shapshot. \n",
        "\n",
        "This site is great for finding a lot of player salary information. While it does not provide scoring data we can find player's contract details, including bonuses and incentives as well as fines. \n",
        "\n",
        "This site also provides a year by year breakdown of contracts and how much money is guaranteed and how much is not. It gives a information on when players will be eligible to renegotiate their contract and lengths of contracts. There is a lot to digest here, but much of this is beyond the scope of my current project. This will be worth coming back to for followup projects though. \n",
        "***\n",
        "\n",
        "[HIghest paid NFL players per position](https://howmuch.net/articles/highest-paid-NFL-player-at-every-position)\n",
        "\n",
        "![Image](https://i.imgur.com/yGyyC2j.jpg)\n",
        "\n",
        "This site breaks down the highest paid players by position. We can then see which positions make the most money even if they do not score points during the games. \n",
        "\n",
        "While this site does not provide a full list of salaries for all players, it only gives a snapshot of the highest paid player at each position. This can be useful to see which positions we would expect to have the highest salaries. \n",
        "\n",
        "Also, knowing some information about the types of positions that are more likely to be involved in scoring points we see a higher values placed on those positions, Quarterback, Running Back, Wide Reveiver and Tight Ends. It will be interesting to see which positions are undervalued and overvalued based strictly on scoring as this chart shows that many non-scoring positions still have high salaries. "
      ]
    },
    {
      "metadata": {
        "id": "LuacMjSf2ses",
        "colab_type": "text"
      },
      "cell_type": "markdown",
      "source": [
        "# Part 3\n",
        "\n",
        "#### Plan your next steps\n",
        "- Describe at least 2 actions you'd take to get started with your project.\n",
        "- Use Markdown headings and lists to organize your plan.\n",
        "\n",
        "#### Stretch goals\n",
        "- Add detail to your plan.\n",
        "- Publish your project proposal on your GitHub Pages site. "
      ]
    },
    {
      "metadata": {
        "id": "SFmS6ZZld4ot",
        "colab_type": "text"
      },
      "cell_type": "markdown",
      "source": [
        "Since the data I am looking at is related to a sports theme, I found that there is an abundance of it out there. Not only is the information easy to find, it is also readily available in handy downloadable csv format. \n",
        "\n",
        "Steps I have already completed: \n",
        "- Identify the project goals\n",
        "- Find relevant data online\n",
        "- Download data locally\n",
        "- Initial inspection of data headers and values\n",
        "- Quick charting examples using Tableau Prep and Tableau Desktop\n",
        "\n",
        "Next steps in my analysis process:\n",
        "- Create a stronger hypothesis\n",
        "- Import data into Python local environment\n",
        "- Data wrangling to get the data in the simplest format for the values I want to analyze\n",
        "- Simple charting to ensure the data I have works for my hypothesis\n",
        "- Expand on the analysis to include position and team versus salary and scoring as well"
      ]
    },
    {
      "metadata": {
        "id": "0cahKBGY5yWd",
        "colab_type": "text"
      },
      "cell_type": "markdown",
      "source": [
        "This was published on my [GitHub Page](https://brianbehnke.github.io/2018-11-30-Project-Starting-Point/)"
      ]
    }
  ]
}