{
 "cells": [
  {
   "cell_type": "markdown",
   "metadata": {
    "colab_type": "text",
    "id": "i-n_5en3ER1o"
   },
   "source": [
    "# Data Science Unit 1 Sprint Challenge 3\n",
    "\n",
    "# Creating Professional Portfolios\n",
    "\n",
    "For your Sprint Challenge, you will **write about your upcoming [data storytelling portfolio project](https://learn.lambdaschool.com/ds/module/recedjanlbpqxic2r)**.\n",
    "\n",
    "(Don't worry, you don't have to choose your final idea now. For this challenge, you can write about any idea you're considering.)"
   ]
  },
  {
   "cell_type": "markdown",
   "metadata": {
    "colab_type": "text",
    "id": "OS0nW1vz1itX"
   },
   "source": [
    "# Part 1\n",
    "\n",
    "**Describe an idea** you could work on for your upcoming data storytelling project. What's your hypothesis?\n",
    "\n",
    "#### Write a [lede](https://www.thoughtco.com/how-to-write-a-great-lede-2074346) (first paragraph)\n",
    "- Put the bottom line up front.\n",
    "- Use 60 words or fewer. (The [Hemingway App](http://www.hemingwayapp.com/) gives you word count.)\n",
    "\n",
    "[This is hard](https://quoteinvestigator.com/2012/04/28/shorter-letter/), but you can do it!\n",
    "\n",
    "#### Stretch goals\n",
    "- Write more about your idea. Tell us what the story's about. Show us why it's interesting. Continue to follow the inverted pyramid structure. \n",
    "- Improve your readability. Post your \"before & after\" scores from the Hemingway App."
   ]
  },
  {
   "cell_type": "markdown",
   "metadata": {
    "colab_type": "text",
    "id": "bnLqMTWLd5i9"
   },
   "source": [
    "Think about why the people in some countries prosper, and some don't.  Is there a pattern?  Can we predict how a country will do in the future?  If we can see a pattern and predict, we can focus our resources to ease those problems.\n",
    "\n",
    "Countries that don't prosper may have:\n",
    "* More unemployment\n",
    "* Lower literacy rate\n",
    "* Larger inflation rate\n",
    "* Lower budget\n",
    "* Smaller industrial production rate\n",
    "* Less electricity production/comsumption\n",
    "* Less Exports\n",
    "* More Imports\n",
    "* Less Debt\n",
    "\n",
    "How are values for each feature calculated?  This knowledge will help us understand its impact on the population. An agrarian society will be prosperous even if the inflation in its cities is large.  \n",
    "\n",
    "A large labor force could be a problem if there aren't enough jobs.  How will they earn?  Will they resort to illegal activities?  If there are enough jobs, will some people become entrepreneurs?  Will they manufacture products locally, and trade with other countries?  This will definitely improve their prosperity."
   ]
  },
  {
   "cell_type": "markdown",
   "metadata": {
    "colab_type": "text",
    "id": "Nqf9oJJDDu-d"
   },
   "source": [
    "# Part 2\n",
    "\n",
    "#### Find sources\n",
    "- Link to at least 2 relevant sources for your topic. Sources could include any data or writing about your topic.\n",
    "- Use [Markdown](https://commonmark.org/help/) to format your links.\n",
    "- Summarize each source in 1-2 sentences.\n",
    "\n",
    "#### Stretch goals\n",
    "- Find more sources.\n",
    "- Use Markdown to add images from your sources.\n",
    "- Critically evaluate your sources in writing."
   ]
  },
  {
   "cell_type": "markdown",
   "metadata": {
    "colab_type": "text",
    "id": "xAJlf735-2T5"
   },
   "source": [
    "These are the sources we will consider.  Each source includes features about each country (ex. Population growth, Electricity production, Literacy rate, etc.)\n",
    "* [CIA Factbook](https://www.cia.gov/library/publications/download/)\n",
    "\n",
    "    Provides data for 250 countries from 2000 through 2017.\n",
    "\n",
    "\n",
    "* [World Bank](http://datatopics.worldbank.org/consumption/)\n",
    "\n",
    "    Provides data for around 70 countries - the countries World Bank donates to. World Bank obtains data on household consumption and expenditure. It uses [survey questions](http://datatopics.worldbank.org/consumption/detail#datasource) questions to get data when it is not available.  WorldBank data is pre-processed into consumption segment buckets:\n",
    "    \n",
    "    ![Image](./WorldBankData.png)\n",
    "\n",
    "\n",
    "* [Gapminder](https://www.gapminder.org/data/)\n",
    "\n",
    "    Includes data for 275 countries from 1979 through 2011"
   ]
  },
  {
   "cell_type": "markdown",
   "metadata": {
    "colab_type": "text",
    "id": "LuacMjSf2ses"
   },
   "source": [
    "# Part 3\n",
    "\n",
    "#### Plan your next steps\n",
    "- Describe at least 2 actions you'd take to get started with your project.\n",
    "- Use Markdown headings and lists to organize your plan.\n",
    "\n",
    "#### Stretch goals\n",
    "- Add detail to your plan.\n",
    "- Publish your project proposal on your GitHub Pages site. "
   ]
  },
  {
   "cell_type": "markdown",
   "metadata": {
    "colab_type": "text",
    "id": "SFmS6ZZld4ot"
   },
   "source": [
    "### Actions:\n",
    "* #### Get and pre-process data\n",
    "    * ##### CIA Factbook data\n",
    "        * Download data as zip files\n",
    "        * Each zip file contains multiple directories with HTML files\n",
    "        * Extract the HTML elements as Key/Value pairs with Key = Country Name, Value = Data\n",
    "        * Numbered data may contain commas. Remove these and convert the values to int/float\n",
    "    * ##### WorldBank data\n",
    "        * WorldBank uses Javascript to populate their webpage.  Use Selenium/Scrapy to get this data\n",
    "    * ##### Gapminder\n",
    "        * Gapminder uses Javascript-based form to get their data and display it on the page.  Then you can download it as CSV or XLSX.  We can use Selenium/Scrapy for this site as well.\n",
    "* #### Check data\n",
    "    * Are we missing any information? Can we backfill, frontfill those values?\n",
    "    * Use df.describe(), df.shape to understand the data characteristics.\n",
    "    * Plot numeric data features against each other\n",
    "    "
   ]
  }
 ],
 "metadata": {
  "colab": {
   "collapsed_sections": [],
   "name": "DS_Unit_1_Sprint_Challenge_3.ipynb",
   "provenance": [],
   "version": "0.3.2"
  },
  "kernelspec": {
   "display_name": "Python 3",
   "language": "python",
   "name": "python3"
  },
  "language_info": {
   "codemirror_mode": {
    "name": "ipython",
    "version": 3
   },
   "file_extension": ".py",
   "mimetype": "text/x-python",
   "name": "python",
   "nbconvert_exporter": "python",
   "pygments_lexer": "ipython3",
   "version": "3.6.6"
  }
 },
 "nbformat": 4,
 "nbformat_minor": 1
}
