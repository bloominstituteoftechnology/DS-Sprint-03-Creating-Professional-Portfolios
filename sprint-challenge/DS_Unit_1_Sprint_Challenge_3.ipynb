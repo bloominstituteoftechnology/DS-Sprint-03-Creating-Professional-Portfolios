{
 "cells": [
  {
   "cell_type": "markdown",
   "metadata": {
    "colab_type": "text",
    "id": "i-n_5en3ER1o"
   },
   "source": [
    "# Data Science Unit 1 Sprint Challenge 3\n",
    "\n",
    "# Creating Professional Portfolios\n",
    "\n",
    "For your Sprint Challenge, you will **write about your upcoming [data storytelling portfolio project](https://learn.lambdaschool.com/ds/module/recedjanlbpqxic2r)**.\n",
    "\n",
    "(Don't worry, you don't have to choose your final idea now. For this challenge, you can write about any idea you're considering.)"
   ]
  },
  {
   "cell_type": "markdown",
   "metadata": {
    "colab_type": "text",
    "id": "OS0nW1vz1itX"
   },
   "source": [
    "# Part 1\n",
    "\n",
    "**Describe an idea** you could work on for your upcoming data storytelling project. What's your hypothesis?\n",
    "\n",
    "#### Write a [lede](https://www.thoughtco.com/how-to-write-a-great-lede-2074346) (first paragraph)\n",
    "- Put the bottom line up front.\n",
    "- Use 60 words or fewer. (The [Hemingway App](http://www.hemingwayapp.com/) gives you word count.)\n",
    "\n",
    "[This is hard](https://quoteinvestigator.com/2012/04/28/shorter-letter/), but you can do it!\n",
    "\n",
    "#### Stretch goals\n",
    "- Write more about your idea. Tell us what the story's about. Show us why it's interesting. Continue to follow the inverted pyramid structure. \n",
    "- Improve your readability. Post your \"before & after\" scores from the Hemingway App."
   ]
  },
  {
   "cell_type": "markdown",
   "metadata": {
    "colab_type": "text",
    "id": "bnLqMTWLd5i9"
   },
   "source": []
  },
  {
   "cell_type": "markdown",
   "metadata": {
    "colab_type": "text",
    "id": "Nqf9oJJDDu-d"
   },
   "source": [
    "# Part 2\n",
    "\n",
    "#### Find sources\n",
    "- Link to at least 2 relevant sources for your topic. Sources could include any data or writing about your topic.\n",
    "- Use [Markdown](https://commonmark.org/help/) to format your links.\n",
    "- Summarize each source in 1-2 sentences.\n",
    "\n",
    "#### Stretch goals\n",
    "- Find more sources.\n",
    "- Use Markdown to add images from your sources.\n",
    "- Critically evaluate your sources in writing."
   ]
  },
  {
   "cell_type": "markdown",
   "metadata": {
    "colab_type": "text",
    "id": "xAJlf735-2T5"
   },
   "source": []
  },
  {
   "cell_type": "markdown",
   "metadata": {
    "colab_type": "text",
    "id": "LuacMjSf2ses"
   },
   "source": [
    "# Part 3\n",
    "\n",
    "#### Plan your next steps\n",
    "- Describe at least 2 actions you'd take to get started with your project.\n",
    "- Use Markdown headings and lists to organize your plan.\n",
    "\n",
    "#### Stretch goals\n",
    "- Add detail to your plan.\n",
    "- Publish your project proposal on your GitHub Pages site. "
   ]
  },
  {
   "cell_type": "markdown",
   "metadata": {
    "colab_type": "text",
    "id": "SFmS6ZZld4ot"
   },
   "source": []
  },
  {
   "cell_type": "markdown",
   "metadata": {},
   "source": [
    "![alt text](https://www.designboom.com/wp-content/uploads/2016/02/designstudio-premier-league-logo-graphic-design-designboom-09.jpg \"Rowrrr\")"
   ]
  },
  {
   "cell_type": "markdown",
   "metadata": {},
   "source": [
    "# A More Comprehensive Perspective on Premier League Managerial Success Over the Past 20 Seasons\n",
    "\n",
    "Premier League managerial success is often defined by trophies won.  Other markers are missing or insufficient.  \n",
    "\n",
    "I propose an investigation into managerial success over the past 20 seasons in the Premier League by looking at two metrics:\n",
    "   1. how managerial decisions(substitutions) affect points earned.  \n",
    "   2. by deriving a ratio: squad performance in comparison to the roster's combined weekly wages.  "
   ]
  },
  {
   "cell_type": "markdown",
   "metadata": {},
   "source": [
    "## Data Sources\n",
    "\n",
    "- #### A 20 season collection of data, housing match information for every fixture in that time period:\n",
    "  - [English Premier League Data for 20 Seasons to 2017/2018](https://data.world/africananalyst/english-premier-league-data-for-20-seasons-to-20172018)\n",
    "    \n",
    "- #### Sports salary data for top leages throughout the world, past decade:\n",
    "  - [EPL Salary Data](https://globalsportssalaries.com/)\n",
    "  \n",
    "- #### Results and Match Stats from past decade, EPL:\n",
    "  - [Match Results and Stats 06/07-17/18](https://www.kaggle.com/zaeemnalla/premier-league/version/1)\n"
   ]
  },
  {
   "cell_type": "markdown",
   "metadata": {},
   "source": [
    "### Action Plan\n",
    "\n",
    "##### Clean and Organize Data\n",
    "\n",
    "1. Scrape EPL Salary Data from Sporting Intelligence pdfs and format into database by team.\n",
    "2. Clean Premier League data\n",
    "    1. Combine match titles into single index field and pivot attributes to columns\n",
    "    2. Purge irrelevant data\n",
    "    3. Add Managers to initial table\n",
    "    4. Move managers to index and reorient columns to reflect individual match data\n",
    "3. Combine financial tables with match data\n",
    "\n",
    "##### Analysis\n",
    "\n",
    "1. Create ranking system to allocate points to managers that earn points after substitutions.\n",
    "2. Compare managerial PL records to cumulative squad salaries\n",
    "    1. Number of games won against more expensive sides\n",
    "    2. Points earned relative to squad salary discrepancy"
   ]
  },
  {
   "cell_type": "code",
   "execution_count": null,
   "metadata": {},
   "outputs": [],
   "source": []
  }
 ],
 "metadata": {
  "colab": {
   "collapsed_sections": [],
   "name": "DS_Unit_1_Sprint_Challenge_3.ipynb",
   "provenance": [],
   "version": "0.3.2"
  },
  "kernelspec": {
   "display_name": "Python 3",
   "language": "python",
   "name": "python3"
  },
  "language_info": {
   "codemirror_mode": {
    "name": "ipython",
    "version": 3
   },
   "file_extension": ".py",
   "mimetype": "text/x-python",
   "name": "python",
   "nbconvert_exporter": "python",
   "pygments_lexer": "ipython3",
   "version": "3.7.0"
  }
 },
 "nbformat": 4,
 "nbformat_minor": 1
}
