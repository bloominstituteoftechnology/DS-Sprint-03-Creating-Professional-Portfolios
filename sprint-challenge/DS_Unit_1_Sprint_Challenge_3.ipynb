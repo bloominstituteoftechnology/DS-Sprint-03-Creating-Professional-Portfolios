{
  "nbformat": 4,
  "nbformat_minor": 0,
  "metadata": {
    "colab": {
      "name": "DS_Unit_1_Sprint_Challenge_3.ipynb",
      "version": "0.3.2",
      "provenance": [],
      "collapsed_sections": []
    },
    "kernelspec": {
      "name": "python3",
      "display_name": "Python 3"
    }
  },
  "cells": [
    {
      "metadata": {
        "id": "i-n_5en3ER1o",
        "colab_type": "text"
      },
      "cell_type": "markdown",
      "source": [
        "# Data Science Unit 1 Sprint Challenge 3\n",
        "\n",
        "# Creating Professional Portfolios\n",
        "\n",
        "For your Sprint Challenge, you will **write about your upcoming [data storytelling portfolio project](https://learn.lambdaschool.com/ds/module/recedjanlbpqxic2r)**.\n",
        "\n",
        "(Don't worry, you don't have to choose your final idea now. For this challenge, you can write about any idea you're considering.)"
      ]
    },
    {
      "metadata": {
        "id": "OS0nW1vz1itX",
        "colab_type": "text"
      },
      "cell_type": "markdown",
      "source": [
        "# Part 1\n",
        "\n",
        "**Describe an idea** you could work on for your upcoming data storytelling project. What's your hypothesis?\n",
        "\n",
        "#### Write a [lede](https://www.thoughtco.com/how-to-write-a-great-lede-2074346) (first paragraph)\n",
        "- Put the bottom line up front.\n",
        "- Use 60 words or fewer. (The [Hemingway App](http://www.hemingwayapp.com/) gives you word count.)\n",
        "\n",
        "[This is hard](https://quoteinvestigator.com/2012/04/28/shorter-letter/), but you can do it!\n",
        "\n",
        "#### Stretch goals\n",
        "- Write more about your idea. Tell us what the story's about. Show us why it's interesting. Continue to follow the inverted pyramid structure. \n",
        "- Improve your readability. Post your \"before & after\" scores from the Hemingway App."
      ]
    },
    {
      "metadata": {
        "id": "bnLqMTWLd5i9",
        "colab_type": "text"
      },
      "cell_type": "markdown",
      "source": [
        "I am collecting telemetry data on Path of Exile from aggregate data sources over a one week period to analyze player trends and make predictive analysis of future content by scraping data with BS4 and the api for Path of Exile. - **Post graduate, Poor. Aim for 14**\n",
        "\n",
        "\n",
        "  I am collecting player driven data on Path of Exile from data sources. The data collection time is one week. The results provide player trends to make predictions of future content. Tools include GGG's API, beautiful soup and many data science python libraries. **Grade 7. Good.**\n",
        "  \n",
        "   There is a lot of controversy right now in the gaming scene about ARPG's. Blizzard recently revealed plans to start creating content on mobile devices. This split their fanbase into two parts. Those who are indifferent and those who hate the idea. Industry leading studios like Blizzard ignore the desires of their fanbase.  This is a conscious choice.\n",
        "   \n",
        "This choice allows Blizzard to increase their market share in foreign countries. China, Korea, and Japan have a very large mobile gaming market. Blizzard is working with Chinese developers to help release their new content in a way that will appeal to their new audience. Meanwhile, smaller name studios continue to cater to player desire. \n",
        "\n",
        "What is it about GGG Studio's content that fans love so much? This project plans to collect data on how players play to better answer that question. This study is two parts. Part one takes place in December. Part two will take place once fans and Blizzard cut ties with the release of Blizzard's mobile expansions. "
      ]
    },
    {
      "metadata": {
        "id": "Nqf9oJJDDu-d",
        "colab_type": "text"
      },
      "cell_type": "markdown",
      "source": [
        "# Part 2\n",
        "\n",
        "#### Find sources\n",
        "- Link to at least 2 relevant sources for your topic. Sources could include any data or writing about your topic.\n",
        "- Use [Markdown](https://commonmark.org/help/) to format your links.\n",
        "- Summarize each source in 1-2 sentences.\n",
        "\n",
        "#### Stretch goals\n",
        "- Find more sources.\n",
        "- Use Markdown to add images from your sources.\n",
        "- Critically evaluate your sources in writing."
      ]
    },
    {
      "metadata": {
        "id": "xAJlf735-2T5",
        "colab_type": "text"
      },
      "cell_type": "markdown",
      "source": [
        "[POE Ninja](https://poe.ninja/)\n",
        "POE Ninja is a data collection website that tracks the player driven economy and player choices for their character builds.\n",
        "\n",
        "[POE Goods](http://poe.trade/)\n",
        "POE Goods provides additional data on the player driven economy, as well as in demand items and their associated modifiers.\n",
        "\n",
        "[Path Of Exile Forum: Shops](https://www.pathofexile.com/forum/view-forum/standard-trading-shops)\n",
        "GGG provides players with reserved forum threads to sell their gear, as well as in game inventory stash tabs to sell in real time.\n",
        "\n",
        "[Wrath of the Community](https://kotaku.com/blizzard-says-it-wasnt-expecting-fans-to-be-this-angry-1830204721)\n",
        "Polygon interview. 'Blizzard did not expect fans to be this angry over Diablo mobile'\n",
        "\n"
      ]
    },
    {
      "metadata": {
        "id": "LuacMjSf2ses",
        "colab_type": "text"
      },
      "cell_type": "markdown",
      "source": [
        "# Part 3\n",
        "\n",
        "#### Plan your next steps\n",
        "- Describe at least 2 actions you'd take to get started with your project.\n",
        "- Use Markdown headings and lists to organize your plan.\n",
        "\n",
        "#### Stretch goals\n",
        "- Add detail to your plan.\n",
        "- Publish your project proposal on your GitHub Pages site. "
      ]
    },
    {
      "metadata": {
        "id": "SFmS6ZZld4ot",
        "colab_type": "text"
      },
      "cell_type": "markdown",
      "source": [
        " # Project Plan\n",
        " \n",
        " ## Gathering the data\n",
        " - Read documention on using GGG's API to collect data. \n",
        " - Build a framework for scraping GGG forum, poe goods, poe ninja for data with beautiful soup.\n",
        " - Parse and store data into seperate dataframes\n",
        " - Dataframes \n",
        "  - Player Metrics (Signup date, playtime total, (look to see if i can get playtime by actually day to analyze what days folk play the most))\n",
        "  - Player Build (Character Base Type, Character Ascendency Choice, Skill Gems, Level, Passive Skill Points, Player Stats(Life, Dmg, Attributes, ETC))\n",
        "  - Player Items (Weapon, Offhand, Helmet, Armour, Gloves, Boots, Belt, Amulet, Ring1, Ring2, Flask1, Flask2, Flask3, Flask4, Flask5)\n",
        "  - Economy Data (DateStamp, (Long list of currency....not typing out the 50 types), items_for_sale, sold_items)\n",
        "\n",
        "## Cleaning the data\n",
        "- Use pandas to remove null values, especially for PlayerItems.Offhand\n",
        "- Sort the data\n",
        "  - Make many new dataframes from existing data, such as change in currency price over the week, the most sold items, the highest amount of items for sale, most expensive items, cheapest items, most commonly used equipment\n",
        "  \n",
        "## Analyzing the data\n",
        "- Look for patterns or trends in currency prices, in build types, in skill gem pairings to start with.\n",
        " - Should be able to see what the 'best ' builds are based on how many people succesfully use them.\n",
        " - Make predictions about what currency is good to invest in based on market trends.\n",
        " - Make predictions on what skill gems may be reworked in the future based on damage output from players using them.\n",
        " - Make predictions about the likelyhood of certain character builds being made based on popularity, and predict if the items used in those builds are likely to see an increase in price.\n",
        "\n",
        "\n",
        "\n",
        "\n",
        "# published to Github Pages\n",
        "\n",
        "[My post](https://edwardauron.github.io/2018-11-30-poe-project-start/)"
      ]
    }
  ]
}