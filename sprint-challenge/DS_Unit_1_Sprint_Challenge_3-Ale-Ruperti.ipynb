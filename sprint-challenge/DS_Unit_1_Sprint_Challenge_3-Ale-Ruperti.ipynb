{
 "cells": [
  {
   "cell_type": "markdown",
   "metadata": {
    "colab_type": "text",
    "id": "i-n_5en3ER1o"
   },
   "source": [
    "# Data Science Unit 1 Sprint Challenge 3\n",
    "\n",
    "# Creating Professional Portfolios\n",
    "\n",
    "For your Sprint Challenge, you will **write about your upcoming [data storytelling portfolio project](https://learn.lambdaschool.com/ds/module/recedjanlbpqxic2r)**.\n",
    "\n",
    "(Don't worry, you don't have to choose your final idea now. For this challenge, you can write about any idea you're considering.)"
   ]
  },
  {
   "cell_type": "markdown",
   "metadata": {
    "colab_type": "text",
    "id": "OS0nW1vz1itX"
   },
   "source": [
    "# Part 1\n",
    "\n",
    "#### Write a lede:\n",
    "\n",
    "**To Degree, or Not to Degree.**<br/> <br/>Does having a degree before Lambda affect your chances of getting hired? If so, to what extent? Based on anecdotal evidence, I'm thinking no. But, in the spirit of intellectual rigor, I'm going to analyze anonymous student data to find out. \n",
    "\n",
    "#### Stretch goals:\n",
    "\n",
    "\"Good for you, Ale. But, why?\"\n",
    "\n",
    "Fair question, imaginary reader friend. \n",
    "\n",
    "First, I'm currently studying Data Science at Lambda School. 27 Weeks from now, I'm going to be spending all my disposable time applying to jobs. I want to get a better sense of what obstacles I may or may not face. \n",
    "\n",
    "Second, this is going to be great practice using real-world data. \n",
    "\n",
    "Third, I'm probably not the only student who's going to ask this question in the near future.  Establishing a place to visualize all the data will be useful for Lambda and its students. \n",
    "\n"
   ]
  },
  {
   "cell_type": "markdown",
   "metadata": {
    "colab_type": "text",
    "id": "Nqf9oJJDDu-d"
   },
   "source": [
    "# Part 2\n",
    "\n",
    "#### Sources\n",
    "[North Star Podcast w/ Austen Allred](http://www.perell.com/podcast/austen-allred), Lambda CEO discussing the programs and some of their outcomes. \n",
    "\n",
    "[Outcomes](https://lambdaschool.com/outcomes/), Lambda School's official public placement rate info on their website.\n",
    "\n",
    "#### Stretch goals:\n",
    "There isn't one place that publishes an actively tracked metric for placement rates, let alone broken down by degree status/type. There's mostly anecdotal evidence from a variety of different sources (Lambda's website, podcasts w/ Austen, review sites, Quora, Reddit, etc). All of this is tracked internally, I'm told. That's why I requested the data directly from Lambda itself. "
   ]
  },
  {
   "cell_type": "markdown",
   "metadata": {
    "colab_type": "text",
    "id": "LuacMjSf2ses"
   },
   "source": [
    "# Part 3\n",
    "\n",
    "#### Next steps\n",
    "\n",
    "- Follow up with Lambda School to get raw data from them.\n",
    "- Review and request any additional data.\n",
    "\n"
   ]
  },
  {
   "cell_type": "markdown",
   "metadata": {},
   "source": [
    "#### Stretch goals:\n",
    "\n",
    "- Clean and organize data. Find missing values and track how they're handled.\n",
    "- Analyze effects of college degree on placement rates. \n",
    "- Look for other relationships in the data.\n",
    "- Review findings. Write a post detailing the methodology, results, and ideas for further analysis.\n",
    "- Publish!\n"
   ]
  },
  {
   "cell_type": "code",
   "execution_count": null,
   "metadata": {
    "collapsed": true
   },
   "outputs": [],
   "source": []
  }
 ],
 "metadata": {
  "colab": {
   "collapsed_sections": [],
   "name": "DS_Unit_1_Sprint_Challenge_3.ipynb",
   "provenance": [],
   "version": "0.3.2"
  },
  "kernelspec": {
   "display_name": "Python 3",
   "language": "python",
   "name": "python3"
  },
  "language_info": {
   "codemirror_mode": {
    "name": "ipython",
    "version": 3
   },
   "file_extension": ".py",
   "mimetype": "text/x-python",
   "name": "python",
   "nbconvert_exporter": "python",
   "pygments_lexer": "ipython3",
   "version": "3.6.3"
  }
 },
 "nbformat": 4,
 "nbformat_minor": 1
}
