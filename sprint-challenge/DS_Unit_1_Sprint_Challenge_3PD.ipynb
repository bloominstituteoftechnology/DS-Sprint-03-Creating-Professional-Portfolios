{
  "nbformat": 4,
  "nbformat_minor": 0,
  "metadata": {
    "colab": {
      "name": "DS_Unit_1_Sprint_Challenge_3.ipynb",
      "version": "0.3.2",
      "provenance": [],
      "collapsed_sections": []
    },
    "kernelspec": {
      "name": "python3",
      "display_name": "Python 3"
    }
  },
  "cells": [
    {
      "metadata": {
        "id": "i-n_5en3ER1o",
        "colab_type": "text"
      },
      "cell_type": "markdown",
      "source": [
        "# Data Science Unit 1 Sprint Challenge 3\n",
        "\n",
        "# Creating Professional Portfolios\n",
        "\n",
        "For your Sprint Challenge, you will **write about your upcoming [data storytelling portfolio project](https://learn.lambdaschool.com/ds/module/recedjanlbpqxic2r)**.\n",
        "\n",
        "(Don't worry, you don't have to choose your final idea now. For this challenge, you can write about any idea you're considering.)"
      ]
    },
    {
      "metadata": {
        "colab_type": "text",
        "id": "N1xBWdOcr7--"
      },
      "cell_type": "markdown",
      "source": [
        "# Project Proposal: Pierre Damiba"
      ]
    },
    {
      "metadata": {
        "colab_type": "text",
        "id": "WfWXd2R5r7-_"
      },
      "cell_type": "markdown",
      "source": [
        "##Lede"
      ]
    },
    {
      "metadata": {
        "colab_type": "text",
        "id": "6BuTSTHFr7-_"
      },
      "cell_type": "markdown",
      "source": [
        "### Lede\n",
        "\n",
        "In 1836, Frederick Marryat wrote Mr. Midshipman Easy. The novel introduced the concept of a Truel, a duel with three participants. As opposed to simultaneous attacks in a Duel, each participant fires in succession in a Truel. Marryat argued that if the first participant was a terrible shot, their best bet was to shoot in the air. "
      ]
    },
    {
      "metadata": {
        "colab_type": "text",
        "id": "nK-mFizjr7_A"
      },
      "cell_type": "markdown",
      "source": [
        "### Stretch Goal\n",
        "\n",
        "### The value of adding sentiment analysis to your Financial Machine Learning Algorithms\n",
        " \n",
        "In Soccernomics, by Kuper and Szymanski, they look at the penalty kick from a game theory perspective. If you look at past penalty kicks in soccer, the data overwhelmingly suggests that  the best option for the penalty taker is to kick the ball right down the middle.\n",
        "\n",
        "![alt text](https://wjspaniel.files.wordpress.com/2014/06/pks.jpg)\n",
        "\n",
        "However , there is huge stigma associated with missing a penalty kick down the middle, so many payers would rather take the chance of 76% or 70% instead of 80%, to avoid the embarrassment of missing down the middle. As you can see, when the goalie stays middle, there is a 0 percent scoring rate, so when you go middle and fail, you fail hard.\n",
        "\n",
        "If we look through financial transactions through the same lens, we can create models that predict the real world with more accuracy.  When creating financial instruments like the syndicated revolver, the goal is to invite as few banks as possible on the largest deal as possible. By using sentiment analysis along with a classification algorithm(and some gradient boosting if appropriate), you can incorporate human behavior into your models. \n",
        "\n",
        "In 1836, Frederick Marryat wrote Mr. Midshipman Easy. In this essay he introduced the concept of a Truel, a duel with three participants. Each participant fires in succession. Marryat argued that if the first participant was a terrible shot, their best bet is to shoot in the air. The remaining participants would presumably fire at each other, not wanting to waste their shot on someone who fired in the air. \n",
        "\n",
        "####If the order is P, Q, R, with respective probabilities\n",
        "\n",
        "![alt text](https://wikimedia.org/api/rest_v1/media/math/render/svg/ed15b6b7eca4d6b5b491f63fa3c462cafea19e24)\n",
        "\n",
        "####and it is R's turn, R should waste his shot if:\n",
        "\n",
        "\n",
        "![alt text](\n",
        "https://wikimedia.org/api/rest_v1/media/math/render/svg/40f8aeb6b984ef8d86d7364dc8fe281a440406ed\n",
        ")\n",
        "\n",
        "#####but not do so if:\n",
        "\n",
        "\n",
        "![alt text](\n",
        "https://wikimedia.org/api/rest_v1/media/math/render/svg/7ce4b79d64c20ead146f7a30d478d956933ee896\n",
        ")\n",
        "####In between, R should waste his shot if:\n",
        "\n",
        "\n",
        "![alt text](\n",
        "https://wikimedia.org/api/rest_v1/media/math/render/svg/56ba1ecf26b74bd6a57ef2dc5e3f3d917cbd6238\n",
        ")\n",
        "\n",
        "\n",
        "By using sentiment analysis instead of the participant’s accuracy, we can reframe this formula to gauge the feeling of a company on social media. Companies that are talked about positively might be more attractive targets than the underlying financials suggest, and vice versa.\n",
        " \n",
        " \n",
        "By using records of past bank transactions, we can predict\n",
        " \n",
        " "
      ]
    },
    {
      "metadata": {
        "id": "TKs0r0bLtyNR",
        "colab_type": "text"
      },
      "cell_type": "markdown",
      "source": [
        "All banks must recxoup a fee when they lend money because they must pay their trueuusry to borrow the funds. The payment funs are raised  from the street by issuing debt,  new equity, or taking deposits. \n",
        "\n",
        "All of those things cost the bank money.\n",
        "\n",
        "Syndicated Revolvers are costly because due to heavy regulation,  all of the big public companies are stable reliable entities so they must enter cmmited revolvers. In a commited revolver, a contract might require you to lend hundreds of millions of dollars over a 5 year portion. For example, if you have a maximum facility amount of $500"
      ]
    },
    {
      "metadata": {
        "colab_type": "text",
        "id": "Akv3_pwLr7_B"
      },
      "cell_type": "markdown",
      "source": [
        "## Sources"
      ]
    },
    {
      "metadata": {
        "id": "J1fPXR-ztOg_",
        "colab_type": "text"
      },
      "cell_type": "markdown",
      "source": [
        "### Source \n",
        "\n",
        "https://link.springer.com/article/10.1023/A:1005038921033"
      ]
    },
    {
      "metadata": {
        "colab_type": "text",
        "id": "0bR33EoRr7_C"
      },
      "cell_type": "markdown",
      "source": [
        "### Source 2\n",
        "\n",
        "[COOPERATIVE VS. NON-COOPERATIVE TRUELS :\n",
        "LITTLE AGREEMENT, BUT DOES THAT MATTER?](http://www.crde.umontreal.ca/cahiers/16-2000-cah.pdf)\n",
        "\n",
        "By Walter Bossert, , Steven J. Brams,  and D. Marc Kilgour\n",
        "\n",
        "####Do you gain a significant advantage by cooperating in a Truel? Is it ever a Nash equilibruim for all players to shoot in the air? What happens when no one plays?\n",
        "\n",
        " Social Sciences and Humanities Research Council of Canada\n",
        " \n",
        " Cashier 16-2000, (October 2000)\n"
      ]
    },
    {
      "metadata": {
        "colab_type": "text",
        "id": "L7O87jbBr7_C"
      },
      "cell_type": "markdown",
      "source": [
        "### Source 3\n",
        "\n",
        "http://www.math.ucla.edu/~tom/papers/unpublished/truel2002.pdf\n",
        "\n"
      ]
    },
    {
      "metadata": {
        "colab_type": "text",
        "id": "_3ZjSmSyr7_B"
      },
      "cell_type": "markdown",
      "source": [
        "### Source 4\n",
        "\n",
        "\n",
        "\n",
        "[The Truel: An exploration of the game theory behnd the Truel from a political perspetive. ](\n",
        "https://www.jstor.org/stable/2691167?origin=crossref&seq=1#page_scan_tab_contents\n",
        ")\n",
        "\n",
        "By D. Marc Kilgour and Steven J. Brams\n",
        "\n",
        "\n",
        "####An exploration of the origin, history, and game theory behind the Truel. How does the Truel apply to a  mathematical perspetive? \n",
        "\n",
        "\n",
        "Mathematics Magazine\n",
        "\n",
        "Vol. 70, No. 5 (Dec., 1997), pp. 315-326"
      ]
    },
    {
      "metadata": {
        "id": "oZUk-OYotOXc",
        "colab_type": "text"
      },
      "cell_type": "markdown",
      "source": [
        "### Source 5\n",
        "\n",
        "https://link.springer.com/article/10.1007/BF01774660\n"
      ]
    },
    {
      "metadata": {
        "colab_type": "text",
        "id": "ElS3EaArtWn4"
      },
      "cell_type": "markdown",
      "source": [
        "### Source 6\n",
        "\n",
        "https://aip.scitation.org/doi/abs/10.1063/1.2008603"
      ]
    },
    {
      "metadata": {
        "colab_type": "text",
        "id": "F3hr0p1FtW8H"
      },
      "cell_type": "markdown",
      "source": [
        "### Source 7\n",
        "\n",
        "http://www.rci.rutgers.edu/~mmm431/quant_methods_F13/MnMs_web_exercise.pdf\n",
        "\n"
      ]
    },
    {
      "metadata": {
        "colab_type": "text",
        "id": "glnGaWptr7_D"
      },
      "cell_type": "markdown",
      "source": [
        "## Action Items"
      ]
    },
    {
      "metadata": {
        "colab_type": "text",
        "id": "V_A1Sp_Mr7_D"
      },
      "cell_type": "markdown",
      "source": [
        "### Action Item 1\n",
        "\n",
        "1) Add another column to my dataframe that captures sentiment analysis. Sentdex offers sentiment analysis.\n",
        "\n"
      ]
    },
    {
      "metadata": {
        "colab_type": "text",
        "id": "cVOt7lour7_G"
      },
      "cell_type": "markdown",
      "source": [
        "### Action Item 2\n",
        "\n",
        "2) Create a machine learning algorythm that combines classification and sentiment analysis. Build on existing practices.\n",
        "\n"
      ]
    },
    {
      "metadata": {
        "colab_type": "text",
        "id": "Nj71wk7Vr7_H"
      },
      "cell_type": "markdown",
      "source": [
        "### Action Item 3\n",
        "\n",
        "3) Tweak the time delay on sentiment analysis. What if we use sentiment from a month prior to the transaction? How long does it take for the decision to be made?\n",
        "\n"
      ]
    },
    {
      "metadata": {
        "colab_type": "text",
        "id": "KXEay_wLr7_H"
      },
      "cell_type": "markdown",
      "source": [
        "### Action Item 4\n",
        "\n",
        "4) Propose a model designed for the real world incorporating live sentiment analysis."
      ]
    }
  ]
}