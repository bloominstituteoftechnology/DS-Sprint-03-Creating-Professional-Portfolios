{
  "nbformat": 4,
  "nbformat_minor": 0,
  "metadata": {
    "colab": {
      "name": "DS_Unit_1_Sprint_Challenge_3.ipynb",
      "version": "0.3.2",
      "provenance": [],
      "collapsed_sections": [],
      "include_colab_link": true
    },
    "kernelspec": {
      "name": "python3",
      "display_name": "Python 3"
    }
  },
  "cells": [
    {
      "cell_type": "markdown",
      "metadata": {
        "id": "view-in-github",
        "colab_type": "text"
      },
      "source": [
        "<a href=\"https://colab.research.google.com/github/BrittonWinterrose/DS-Sprint-03-Creating-Professional-Portfolios/blob/master/sprint-challenge/Sprint%2003%20Challenge.ipynb\" target=\"_parent\"><img src=\"https://colab.research.google.com/assets/colab-badge.svg\" alt=\"Open In Colab\"/></a>"
      ]
    },
    {
      "metadata": {
        "id": "i-n_5en3ER1o",
        "colab_type": "text"
      },
      "cell_type": "markdown",
      "source": [
        "# Data Science Unit 1 Sprint Challenge 3\n",
        "\n",
        "# Creating Professional Portfolios\n",
        "\n",
        "For your Sprint Challenge, you will **write about your upcoming [data storytelling portfolio project](https://learn.lambdaschool.com/ds/module/recedjanlbpqxic2r)**.\n",
        "\n",
        "(Don't worry, you don't have to choose your final idea now. For this challenge, you can write about any idea you're considering.)"
      ]
    },
    {
      "metadata": {
        "id": "OS0nW1vz1itX",
        "colab_type": "text"
      },
      "cell_type": "markdown",
      "source": [
        "# Part 1\n",
        "\n",
        "**Describe an idea** you could work on for your upcoming data storytelling project. What's your hypothesis?\n",
        "\n",
        "#### Write a [lede](https://www.thoughtco.com/how-to-write-a-great-lede-2074346) (first paragraph)\n",
        "- Put the bottom line up front.\n",
        "- Use 60 words or fewer. (The [Hemingway App](http://www.hemingwayapp.com/) gives you word count.)\n",
        "\n",
        "[This is hard](https://quoteinvestigator.com/2012/04/28/shorter-letter/), but you can do it!\n",
        "\n",
        "#### Stretch goals\n",
        "- Write more about your idea. Tell us what the story's about. Show us why it's interesting. Continue to follow the inverted pyramid structure. \n",
        "- Improve your readability. Post your \"before & after\" scores from the Hemingway App."
      ]
    },
    {
      "metadata": {
        "id": "bnLqMTWLd5i9",
        "colab_type": "text"
      },
      "cell_type": "markdown",
      "source": [
        "# *Part 1 Response*\n",
        "\n",
        "# Live like Royalty - The most profitable places to be a Data Scientist in 2019\n",
        "## Data scientist income vs real cost of living across 2000+ cities. See the best places to live long and prosper in the United States.\n"
      ]
    },
    {
      "metadata": {
        "id": "Nqf9oJJDDu-d",
        "colab_type": "text"
      },
      "cell_type": "markdown",
      "source": [
        "# Part 2\n",
        "\n",
        "#### Find sources\n",
        "- Link to at least 2 relevant sources for your topic. Sources could include any data or writing about your topic.\n",
        "- Use [Markdown](https://commonmark.org/help/) to format your links.\n",
        "- Summarize each source in 1-2 sentences.\n",
        "\n",
        "#### Stretch goals\n",
        "- Find more sources.\n",
        "- Use Markdown to add images from your sources.\n",
        "- Critically evaluate your sources in writing."
      ]
    },
    {
      "metadata": {
        "id": "xAJlf735-2T5",
        "colab_type": "text"
      },
      "cell_type": "markdown",
      "source": [
        "# *Part 2 Response*\n",
        "# Key Sources\n",
        "## [Zillow Research](https://www.zillow.com/research/data/) \n",
        "***Description:*** Zillow Research publishes rental statistics by zipcode and neighborhoood.  Price of renting or buying a home is a large portion of a typical cost of living expense.  Relocation would require either rental of, or purchase of, appropriate living quarters so understanding the real world costs of these prices is important. \n",
        "\n",
        "## [US Bureau of Labor Statistics](https://www.bls.gov/data/)\n",
        "***Description:*** The US BLS collects salary data that will be usefull in determining the average income amounts. The BLS also collects consumer price index data as well that will help identify the variations in cost of living accountable to differences in goods prices. \n",
        "\n",
        "## [Glassdoor](https://www.glassdoor.com/Salaries/provo-data-scientist-salary-SRCH_IL.0,5_IM708_KO6,20.htm)\n",
        "***Description:*** Glassdoor collects the most up-to-date salary information and has ranges for that information for various levels of work experience. They also share how much expected additional compensation is given through stock and bonuses. \n",
        "\n"
      ]
    },
    {
      "metadata": {
        "id": "LuacMjSf2ses",
        "colab_type": "text"
      },
      "cell_type": "markdown",
      "source": [
        "# Part 3\n",
        "\n",
        "#### Plan your next steps\n",
        "- Describe at least 2 actions you'd take to get started with your project.\n",
        "- Use Markdown headings and lists to organize your plan.\n",
        "\n",
        "#### Stretch goals\n",
        "- Add detail to your plan.\n",
        "- Publish your project proposal on your GitHub Pages site. "
      ]
    },
    {
      "metadata": {
        "id": "_IFLh8HocmtC",
        "colab_type": "text"
      },
      "cell_type": "markdown",
      "source": [
        "# *Part 3 Response*\n",
        "\n",
        "# Next Steps\n",
        "\n",
        "\n",
        "1.   Investigate whether scraping glassdoor is viable. I will likely try Selenium before beautiful soup since I'm a beginner but maybe not.\n",
        "\n",
        "2.   Download and begin piecing together the cost of living data from Zillow Research for housing and the data from Bureau of Labor Statistics for CPI. \n",
        "\n",
        "3.   Determine which additional cost of living factors to include in the calculation as fixed expense options and which to include as variable options. Current thoughts are to include adjustments for having kids/no kids, frequency of dining out, typical internet plan, student loan monthly amount/percentage, size of desired dwelling space, and whether a car is bought/needed. \n",
        "\n"
      ]
    }
  ]
}