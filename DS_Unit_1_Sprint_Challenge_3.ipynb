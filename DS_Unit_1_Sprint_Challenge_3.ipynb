{
  "nbformat": 4,
  "nbformat_minor": 0,
  "metadata": {
    "colab": {
      "name": "DS_Unit_1_Sprint_Challenge_3.ipynb",
      "version": "0.3.2",
      "provenance": [],
      "collapsed_sections": [],
      "include_colab_link": true
    },
    "kernelspec": {
      "name": "python3",
      "display_name": "Python 3"
    }
  },
  "cells": [
    {
      "cell_type": "markdown",
      "metadata": {
        "id": "view-in-github",
        "colab_type": "text"
      },
      "source": [
        "<a href=\"https://colab.research.google.com/github/veritaem/DS-Sprint-03-Creating-Professional-Portfolios/blob/master/DS_Unit_1_Sprint_Challenge_3.ipynb\" target=\"_parent\"><img src=\"https://colab.research.google.com/assets/colab-badge.svg\" alt=\"Open In Colab\"/></a>"
      ]
    },
    {
      "metadata": {
        "id": "i-n_5en3ER1o",
        "colab_type": "text"
      },
      "cell_type": "markdown",
      "source": [
        "# Data Science Unit 1 Sprint Challenge 3\n",
        "\n",
        "# Creating Professional Portfolios\n",
        "\n",
        "For your Sprint Challenge, you will **write about your upcoming [data storytelling portfolio project](https://learn.lambdaschool.com/ds/module/recedjanlbpqxic2r)**.\n",
        "\n",
        "(Don't worry, you don't have to choose your final idea now. For this challenge, you can write about any idea you're considering.)"
      ]
    },
    {
      "metadata": {
        "id": "OS0nW1vz1itX",
        "colab_type": "text"
      },
      "cell_type": "markdown",
      "source": [
        "# Part 1\n",
        "\n",
        "**Describe an idea** you could work on for your upcoming data storytelling project. What's your hypothesis?\n",
        "\n",
        "#### Write a [lede](https://www.thoughtco.com/how-to-write-a-great-lede-2074346) (first paragraph)\n",
        "- Put the bottom line up front.\n",
        "- Use 60 words or fewer. (The [Hemingway App](http://www.hemingwayapp.com/) gives you word count.)\n",
        "\n",
        "[This is hard](https://quoteinvestigator.com/2012/04/28/shorter-letter/), but you can do it!\n",
        "\n",
        "#### Stretch goals\n",
        "- Write more about your idea. Tell us what the story's about. Show us why it's interesting. Continue to follow the inverted pyramid structure. \n",
        "- Improve your readability. Post your \"before & after\" scores from the Hemingway App."
      ]
    },
    {
      "metadata": {
        "id": "bnLqMTWLd5i9",
        "colab_type": "text"
      },
      "cell_type": "markdown",
      "source": [
        "###What should be in the Lede?\n",
        "\n",
        "**Who:** _Daniel_\n",
        "\n",
        "**What:** _have a project idea with public policy_\n",
        "\n",
        "**When:** _Over the Trump presidency_\n",
        "\n",
        "**Where:** _party affiliation and possibly geographic location_\n",
        "\n",
        "**Why:** _It would be interesting to track, not the reality of the policies, but the perception of them._\n",
        "\n",
        "**How:** _Polling websites, data from newspaper polls, 538_"
      ]
    },
    {
      "metadata": {
        "id": "rXsZajftZwbi",
        "colab_type": "text"
      },
      "cell_type": "markdown",
      "source": [
        "Lede\n",
        "---\n",
        "\n",
        "\n",
        "My project will be about the public's perception of the Trump presidency and how it has changed \n",
        "over time. This analysis base is on the party and geographic regions of the respondents.  The\n",
        "narrative will cover various policies and will seek to explain the changes. The data will use existing\n",
        "sets from polling sites, 538, and news sites."
      ]
    },
    {
      "metadata": {
        "id": "pHcY2KTOqkCQ",
        "colab_type": "text"
      },
      "cell_type": "markdown",
      "source": [
        "![img1](https://i.imgur.com/K6dtIFr.png =650x)\n",
        "\n",
        "this one is before hemingway\n",
        "\n",
        "<br>\n",
        "    <br>\n",
        "    <br>\n",
        "    this one is after\n",
        "    \n",
        "   ![img2](https://i.imgur.com/IQDIhPF.png =650x)"
      ]
    },
    {
      "metadata": {
        "id": "TXYSPEjdzRmv",
        "colab_type": "text"
      },
      "cell_type": "markdown",
      "source": [
        "Why it matters\n",
        "===\n",
        "<br>\n",
        "<br>\n",
        "\n",
        "\n",
        "President Trump is someone who wields _immense_ power. Yet, he is  accountable to those under him.  This means that no matter how good or bad a policy may be, it may not reflect well or age well.  It may also cause less backlash than may be prudent.\n",
        "\n",
        "People do not know the intricacies of policy well.  This is because they spend their time working, feeding families, and living lives. This means the perception of most policies form through social interactions and news.  Social interaction does not usually rely on hard data and thoughtful analysis.  News sites are becoming more agenda-oriented, whether it is for views or a narrative.  This means that public perception is less driven less by facts and more by emotion.  This introduces a wrinkle into the task of governing in a free country.  Because of these issues, it is a good idea to keep an eye on the data and be aware of shifts.  This allows you to explore what might cause a change, and what sort of steps could happen to enact your own change.\n",
        "\n",
        "Using the polling data, I intend to construct a series of timelines and graphs.  these will show how policy perceptions change over time by party and geography."
      ]
    },
    {
      "metadata": {
        "id": "Nqf9oJJDDu-d",
        "colab_type": "text"
      },
      "cell_type": "markdown",
      "source": [
        "# Part 2\n",
        "\n",
        "#### Find sources\n",
        "- Link to at least 2 relevant sources for your topic. Sources could include any data or writing about your topic.\n",
        "- Use [Markdown](https://commonmark.org/help/) to format your links.\n",
        "- Summarize each source in 1-2 sentences.\n",
        "\n",
        "#### Stretch goals\n",
        "- Find more sources.\n",
        "- Use Markdown to add images from your sources.\n",
        "- Critically evaluate your sources in writing."
      ]
    },
    {
      "metadata": {
        "id": "oiQVLuPLdxZB",
        "colab_type": "text"
      },
      "cell_type": "markdown",
      "source": [
        "One of the data sources I am looking at using is ![538's](https://2xkcvt35vyxycuy7x23e0em1a5g-wpengine.netdna-ssl.com/wp-content/uploads/2016/11/538-logo.png =100x)[trump polls](https://github.com/fivethirtyeight/data/tree/master/reluctant-trump), which takes a look at some of his supporters and how they have changed their minds or not based on the economy, with attached stories.\n",
        "<br>\n",
        "<br>\n",
        "<br>\n",
        "<br>\n",
        "\n",
        "Another one I am looking at is ![RealClearPolitics](https://www.realclearpolitics.com/images/realclearpolitics_social_logo.png =80x), for its easily searchable [database](https://www.realclearpolitics.com/search/?q=trump) and poll of polls.\n",
        "\n",
        "<br>\n",
        "<br>\n",
        "<br>\n",
        "<br>\n",
        "\n",
        "I also found a good [pdf](http://cdn.cnn.com/cnn/2018/images/11/04/rel10a.-.2018.pdf) with some data from ![cnn](https://upload.wikimedia.org/wikipedia/commons/thumb/b/b1/CNN.svg/1200px-CNN.svg.png =100x)\n"
      ]
    },
    {
      "metadata": {
        "id": "LuacMjSf2ses",
        "colab_type": "text"
      },
      "cell_type": "markdown",
      "source": [
        "# Part 3\n",
        "\n",
        "#### Plan your next steps\n",
        "- Describe at least 2 actions you'd take to get started with your project.\n",
        "- Use Markdown headings and lists to organize your plan.\n",
        "\n",
        "#### Stretch goals\n",
        "- Add detail to your plan.\n",
        "- Publish your project proposal on your GitHub Pages site. "
      ]
    },
    {
      "metadata": {
        "id": "pKVQs4aEstAy",
        "colab_type": "text"
      },
      "cell_type": "markdown",
      "source": [
        "Action Plan for Project #1\n",
        "----\n",
        "\n",
        "####Action 1\n",
        "\n",
        " - Gathering data is the basis for this project, so I will need to not only gather a lot of polling data but also keep one ear to the ground for any new ones that come out that could be of relevance.  \n",
        " - If I am able to, I will set up a web scraper on RealClearPolitics, but if I cannot get it to work the way I want I can still update my project often.\n",
        "\n",
        "####Action 2\n",
        "\n",
        " - Gathering data is not enough.  With it, you also need to be able to parse meaning out of the polls.  For this, I will be looking at big stories that coincide with large drops or jumps in approval in order to see what kind of approval he has, whether its emotional, party driven, logical, demographic etc. \n",
        " - For this, I will be looking particularly hard at the most popular partisan sites, in order to determine if the swings in popularity are due to his opponents being galvanized for a week or two/supporters being validated.\n",
        "\n",
        "\n",
        "\n",
        "(posted on my [github page](https://veritaem.github.io/) also)"
      ]
    }
  ]
}