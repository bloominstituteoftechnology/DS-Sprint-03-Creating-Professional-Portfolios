{
  "nbformat": 4,
  "nbformat_minor": 0,
  "metadata": {
    "colab": {
      "name": "DS_Unit_1_Sprint_Challenge_3.ipynb",
      "version": "0.3.2",
      "provenance": [],
      "collapsed_sections": [],
      "include_colab_link": true
    },
    "kernelspec": {
      "name": "python3",
      "display_name": "Python 3"
    }
  },
  "cells": [
    {
      "cell_type": "markdown",
      "metadata": {
        "id": "view-in-github",
        "colab_type": "text"
      },
      "source": [
        "<a href=\"https://colab.research.google.com/github/a-apte/DS-Sprint-03-Creating-Professional-Portfolios/blob/master/DS_Unit_1_Sprint_Challenge_3.ipynb\" target=\"_parent\"><img src=\"https://colab.research.google.com/assets/colab-badge.svg\" alt=\"Open In Colab\"/></a>"
      ]
    },
    {
      "metadata": {
        "id": "i-n_5en3ER1o",
        "colab_type": "text"
      },
      "cell_type": "markdown",
      "source": [
        "# Data Science Unit 1 Sprint Challenge 3\n",
        "\n",
        "# Creating Professional Portfolios\n",
        "\n",
        "For your Sprint Challenge, you will **write about your upcoming [data storytelling portfolio project](https://learn.lambdaschool.com/ds/module/recedjanlbpqxic2r)**.\n",
        "\n",
        "(Don't worry, you don't have to choose your final idea now. For this challenge, you can write about any idea you're considering.)"
      ]
    },
    {
      "metadata": {
        "id": "OS0nW1vz1itX",
        "colab_type": "text"
      },
      "cell_type": "markdown",
      "source": [
        "# Part 1\n",
        "\n",
        "**Describe an idea** you could work on for your upcoming data storytelling project. What's your hypothesis?\n",
        "\n",
        "#### Write a [lede](https://www.thoughtco.com/how-to-write-a-great-lede-2074346) (first paragraph)\n",
        "- Put the bottom line up front.\n",
        "- Use 60 words or fewer. (The [Hemingway App](http://www.hemingwayapp.com/) gives you word count.)\n",
        "\n",
        "[This is hard](https://quoteinvestigator.com/2012/04/28/shorter-letter/), but you can do it!\n",
        "\n",
        "#### Stretch goals\n",
        "- Write more about your idea. Tell us what the story's about. Show us why it's interesting. Continue to follow the inverted pyramid structure. \n",
        "- Improve your readability. Post your \"before & after\" scores from the Hemingway App."
      ]
    },
    {
      "metadata": {
        "id": "bnLqMTWLd5i9",
        "colab_type": "text"
      },
      "cell_type": "markdown",
      "source": [
        "<font color='red'>\n",
        "  \n",
        "**LEDE**\n",
        "  \n",
        "<font color='green'>\n",
        "\n",
        "Bitcoin's rise and fall is not surprising: it's just the next tulip bulb mania. The similarities between Bitcoin and tulip bulbs are that both are assets that lack credible intrinsic values and thus both have prices that are subject to the whims of speculators. We are seeing history repeat itself."
      ]
    },
    {
      "metadata": {
        "id": "Nqf9oJJDDu-d",
        "colab_type": "text"
      },
      "cell_type": "markdown",
      "source": [
        "# Part 2\n",
        "\n",
        "#### Find sources\n",
        "- Link to at least 2 relevant sources for your topic. Sources could include any data or writing about your topic.\n",
        "- Use [Markdown](https://commonmark.org/help/) to format your links.\n",
        "- Summarize each source in 1-2 sentences.\n",
        "\n",
        "#### Stretch goals\n",
        "- Find more sources.\n",
        "- Use Markdown to add images from your sources.\n",
        "- Critically evaluate your sources in writing."
      ]
    },
    {
      "metadata": {
        "id": "xAJlf735-2T5",
        "colab_type": "text"
      },
      "cell_type": "markdown",
      "source": [
        "<font color='red'>\n",
        "\n",
        "**SOURCES**\n",
        "\n",
        "<font color='green'>\n",
        "  \n",
        "1.  __[**Coin Market Cap**](https://coinmarketcap.com/)__ : This is a website that offers price data since inception for Bitcoin. One can scrape the data simply by using the Pandas read_html method.\n",
        "\n",
        "2. __[**Tulipmania: Money, Honor, and Knowledge in the Dutch Golden Age**](https://www.amazon.com/gp/product/0226301265/ref=oh_aui_detailpage_o01_s00?ie=UTF8&psc=1/)__: This book explains the history of the Dutch Tulip Bulb mania in the 17th Century. This will be used as a refernce to explain the phenomenon.\n",
        "  \n",
        "3. __[**Tulipomania : The Story of the World's Most Coveted Flower & the Extraordinary Passions It Aroused**](https://www.amazon.com/Tulipomania-Coveted-Extraordinary-Passions-Aroused/dp/060980765X/ref=pd_sim_14_1?_encoding=UTF8&pd_rd_i=060980765X&pd_rd_r=9e11e126-f4c0-11e8-8ad5-2179f688e965&pd_rd_w=DwWqF&pd_rd_wg=tbRNd&pf_rd_i=desktop-dp-sims&pf_rd_m=ATVPDKIKX0DER&pf_rd_p=18bb0b78-4200-49b9-ac91-f141d61a1780&pf_rd_r=S7JEZE4C5AY2N5RQWDA2&pf_rd_s=desktop-dp-sims&pf_rd_t=40701&psc=1&refRID=S7JEZE4C5AY2N5RQWDA2)__: This is another book on the Dutch Tulip Bulb Mania. \n",
        "  \n",
        "4. __[**Woobull Charts**](http://charts.woobull.com/)__: This website provides some context for Bitcoin valuation metrics."
      ]
    },
    {
      "metadata": {
        "id": "LuacMjSf2ses",
        "colab_type": "text"
      },
      "cell_type": "markdown",
      "source": [
        "# Part 3\n",
        "\n",
        "#### Plan your next steps\n",
        "- Describe at least 2 actions you'd take to get started with your project.\n",
        "- Use Markdown headings and lists to organize your plan.\n",
        "\n",
        "#### Stretch goals\n",
        "- Add detail to your plan.\n",
        "- Publish your project proposal on your GitHub Pages site. "
      ]
    },
    {
      "metadata": {
        "id": "SbggurlTbCZW",
        "colab_type": "text"
      },
      "cell_type": "markdown",
      "source": [
        "\n",
        "\n",
        "---\n",
        "\n"
      ]
    },
    {
      "metadata": {
        "id": "SFmS6ZZld4ot",
        "colab_type": "text"
      },
      "cell_type": "markdown",
      "source": [
        "<font color='red'>\n",
        "\n",
        "**ACTIONS TO TAKE**\n",
        "\n",
        "<font color='green'>\n",
        "\n",
        "\n",
        "\n",
        "1.   Collect data from Bitcoin and other cryptocurrencies from the first quoted price to the most recent price. (**DONE**)\n",
        "  \n",
        "2.   Collect ancillary data related to the valuation of Bitcoin\n",
        "  \n",
        "3.   Research the Tulip Bulb mania during the 17th century. \n",
        "\n",
        "\n"
      ]
    },
    {
      "metadata": {
        "id": "OWRl2SxfbZ19",
        "colab_type": "code",
        "colab": {}
      },
      "cell_type": "code",
      "source": [
        ""
      ],
      "execution_count": 0,
      "outputs": []
    }
  ]
}