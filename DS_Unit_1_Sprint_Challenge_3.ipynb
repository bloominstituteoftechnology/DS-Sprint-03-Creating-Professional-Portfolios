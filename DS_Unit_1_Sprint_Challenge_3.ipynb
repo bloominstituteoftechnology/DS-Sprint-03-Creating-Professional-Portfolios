{
  "nbformat": 4,
  "nbformat_minor": 0,
  "metadata": {
    "colab": {
      "name": "DS_Unit_1_Sprint_Challenge_3.ipynb",
      "version": "0.3.2",
      "provenance": [],
      "collapsed_sections": [],
      "include_colab_link": true
    },
    "kernelspec": {
      "name": "python3",
      "display_name": "Python 3"
    }
  },
  "cells": [
    {
      "cell_type": "markdown",
      "metadata": {
        "id": "view-in-github",
        "colab_type": "text"
      },
      "source": [
        "<a href=\"https://colab.research.google.com/github/zangell44/DS-Sprint-03-Creating-Professional-Portfolios/blob/master/DS_Unit_1_Sprint_Challenge_3.ipynb\" target=\"_parent\"><img src=\"https://colab.research.google.com/assets/colab-badge.svg\" alt=\"Open In Colab\"/></a>"
      ]
    },
    {
      "metadata": {
        "id": "i-n_5en3ER1o",
        "colab_type": "text"
      },
      "cell_type": "markdown",
      "source": [
        "# Data Science Unit 1 Sprint Challenge 3\n",
        "\n",
        "# Creating Professional Portfolios\n",
        "\n",
        "For your Sprint Challenge, you will **write about your upcoming [data storytelling portfolio project](https://learn.lambdaschool.com/ds/module/recedjanlbpqxic2r)**.\n",
        "\n",
        "(Don't worry, you don't have to choose your final idea now. For this challenge, you can write about any idea you're considering.)"
      ]
    },
    {
      "metadata": {
        "id": "OS0nW1vz1itX",
        "colab_type": "text"
      },
      "cell_type": "markdown",
      "source": [
        "# Part 1\n",
        "\n",
        "**Describe an idea** you could work on for your upcoming data storytelling project. What's your hypothesis?\n",
        "\n",
        "#### Write a [lede](https://www.thoughtco.com/how-to-write-a-great-lede-2074346) (first paragraph)\n",
        "- Put the bottom line up front.\n",
        "- Use 60 words or fewer. (The [Hemingway App](http://www.hemingwayapp.com/) gives you word count.)\n",
        "\n",
        "[This is hard](https://quoteinvestigator.com/2012/04/28/shorter-letter/), but you can do it!\n",
        "\n",
        "#### Stretch goals\n",
        "- Write more about your idea. Tell us what the story's about. Show us why it's interesting. Continue to follow the inverted pyramid structure. \n",
        "- Improve your readability. Post your \"before & after\" scores from the Hemingway App."
      ]
    },
    {
      "metadata": {
        "id": "bnLqMTWLd5i9",
        "colab_type": "text"
      },
      "cell_type": "markdown",
      "source": [
        "**Idea - The Basics**\n",
        "\n",
        "I would like to delve further into wealth/income inequality in different countries. Many analyses/metrics are *static* measures of inequality in outcomes. \n",
        "\n",
        "For example, the [Gini Index](https://www.investopedia.com/terms/g/gini-index.asp) is a common metric for reporting inequality, measuring how incomes deviate from perfect equality.\n",
        "\n",
        "I would argue it's more complicated. Equality of *opportunity* is at least as important as equality of outcomes. I suspect that opportuntity equality differs substantially in countries where outcome equality is similar.\n",
        "\n",
        "One way to test this is by comparing correlations between income quintiles (or other groups). I would pose the question - \"If you're born into the lowest income quintile in the US how likely are you to land in the lowest income quintile when you're older? the second quinitle? third? fourth? fifth?\""
      ]
    },
    {
      "metadata": {
        "id": "0G4vWAAPfcT7",
        "colab_type": "text"
      },
      "cell_type": "markdown",
      "source": [
        "**Lede ** \n",
        "\n",
        "Across the world, [Standard measures of inequality](http://www.pewresearch.org/fact-tank/2015/09/22/the-many-ways-to-measure-economic-inequality/ \"Inequality in the US\") exhibit concerning trends.  If trends persist, history suggests *at best * civil unrest will ensue. To better understand inequality, we must also examine dynamic inequality measures. \n",
        "\n",
        "Dynamic equality, the American Dream, is equality of opportunity. Has inequality of opportunity exhibited a parallel increase in past decades?"
      ]
    },
    {
      "metadata": {
        "id": "Nqf9oJJDDu-d",
        "colab_type": "text"
      },
      "cell_type": "markdown",
      "source": [
        "# Part 2\n",
        "\n",
        "#### Find sources\n",
        "- Link to at least 2 relevant sources for your topic. Sources could include any data or writing about your topic.\n",
        "- Use [Markdown](https://commonmark.org/help/) to format your links.\n",
        "- Summarize each source in 1-2 sentences.\n",
        "\n",
        "#### Stretch goals\n",
        "- Find more sources.\n",
        "- Use Markdown to add images from your sources.\n",
        "- Critically evaluate your sources in writing."
      ]
    },
    {
      "metadata": {
        "id": "xAJlf735-2T5",
        "colab_type": "text"
      },
      "cell_type": "markdown",
      "source": [
        "**Sources**\n",
        "\n",
        "[OECD - Inequality and Poverty](http://www.oecd.org/social/inequality-and-poverty.htm)\n",
        "\n",
        "The OECD has extensive data on OECD nations. Further investigation is necessary to determine if the site has the data I'm looking for. \n",
        "\n",
        "[Opportunity Insights](https://opportunityinsights.org/data/)\n",
        "\n",
        "Opportunity Inights, run by a team of researchers at Harvard University, aims to analyze data on inequality and opportunity to create policies generating better outcomes. The organization appears to have a good quantity of open source data and publishes research regularly (including data, replication code, etc). \n",
        "\n",
        "The downside is the data appears to be mostly, if not exclusively, US based. This represents a good starting point, but eventually I would like to compare across countries.\n",
        "\n",
        "Given the academic background of the organization, this site's data quality should be high. I would feel comfortable using it with limited data validation.\n",
        "\n",
        "[World Bank Global Database on Intergenerational Mobility](https://www.worldbank.org/en/topic/poverty/brief/what-is-the-global-database-on-intergenerational-mobility-gdim)\n",
        "\n",
        "Per the World Bank this database \"estimates of intergenerational mobility covering 148 economies for cohorts between 1940 and 1989. This translates to a world population coverage of 96 percent\". \n",
        "\n",
        "The dataset is extensively documented, but both usefulness and quality of the data require further investigation. Some of the data is based on surveys, which are notoriously unreliable."
      ]
    },
    {
      "metadata": {
        "id": "LuacMjSf2ses",
        "colab_type": "text"
      },
      "cell_type": "markdown",
      "source": [
        "# Part 3\n",
        "\n",
        "#### Plan your next steps\n",
        "- Describe at least 2 actions you'd take to get started with your project.\n",
        "- Use Markdown headings and lists to organize your plan.\n",
        "\n",
        "#### Stretch goals\n",
        "- Add detail to your plan.\n",
        "- Publish your project proposal on your GitHub Pages site. "
      ]
    },
    {
      "metadata": {
        "id": "SFmS6ZZld4ot",
        "colab_type": "text"
      },
      "cell_type": "markdown",
      "source": [
        "## Next Steps\n",
        "\n",
        "### Find Data on Income/Wealth Outcomes by Income/Wealth of Family at Birth\n",
        "\n",
        "I can't do much without data to examine the problem. It remains to be seen how difficult it is to.\n",
        "\n",
        "#### US Data\n",
        "\n",
        "Analyze US Data, starting with [Opportunity Insights](https://opportunityinsights.org/data/). Data for only the US should be easy enough to find.\n",
        "\n",
        "#### World Data\n",
        "\n",
        "My ideal data would look something like this -\n",
        "\n",
        "For each country, a table in the form of:\n",
        "\n",
        "PersonID | Birth Year | Parent's Income at Birth | Person's Current Income\n",
        "--- | --- | --- | ---\n",
        "1 | 1980 | 20,000 | 30,000\n",
        "... | ... | ... | ...\n",
        "\n",
        "Income data could be either the income amount, or the percentile. Either would suffice for analysis.\n",
        "\n",
        "Summary statistics pre-compiled would do for the initial analysis. Additional factors would be useful for further granular analysis of structural factors. \n",
        "\n",
        "Promising sources include:\n",
        "\n",
        "* [World Bank Global Database on Intergenerational Mobility](https://www.worldbank.org/en/topic/poverty/brief/what-is-the-global-database-on-intergenerational-mobility-gdim)\n",
        "\n",
        "\n",
        "### Examine Existing Academic Research on Dynamic Inequality Measures \n",
        "Lots has been written about inequality, from Thomas Piketty to the World Bank. \n",
        "\n",
        "I read (most of) Capital in the 21st Century, and the rest is still sitting on my book shelf. I'd like to go back and examine some of the factors Piketty concludes are responsible for wealth inequality. \n",
        "\n",
        "Plenty of other academic reserach on both wealth and income inequality has been published. This often is found alongisde data sources, including several of those cited above. \n",
        "\n",
        "I am particularly interested in (1) Existing research on dynamic inequality measures (2) how dynamic inequality measures compare to static ones.\n",
        "\n",
        "### Using Data and Existing Research, Quantify Dynamic Inequality\n",
        "Visuals, analysis, etc. is great, but to meaningfully communicate about social mobility, I'll need some statistic. The Gini coefficient communicates a great deal about static inequality in one number.\n",
        "\n",
        "If there is not an equivialent for dynamic inequality, I'll have to create one.\n",
        "\n",
        "### Visualize Dynamic Inequality\n",
        "Create a sweet world map to visualize how dynamic inequality varies."
      ]
    },
    {
      "metadata": {
        "id": "I7p3CvVQtRXO",
        "colab_type": "code",
        "colab": {}
      },
      "cell_type": "code",
      "source": [
        ""
      ],
      "execution_count": 0,
      "outputs": []
    }
  ]
}