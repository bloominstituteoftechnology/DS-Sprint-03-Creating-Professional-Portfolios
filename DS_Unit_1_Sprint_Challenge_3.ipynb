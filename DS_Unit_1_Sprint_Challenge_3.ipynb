{
  "nbformat": 4,
  "nbformat_minor": 0,
  "metadata": {
    "colab": {
      "name": "DS_Unit_1_Sprint_Challenge_3.ipynb",
      "version": "0.3.2",
      "provenance": [],
      "collapsed_sections": [],
      "include_colab_link": true
    },
    "kernelspec": {
      "name": "python3",
      "display_name": "Python 3"
    }
  },
  "cells": [
    {
      "cell_type": "markdown",
      "metadata": {
        "id": "view-in-github",
        "colab_type": "text"
      },
      "source": [
        "<a href=\"https://colab.research.google.com/github/zarrinan/DS-Sprint-03-Creating-Professional-Portfolios/blob/master/DS_Unit_1_Sprint_Challenge_3.ipynb\" target=\"_parent\"><img src=\"https://colab.research.google.com/assets/colab-badge.svg\" alt=\"Open In Colab\"/></a>"
      ]
    },
    {
      "metadata": {
        "id": "i-n_5en3ER1o",
        "colab_type": "text"
      },
      "cell_type": "markdown",
      "source": [
        "# Data Science Unit 1 Sprint Challenge 3\n",
        "\n",
        "# Creating Professional Portfolios\n",
        "\n",
        "For your Sprint Challenge, you will **write about your upcoming [data storytelling portfolio project](https://learn.lambdaschool.com/ds/module/recedjanlbpqxic2r)**.\n",
        "\n",
        "(Don't worry, you don't have to choose your final idea now. For this challenge, you can write about any idea you're considering.)"
      ]
    },
    {
      "metadata": {
        "id": "OS0nW1vz1itX",
        "colab_type": "text"
      },
      "cell_type": "markdown",
      "source": [
        "# Part 1\n",
        "\n",
        "**Describe an idea** you could work on for your upcoming data storytelling project. What's your hypothesis?\n",
        "\n",
        "#### Write a [lede](https://www.thoughtco.com/how-to-write-a-great-lede-2074346) (first paragraph)\n",
        "- Put the bottom line up front.\n",
        "- Use 60 words or fewer. (The [Hemingway App](http://www.hemingwayapp.com/) gives you word count.)\n",
        "\n",
        "[This is hard](https://quoteinvestigator.com/2012/04/28/shorter-letter/), but you can do it!\n",
        "\n",
        "#### Stretch goals\n",
        "- Write more about your idea. Tell us what the story's about. Show us why it's interesting. Continue to follow the inverted pyramid structure. \n",
        "- Improve your readability. Post your \"before & after\" scores from the Hemingway App."
      ]
    },
    {
      "metadata": {
        "id": "bnLqMTWLd5i9",
        "colab_type": "text"
      },
      "cell_type": "markdown",
      "source": [
        "Sci-fi books have been a great influence on tech, ai, robotics industries of the 21st century. Sci-fi authors, dreaming of the future, had a great impact on the tech development of their countries. \n",
        " \n",
        " In my project, I'm going to explore if the number and the main story content of sci-fi books, correlated with the countries' development in tech. \n",
        "I will also explore the popularity of a specific content for countries, decades, and also, based on an author's gender. I will analyze if some contents are often found together in sci-fi books, or if some author pioneered some content more than once. \n",
        "\n",
        "For every country, I'll compare the number and the most popular story content of sci-fi books with a size of the tech industry (or, high-tech exports),  and the number of tech patents per capita. \n",
        "\n",
        "\n",
        " \n",
        " ![before](https://res.cloudinary.com/dx4ans66h/image/upload/v1543602857/Screenshot_2018-11-30_13.21.53_gtofqn.png)\n",
        " ![after](https://res.cloudinary.com/dx4ans66h/image/upload/v1543602857/Screenshot_2018-11-30_13.33.11_cjoxbi.png)\n"
      ]
    },
    {
      "metadata": {
        "id": "Nqf9oJJDDu-d",
        "colab_type": "text"
      },
      "cell_type": "markdown",
      "source": [
        "# Part 2\n",
        "\n",
        "#### Find sources\n",
        "- Link to at least 2 relevant sources for your topic. Sources could include any data or writing about your topic.\n",
        "- Use [Markdown](https://commonmark.org/help/) to format your links.\n",
        "- Summarize each source in 1-2 sentences.\n",
        "\n",
        "#### Stretch goals\n",
        "- Find more sources.\n",
        "- Use Markdown to add images from your sources.\n",
        "- Critically evaluate your sources in writing."
      ]
    },
    {
      "metadata": {
        "id": "xAJlf735-2T5",
        "colab_type": "text"
      },
      "cell_type": "markdown",
      "source": [
        "I found a dataset by Kathleen M. Carley(2017). [Sci-Fi Books data set](http://www.casos.cs.cmu.edu/tools/datasets/internal/index.php). Retrieved from http://www.casos.cs.cmu.edu/tools/datasets/internal/index.php This dataset contains information a book's year, author, author's gender, content of story.\n",
        "\n",
        "Potentially, I might also use the following [dataset](https://github.com/zygmuntz/goodbooks-10k), which containts information for 10000 books of mixed genre. I found on github. It will require more cleaning and feature engineering.\n",
        "\n",
        "World Bank [data](https://data.worldbank.org/indicator/NV.MNF.TECH.ZS.UN) on tech industry sizes per country with latest data for 2015 year.\n",
        "I might also use the tech patents [data](https://www.wipo.int/ipstats/en/) from World Intellectual property organization."
      ]
    },
    {
      "metadata": {
        "id": "LuacMjSf2ses",
        "colab_type": "text"
      },
      "cell_type": "markdown",
      "source": [
        "# Part 3\n",
        "\n",
        "#### Plan your next steps\n",
        "- Describe at least 2 actions you'd take to get started with your project.\n",
        "- Use Markdown headings and lists to organize your plan.\n",
        "\n",
        "#### Stretch goals\n",
        "- Add detail to your plan.\n",
        "- Publish your project proposal on your GitHub Pages site. "
      ]
    },
    {
      "metadata": {
        "id": "SFmS6ZZld4ot",
        "colab_type": "text"
      },
      "cell_type": "markdown",
      "source": [
        "#### To get started with my project, I'd:\n",
        "\n",
        "1. Explore more datasets on the subject;\n",
        "\n",
        "2. Create a single dataset from different sources;\n",
        "\n",
        "3. To the existing dataset, I'd add author's country.\n",
        "\n",
        "\n",
        "#### To hit my projet's MVP, I'd:\n",
        "\n",
        "1. Explore the popularity of a specific content throught the century and through the decades;\n",
        "\n",
        "2. Explore the popularity of a content based on an author's gender;\n",
        "\n",
        "3. Explore the popularity of a content based on an author's country;\n",
        "\n",
        "4. Explore if some author was pioneering a specific content more than one time;\n",
        "\n",
        "5. Explore if some contents are often found together in sci-fi books; \n",
        "\n",
        "6. Explore, if the number of sci-fi books written in a specific country is correlated with tech development in that country (and I'd need and additional dataset on countries level of development in tech);\n",
        "\n",
        "7. As a continuation of the previous item, if the number of sci-fi books written in a specific country is correlated with tech patent numbers in that country (and I'd need and additional dataset on tech patent numbers for countries); \n",
        "\n",
        "#### When I'm done with MVP, I'd:\n",
        "\n",
        "1. Train NN on the books content:\n",
        "\n",
        "\n",
        "- To find out the most popular phrase/ word for all books and for a specific genre;\n",
        "- For sentiment analysis based on genre, decade, country, aouthor's gender;\n",
        "- To predict if a specific typed phrase would belong to some author.\n",
        "\n",
        "The project has been published [here](https://zarrinan.github.io/ds_example/2018-11-30-sci-fi-books/)\n"
      ]
    }
  ]
}