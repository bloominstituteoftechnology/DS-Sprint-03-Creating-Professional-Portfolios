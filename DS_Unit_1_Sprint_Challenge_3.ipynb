{
  "nbformat": 4,
  "nbformat_minor": 0,
  "metadata": {
    "colab": {
      "name": "DS_Unit_1_Sprint_Challenge_3.ipynb",
      "version": "0.3.2",
      "provenance": [],
      "collapsed_sections": [],
      "include_colab_link": true
    },
    "kernelspec": {
      "name": "python3",
      "display_name": "Python 3"
    }
  },
  "cells": [
    {
      "cell_type": "markdown",
      "metadata": {
        "id": "view-in-github",
        "colab_type": "text"
      },
      "source": [
        "<a href=\"https://colab.research.google.com/github/manjulamishra/DS-Sprint-03-Creating-Professional-Portfolios/blob/master/DS_Unit_1_Sprint_Challenge_3.ipynb\" target=\"_parent\"><img src=\"https://colab.research.google.com/assets/colab-badge.svg\" alt=\"Open In Colab\"/></a>"
      ]
    },
    {
      "metadata": {
        "id": "i-n_5en3ER1o",
        "colab_type": "text"
      },
      "cell_type": "markdown",
      "source": [
        "# Data Science Unit 1 Sprint Challenge 3\n",
        "\n",
        "# Creating Professional Portfolios\n",
        "\n",
        "For your Sprint Challenge, you will **write about your upcoming [data storytelling portfolio project](https://learn.lambdaschool.com/ds/module/recedjanlbpqxic2r)**.\n",
        "\n",
        "(Don't worry, you don't have to choose your final idea now. For this challenge, you can write about any idea you're considering.)"
      ]
    },
    {
      "metadata": {
        "id": "OS0nW1vz1itX",
        "colab_type": "text"
      },
      "cell_type": "markdown",
      "source": [
        "# Part 1\n",
        "\n",
        "**Describe an idea** you could work on for your upcoming data storytelling project. What's your hypothesis?\n",
        "\n",
        "#### Write a [lede](https://www.thoughtco.com/how-to-write-a-great-lede-2074346) (first paragraph)\n",
        "- Put the bottom line up front.\n",
        "- Use 60 words or fewer. (The [Hemingway App](http://www.hemingwayapp.com/) gives you word count.)\n",
        "\n",
        "[This is hard](https://quoteinvestigator.com/2012/04/28/shorter-letter/), but you can do it!\n",
        "\n",
        "#### Stretch goals\n",
        "- Write more about your idea. Tell us what the story's about. Show us why it's interesting. Continue to follow the inverted pyramid structure. \n",
        "- Improve your readability. Post your \"before & after\" scores from the Hemingway App."
      ]
    },
    {
      "metadata": {
        "id": "bnLqMTWLd5i9",
        "colab_type": "text"
      },
      "cell_type": "markdown",
      "source": [
        "##Lede\n",
        "\n",
        "###Modern trends in housing industry are to build aesthetically pleasing and eco-friendly homes. Remodeling market also leans towards making old houses more functional and sustainable. \n",
        "\n",
        "\n",
        "\n",
        "\n",
        "\n",
        "\n",
        "\n",
        "\n",
        "\n",
        "\n"
      ]
    },
    {
      "metadata": {
        "id": "E8YJHotnsIs5",
        "colab_type": "text"
      },
      "cell_type": "markdown",
      "source": [
        "\n",
        "Environment friendly homes are build to cut energy consumption. The system may include recycling water usage, solar panels, and rain water storage. The architecture of such houses usually allows ample sunlight. Although these houses have more upfront cost of building, they prove to be cost effective in long run.\n",
        "\n",
        "In recent years, more people are moving towards making their homes low maintenance. For example, installing sensors than turn lights on and off as you walk in or out. Another big thing is to go minimal. Minimal architecture and minimal furniture. More modern homes owners also want gardens to grow organic fruits and vegetables.\n",
        "\n",
        "It is interesting to understand:\n",
        "\n",
        "*   The demand and associated costs\n",
        "*   How people's incomes relate to eco-friendly housing choices\n",
        "*   What geographic regions has more such homes\n",
        "*   How to measure the success in terms of satisfaction and monetary saving?\n",
        "\n",
        "\n",
        "\n",
        "\n",
        "\n",
        "\n"
      ]
    },
    {
      "metadata": {
        "id": "Hq071M9nvhsE",
        "colab_type": "text"
      },
      "cell_type": "markdown",
      "source": [
        "Pre editing scores\n",
        "[link text](https://drive.google.com/file/d/13qY5QlypSsCr-9ICMwCb1mQm__LOsjWw/view?usp=sharing)\n",
        "\n",
        "Post editing score\n",
        "[link text](https://drive.google.com/file/d/1ASxWBmPqzT7RWiYAzRx_9uB7ddH3KOEE/view?usp=sharing)\n",
        "\n",
        "![alt text](https://imgur.com/a/5JjxtC0)"
      ]
    },
    {
      "metadata": {
        "id": "Nqf9oJJDDu-d",
        "colab_type": "text"
      },
      "cell_type": "markdown",
      "source": [
        "# Part 2\n",
        "\n",
        "#### Find sources\n",
        "- Link to at least 2 relevant sources for your topic. Sources could include any data or writing about your topic.\n",
        "- Use [Markdown](https://commonmark.org/help/) to format your links.\n",
        "- Summarize each source in 1-2 sentences.\n",
        "\n",
        "#### Stretch goals\n",
        "- Find more sources.\n",
        "- Use Markdown to add images from your sources.\n",
        "- Critically evaluate your sources in writing."
      ]
    },
    {
      "metadata": {
        "id": "xAJlf735-2T5",
        "colab_type": "text"
      },
      "cell_type": "markdown",
      "source": [
        "##Sources\n",
        "\n",
        "###[Joint Center for Housing Studies](https://http://www.gf.uns.ac.rs/~wus/wus09/Sustainable%20House%20web%20page.doc%202.htm)\n",
        "\n",
        "Joint Center for Housing Studies(JCHS) is a center which conducts extensive research in housing industry. Their research have promoted many startups in the bay area. Their numbers are frequently used pitch decks for reliablility.  \n",
        "\n",
        "![alt text](http://www.jchs.harvard.edu/blog/wp-content/uploads/2018/08/Capture-e1534531577823.png)\n",
        "![alt text](http://www.jchs.harvard.edu/blog/wp-content/uploads/2018/09/la_jeunesse_metro_growth_figure2.png)\n",
        "\n",
        "\n",
        "###[Sustainable House](https://http://www.gf.uns.ac.rs/~wus/wus09/Sustainable%20House%20web%20page.doc%202.htm)\n",
        "\n",
        "Sustainable House website complies basic information into what is an eco friendly house from social-economic, environmental, cost, and archetecture perspective.\n",
        "\n",
        "![alt text](http://www.gf.uns.ac.rs/~wus/wus09/Sustainable%20House%20web%20page.doc%202_files/image002.jpg)\n",
        "\n",
        "![alt text](http://www.gf.uns.ac.rs/~wus/wus09/Sustainable%20House%20web%20page.doc%202_files/image010.jpg)"
      ]
    },
    {
      "metadata": {
        "id": "LuacMjSf2ses",
        "colab_type": "text"
      },
      "cell_type": "markdown",
      "source": [
        "# Part 3\n",
        "\n",
        "#### Plan your next steps\n",
        "- Describe at least 2 actions you'd take to get started with your project.\n",
        "- Use Markdown headings and lists to organize your plan.\n",
        "\n",
        "#### Stretch goals\n",
        "- Add detail to your plan.\n",
        "- Publish your project proposal on your GitHub Pages site. "
      ]
    },
    {
      "metadata": {
        "id": "SFmS6ZZld4ot",
        "colab_type": "text"
      },
      "cell_type": "markdown",
      "source": [
        "##Action Plan\n",
        "\n",
        "####My action plan is orgnaize as follows:\n",
        "\n",
        "\n",
        "1.   Get down to 5-6 relationships (variables) I would like to explore in my data set\n",
        "2.   Find the right kind of dataset with those variables\n",
        "3.  Write email to JCHS/other sources for dataset\n",
        "4.   If the right kind of dataset is not available, change the hypothesis and adapt. \n",
        "\n",
        "\n"
      ]
    },
    {
      "metadata": {
        "id": "wv0f1X2TqwCA",
        "colab_type": "text"
      },
      "cell_type": "markdown",
      "source": [
        "##Project Proposal\n",
        "\n",
        "Housing industry is a very well researched space. Yet it fascinating to observe new topics of interest emerging with time. For last two decades, the focus has shifting towards bringing sustainability in housing industry. From remodeling old homes to new constructions, the effort is to make houses energy efficient and low maintenance. The modern architecture is simpler yet appealing.\n",
        "\n",
        "\n",
        "###Objectives\n",
        "\n",
        "I want to analyze the housing trend in terms of eco-friendliness. \n",
        "\n",
        "1. What geographic area caters to such houses?  \n",
        "2. How much people spend of eco-friendly concepts if they are remodeling their homes?\n",
        "3. Are there long term benefits?\n",
        "4. What are the upfront costs?\n",
        "5. Is education level, income, and geographic area affect their decisions? Concentration of such homes in specific areas?\n",
        "\n",
        "###How\n",
        "\n",
        "*   Find a dataset which has the required information\n",
        "*   Conduct a meaningful analysis throguh various statisitcal techniques \n",
        "*   Show the work through tables and other visualizations\n",
        "*   Write a story that conveys the findings\n",
        "\n",
        "###Challenges\n",
        "\n",
        "1. How to define sustainable homes?\n",
        "2. Where and how to find the right dataset from?\n",
        "3. How to decide what statistical techniques to use?\n",
        "4. How to create the most effective visualizations?\n",
        "5. Writing a good readable story\n",
        " \n",
        " To find my propsal on my webpage, please click the link below.\n",
        " \n",
        " [Eco-Friendly Trends in Housing Market](https://manjulamishra.github.io/2018-11-26-IFPRI-Project/)"
      ]
    }
  ]
}