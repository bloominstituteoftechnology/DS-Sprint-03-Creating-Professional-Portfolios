{
  "nbformat": 4,
  "nbformat_minor": 0,
  "metadata": {
    "colab": {
      "name": "DS_Unit_1_Sprint_Challenge_3.ipynb",
      "version": "0.3.2",
      "provenance": [],
      "collapsed_sections": [],
      "include_colab_link": true
    },
    "kernelspec": {
      "name": "python3",
      "display_name": "Python 3"
    }
  },
  "cells": [
    {
      "cell_type": "markdown",
      "metadata": {
        "id": "view-in-github",
        "colab_type": "text"
      },
      "source": [
        "<a href=\"https://colab.research.google.com/github/albert-h-wong/DS-Sprint-03-Creating-Professional-Portfolios/blob/master/DS_Unit_1_Sprint_Challenge_3.ipynb\" target=\"_parent\"><img src=\"https://colab.research.google.com/assets/colab-badge.svg\" alt=\"Open In Colab\"/></a>"
      ]
    },
    {
      "metadata": {
        "id": "i-n_5en3ER1o",
        "colab_type": "text"
      },
      "cell_type": "markdown",
      "source": [
        "# Data Science Unit 1 Sprint Challenge 3\n",
        "\n",
        "# Creating Professional Portfolios\n",
        "\n",
        "For your Sprint Challenge, you will **write about your upcoming [data storytelling portfolio project](https://learn.lambdaschool.com/ds/module/recedjanlbpqxic2r)**.\n",
        "\n",
        "(Don't worry, you don't have to choose your final idea now. For this challenge, you can write about any idea you're considering.)"
      ]
    },
    {
      "metadata": {
        "id": "X3_WgTs1vfQ2",
        "colab_type": "text"
      },
      "cell_type": "markdown",
      "source": [
        "### Lede of Data Storytelling Project\n",
        "\n",
        "Much of the U.S. economic growth is captured and remains concentrated within the top quintile of income earners.  Despite being a fertile ground for income mobility, economic inequality continues to widen. "
      ]
    },
    {
      "metadata": {
        "id": "26caJa0BXnxJ",
        "colab_type": "text"
      },
      "cell_type": "markdown",
      "source": [
        "### Body of the Idea\n",
        "\n",
        "There are plethora of academic studies and news articles that cover income inequality and social mobility on a regular basis. There is little dispute that overall income distributions continue to widen between economic classes. The incomes on the top percentile of earners also continue to grow at significant magnitudes and rates relative to the rest of the population suggesting that the rich disproportionately capture most the country's growth. \n",
        "\n",
        "More recently arguments have been made that despite the overall gap, the opportunity for income mobility offsets the macro view of the gap. Afterall, if a low income or middle income individual can move up the ladder and in some cases jump to a top percentile earner above previous top income earners then the overall gap may not indicate a problem for individual opportunities regardless of economic class. There is much evidence that illustrates the leap in individual incomes over his or her parent's income levels. With immigration politics on the forefront, there's also many studies that show the growth in income for immigrants and especially in the children of immigrants. \n",
        "\n",
        "Yet what has not been discussed or studied as widely from my cursory research is the relative impact of income upward mobility versus the drop off in income from top quintile earners. My initial hypothesis is that overall inequality continues to widen because the drop off in relative income for previous top quintile earners is marginal relative to the size of the captured income growth within the distribution. Additionally many studies focus on salary through tax return data but what has been difficult to uncover is how asset rich top quintile individuals are and the greater number of opportunities that they are afforded. The opportunity to fail more times and ability to risk trying new ventures and learning new skills has a more asymetric return. Essentially the argument that income can move upwards without completing the circulation on the downside forms an incomplete loop.\n",
        "\n",
        "Lastly a case could be made that this outcome may be a feature instead of a bug. The price to pay to drive optimism and animal spirits to climb the income ladder with assymetric returns and a safety net once you reach there may be necessary for upward mobility to occur at all and avoid total concentration of wealth at the very top. "
      ]
    },
    {
      "metadata": {
        "id": "xAJlf735-2T5",
        "colab_type": "text"
      },
      "cell_type": "markdown",
      "source": [
        "### Sources:\n",
        "\n",
        "[Link][1]\n",
        "⋮\n",
        "[1]: www.equality-of-opportunity.org/data/\n",
        "\n",
        "Multiple varied datasets covering generational income data and segemented by demographic categories.\n",
        "\n",
        "[Link][2]\n",
        "⋮\n",
        "[2]: https://medium.com/@russroberts/do-the-rich-capture-all-the-gains-from-economic-growth-c96d93101f9c\n",
        "\n",
        "Article by an economist with data sources arguing how income mobility offsets inequality.\n",
        "\n",
        "[Link][3]\n",
        "⋮\n",
        "[3]: https://www.nytimes.com/interactive/2018/11/18/world/asia/china-social-mobility.html\n",
        "\n",
        "Illustrates country comparison of mobility and equality with data sources and great visuals.\n",
        "\n",
        "[Link][4]\n",
        "⋮\n",
        "[4]: https://www.socialsciencespace.com/2015/01/its-time-to-take-the-measure-of-social-mobility/\n",
        "\n",
        "Additional research and commentary from a social scientist."
      ]
    },
    {
      "metadata": {
        "id": "SFmS6ZZld4ot",
        "colab_type": "text"
      },
      "cell_type": "markdown",
      "source": [
        "### Actions\n",
        "\n",
        "* Perform additional research on income mobility and inequality including research studies, academic papers and news articles from major publications\n",
        "\n",
        "* Wrangle with different data sources within the equal opportunity project datasets \n",
        "\n",
        "* Find additional data sources based on research\n",
        "\n",
        "* Conduct an exploratory assessment of the data sources\n",
        "\n",
        "* Decide on the best sources of data to be used and prepare it for evaluation\n",
        "\n",
        "* Analyze the data by breaking it down into tables, charts, and functional libraries\n",
        "\n",
        "* Determine the most appropriate tables and charts to visualize and illustrate the data\n",
        "\n",
        "* Write a medium post that provides a narrative to the data analysis with accompanying visualizations\n"
      ]
    },
    {
      "metadata": {
        "id": "cZiNSINe_N26",
        "colab_type": "code",
        "colab": {}
      },
      "cell_type": "code",
      "source": [
        ""
      ],
      "execution_count": 0,
      "outputs": []
    }
  ]
}