{
  "nbformat": 4,
  "nbformat_minor": 0,
  "metadata": {
    "colab": {
      "name": "DS_Unit_1_Sprint_Challenge_3.ipynb",
      "version": "0.3.2",
      "provenance": [],
      "collapsed_sections": [],
      "include_colab_link": true
    },
    "kernelspec": {
      "name": "python3",
      "display_name": "Python 3"
    }
  },
  "cells": [
    {
      "cell_type": "markdown",
      "metadata": {
        "id": "view-in-github",
        "colab_type": "text"
      },
      "source": [
        "<a href=\"https://colab.research.google.com/github/peytonrunyan/DS-Sprint-03-Creating-Professional-Portfolios/blob/master/DS_Unit_1_Sprint_Challenge_3.ipynb\" target=\"_parent\"><img src=\"https://colab.research.google.com/assets/colab-badge.svg\" alt=\"Open In Colab\"/></a>"
      ]
    },
    {
      "metadata": {
        "id": "i-n_5en3ER1o",
        "colab_type": "text"
      },
      "cell_type": "markdown",
      "source": [
        "# Data Science Unit 1 Sprint Challenge 3\n",
        "\n",
        "# Creating Professional Portfolios\n",
        "\n",
        "For your Sprint Challenge, you will **write about your upcoming [data storytelling portfolio project](https://learn.lambdaschool.com/ds/module/recedjanlbpqxic2r)**.\n",
        "\n",
        "(Don't worry, you don't have to choose your final idea now. For this challenge, you can write about any idea you're considering.)"
      ]
    },
    {
      "metadata": {
        "id": "OS0nW1vz1itX",
        "colab_type": "text"
      },
      "cell_type": "markdown",
      "source": [
        "# Part 1\n",
        "\n",
        "**Describe an idea** you could work on for your upcoming data storytelling project. What's your hypothesis?\n",
        "\n",
        "\n",
        "\n",
        "#### Write a [lede](https://www.thoughtco.com/how-to-write-a-great-lede-2074346) (first paragraph)\n",
        "- Put the bottom line up front.\n",
        "- Use 60 words or fewer. (The [Hemingway App](http://www.hemingwayapp.com/) gives you word count.)\n",
        "\n",
        "[This is hard](https://quoteinvestigator.com/2012/04/28/shorter-letter/), but you can do it!\n",
        "\n",
        "#### Stretch goals\n",
        "- Write more about your idea. Tell us what the story's about. Show us why it's interesting. Continue to follow the inverted pyramid structure. \n",
        "- Improve your readability. Post your \"before & after\" scores from the Hemingway App."
      ]
    },
    {
      "metadata": {
        "id": "Nqf9oJJDDu-d",
        "colab_type": "text"
      },
      "cell_type": "markdown",
      "source": [
        "# Part 2\n",
        "\n",
        "#### Find sources\n",
        "- Link to at least 2 relevant sources for your topic. Sources could include any data or writing about your topic.\n",
        "- Use [Markdown](https://commonmark.org/help/) to format your links.\n",
        "- Summarize each source in 1-2 sentences.\n",
        "\n",
        "\n",
        "\n",
        "\n",
        "#### Stretch goals\n",
        "- Find more sources.\n",
        "- Use Markdown to add images from your sources.\n",
        "- Critically evaluate your sources in writing."
      ]
    },
    {
      "metadata": {
        "id": "xAJlf735-2T5",
        "colab_type": "text"
      },
      "cell_type": "markdown",
      "source": [
        ""
      ]
    },
    {
      "metadata": {
        "id": "LuacMjSf2ses",
        "colab_type": "text"
      },
      "cell_type": "markdown",
      "source": [
        "# Part 3\n",
        "\n",
        "#### Plan your next steps\n",
        "- Describe at least 2 actions you'd take to get started with your project.\n",
        "- Use Markdown headings and lists to organize your plan.\n",
        "\n",
        "#### Stretch goals\n",
        "- Add detail to your plan.\n",
        "- Publish your project proposal on your GitHub Pages site. "
      ]
    },
    {
      "metadata": {
        "id": "5QZq56wAjTuo",
        "colab_type": "text"
      },
      "cell_type": "markdown",
      "source": [
        ""
      ]
    },
    {
      "metadata": {
        "id": "SFmS6ZZld4ot",
        "colab_type": "text"
      },
      "cell_type": "markdown",
      "source": [
        ""
      ]
    },
    {
      "metadata": {
        "id": "zxEL0ATbd67m",
        "colab_type": "text"
      },
      "cell_type": "markdown",
      "source": [
        "#Project 1\n",
        "\n",
        "**Hypothesis:** Lambda School is a good investment\n",
        "\n",
        "### Lede\n",
        "Lambda School has experienced massive growth. Lambda students are consistently graduating and gaining employment and their employers are returning to hire more students. Lambda is also gaining visibility based on social media mentions and Google searches. \n",
        "\n",
        "We can model the success of Lambda School and make profit predictions based on this model. \n",
        "\n",
        "### Sources\n",
        "1. [Lambda's Slack Analytics](https://lambdaschoolstudents.slack.com/stats#overview)\n",
        "\n",
        "This contains the number of users, members, etc. and their activity. This is useful for seeing growth, attrition rate, engagement, etc. \n",
        "2. [Austen Allred's Twitter](https://twitter.com/AustenAllred)\n",
        "\n",
        "This contains statements from the founder about information important for making cost estimates, such as the number of employees involved in the student success team, etc. \n",
        "\n",
        "(Note): I got Austen's permission for the above sources\n",
        "\n",
        "**Upcoming Sources:** I will be looking at the google search analytics, and possibly twitter scraping. If I feel like getting really fancy I might try to do some TAM estimates and refine them based on something data sciencey.  \n",
        "\n",
        "### Next Steps\n",
        "\n",
        "Ultimately I would like this to be an interactive Dashboard using plotly. So with that in mind, I need to do the following:\n",
        "\n",
        "1. Finish processing the slack data to determine growth, attrition rate, and engagement \n",
        "\n",
        "2. Graph the slack data in plotly \n",
        "\n",
        "3. Download google search data for Lambda School, Lambda, and Austen Allred\n",
        "\n",
        "4. See what information I can get from Twitter, and what has to be scraped. Possibly scrape anyway just to prove that I can do it. Maybe sentiment analysis?\n",
        "\n",
        "5. Go through Austen's Twitter to see what information is available on costs and strategic positioning\n",
        "\n",
        "6. For a stretch, look at the competitve landscape, especially closest competitors\n",
        "\n",
        "7. Build a costs model that uses a slider (for example, if you assume 50 fixed employees, set a slider for average pay to see fixed costs. Then set a slider for variable costs, etc. )"
      ]
    },
    {
      "metadata": {
        "id": "sPC4c8X3jZpU",
        "colab_type": "text"
      },
      "cell_type": "markdown",
      "source": [
        "#Project 2\n",
        "\n",
        "## A Graph Gallery\n",
        "\n",
        "This is mostly to have a place to practice pretty visualizations and to get a personal style going. The goal would be to grind out a few in sns, plt, and plotly. \n",
        "\n",
        "I expect to just use commonly available datasets. The idea would be to have something to scroll through quickly that communicates 'Peyton can visualize data well'\n",
        "\n",
        "### Inspiration\n",
        "\n",
        "### Data Sources\n",
        "\n"
      ]
    },
    {
      "metadata": {
        "id": "G2MNTq2UlXBR",
        "colab_type": "text"
      },
      "cell_type": "markdown",
      "source": [
        "# Project 3 (Maybe)\n",
        "\n",
        "## Market Penetration Dashboard Using Tableau\n",
        "\n",
        "I can actually use information from work to make a publically visible market penetration dashboard for the Dash cryptocurrency in Venezuela.\n",
        "\n",
        "It's going to take a while to organize, but won't be that much different that what I want to do for the Lambda profitability dashboard"
      ]
    },
    {
      "metadata": {
        "id": "RgHWFGeKmEHE",
        "colab_type": "text"
      },
      "cell_type": "markdown",
      "source": [
        "# Project 4 (Maybe)\n",
        "\n",
        "## Emergency Medicine decision support system\n",
        "\n",
        "The idea is to create a tool that replicates the algorithms used by EM physicians to triage and diagnose patients presenting to the ER. \n",
        "\n",
        "**Issue:** the alogorithms are fairly simple. It's just decision trees. I could write it using really basic python\n",
        "\n",
        "**To do:** figure out if there's a way to make this more useful as an actual DSS. \n",
        "\n",
        "### Useful links\n",
        "\n",
        "[Common CDRs and Risk stratification tools](https://emergencymedicinecases.com/episode-56-stiell-sessions-clinical-decision-rules-risk-scales/)\n",
        "\n",
        "[Study on ED admissions algorithms](https://www.ncbi.nlm.nih.gov/pmc/articles/PMC5013457/)\n",
        "\n"
      ]
    },
    {
      "metadata": {
        "id": "mwdJvwyso1qg",
        "colab_type": "text"
      },
      "cell_type": "markdown",
      "source": [
        ""
      ]
    }
  ]
}