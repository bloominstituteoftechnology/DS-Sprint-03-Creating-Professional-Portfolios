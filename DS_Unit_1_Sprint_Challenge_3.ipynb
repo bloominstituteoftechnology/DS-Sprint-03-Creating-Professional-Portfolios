{
  "nbformat": 4,
  "nbformat_minor": 0,
  "metadata": {
    "colab": {
      "name": "DS_Unit_1_Sprint_Challenge_3.ipynb",
      "version": "0.3.2",
      "provenance": [],
      "collapsed_sections": [],
      "include_colab_link": true
    },
    "kernelspec": {
      "name": "python3",
      "display_name": "Python 3"
    }
  },
  "cells": [
    {
      "cell_type": "markdown",
      "metadata": {
        "id": "view-in-github",
        "colab_type": "text"
      },
      "source": [
        "<a href=\"https://colab.research.google.com/github/brit228/DS-Sprint-03-Creating-Professional-Portfolios/blob/master/DS_Unit_1_Sprint_Challenge_3.ipynb\" target=\"_parent\"><img src=\"https://colab.research.google.com/assets/colab-badge.svg\" alt=\"Open In Colab\"/></a>"
      ]
    },
    {
      "metadata": {
        "id": "i-n_5en3ER1o",
        "colab_type": "text"
      },
      "cell_type": "markdown",
      "source": [
        "# Data Science Unit 1 Sprint Challenge 3\n",
        "\n",
        "# Creating Professional Portfolios\n",
        "\n",
        "For your Sprint Challenge, you will **write about your upcoming [data storytelling portfolio project](https://learn.lambdaschool.com/ds/module/recedjanlbpqxic2r)**.\n",
        "\n",
        "(Don't worry, you don't have to choose your final idea now. For this challenge, you can write about any idea you're considering.)"
      ]
    },
    {
      "metadata": {
        "id": "OS0nW1vz1itX",
        "colab_type": "text"
      },
      "cell_type": "markdown",
      "source": [
        "# Part 1\n",
        "\n",
        "**Describe an idea** you could work on for your upcoming data storytelling project. What's your hypothesis?\n",
        "\n",
        "#### Write a [lede](https://www.thoughtco.com/how-to-write-a-great-lede-2074346) (first paragraph)\n",
        "- Put the bottom line up front.\n",
        "- Use 60 words or fewer. (The [Hemingway App](http://www.hemingwayapp.com/) gives you word count.)\n",
        "\n",
        "[This is hard](https://quoteinvestigator.com/2012/04/28/shorter-letter/), but you can do it!\n",
        "\n",
        "#### Stretch goals\n",
        "- Write more about your idea. Tell us what the story's about. Show us why it's interesting. Continue to follow the inverted pyramid structure. \n",
        "- Improve your readability. Post your \"before & after\" scores from the Hemingway App."
      ]
    },
    {
      "metadata": {
        "id": "bnLqMTWLd5i9",
        "colab_type": "text"
      },
      "cell_type": "markdown",
      "source": [
        "# Movie Infographic Project\n",
        "\n",
        "---\n",
        "\n",
        "* Hypothesis: success of an individual movie in terms of profits correlates with numerous variables, including awards/nominations, user reviews and language of reviews, genre, release date, etc.\n",
        "\n",
        "* Target audience: general population - easy to read/understand, visually engaging\n",
        "\n",
        "* Visualized data: single movie w/ comparisons to other movies and importance of each correlation w/ profit"
      ]
    },
    {
      "metadata": {
        "id": "FhULjhajfetx",
        "colab_type": "text"
      },
      "cell_type": "markdown",
      "source": [
        "Success of a movie in  profits is  important to consumers for finding a movie, which for a consumer could be related to review score, awards, actors/actresses, and review language. By using engaging data visualization, comparing an individual movie with competitors can make it easier to find a movie to watch.\n",
        "\n",
        "Hemingway: Grade 15"
      ]
    },
    {
      "metadata": {
        "id": "kWQbB4Tki8l6",
        "colab_type": "text"
      },
      "cell_type": "markdown",
      "source": [
        "Success of a movie in  sales is  a measure of consumers want to see the movie. Profits could then relate to review score, awards, actors/actresses, and review language. Data visualization comparing a movie to the whole can then make finding a movie to watch easier.\n",
        "\n",
        "Hemingway: Grade 8"
      ]
    },
    {
      "metadata": {
        "id": "Nqf9oJJDDu-d",
        "colab_type": "text"
      },
      "cell_type": "markdown",
      "source": [
        "# Part 2\n",
        "\n",
        "#### Find sources\n",
        "- Link to at least 2 relevant sources for your topic. Sources could include any data or writing about your topic.\n",
        "- Use [Markdown](https://commonmark.org/help/) to format your links.\n",
        "- Summarize each source in 1-2 sentences.\n",
        "\n",
        "#### Stretch goals\n",
        "- Find more sources.\n",
        "- Use Markdown to add images from your sources.\n",
        "- Critically evaluate your sources in writing."
      ]
    },
    {
      "metadata": {
        "id": "xAJlf735-2T5",
        "colab_type": "text"
      },
      "cell_type": "markdown",
      "source": [
        "# [IMDb](https://www.imdb.com/), [Rotten Tomatoes](https://www.rottentomatoes.com/), [MetaCritic](https://www.metacritic.com/)\n",
        "___\n",
        "* Movie review aggregator websites\n",
        "* Contain numerous reviews by both users an critics with different algorithms for determining score\n",
        "* Also contains information on profits, awards, actors/actresses, etc.\n",
        "\n",
        "\n",
        "\n",
        "# [Infographic Design Blog Post](https://venngage.com/blog/infographic-design/)\n",
        "___\n",
        "* Contains steps or rules for creating visually appealling infographics - direction to go for due to lots of information - want to convery it in an interesting fashion"
      ]
    },
    {
      "metadata": {
        "id": "LuacMjSf2ses",
        "colab_type": "text"
      },
      "cell_type": "markdown",
      "source": [
        "# Part 3\n",
        "\n",
        "#### Plan your next steps\n",
        "- Describe at least 2 actions you'd take to get started with your project.\n",
        "- Use Markdown headings and lists to organize your plan.\n",
        "\n",
        "#### Stretch goals\n",
        "- Add detail to your plan.\n",
        "- Publish your project proposal on your GitHub Pages site. "
      ]
    },
    {
      "metadata": {
        "id": "SFmS6ZZld4ot",
        "colab_type": "text"
      },
      "cell_type": "markdown",
      "source": [
        "# Data Gathering\n",
        "### Figure out how to gather mass amounts of data and reviews of movies by scraping aggregator websites\n",
        "\n",
        "* Packages:\n",
        "  - BeautifulSoup\n",
        "  - Requests\n",
        "  - imdbpy\n",
        "\n",
        "___\n",
        "\n",
        "# Data Exploration\n",
        "### Find interesting patterns/correlations when comparing data\n",
        "\n",
        "* List of potential variables:\n",
        "  - language of reviews\n",
        "  - cost of movie\n",
        "  - actors/actresses\n",
        "  - review scores/average review scores\n",
        "  - marketing (?)\n",
        "* Python Packages:\n",
        "  - Pandas\n",
        "  - NLTK\n",
        "  - matplotlib\n",
        "\n",
        "___\n",
        "\n",
        "# Indidual Visualization and Scraping Automation\n",
        "### Generate infographic of movie and comparison with important correlations and other information\n",
        "\n",
        "* Python Packages:\n",
        "  - wordcloud\n",
        "  - matplotlib\n",
        "  - BeautifulSoup\n",
        "  - Requests\n",
        "  - imdbpy"
      ]
    }
  ]
}