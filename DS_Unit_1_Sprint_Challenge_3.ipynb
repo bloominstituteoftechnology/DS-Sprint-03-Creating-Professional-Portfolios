{
 "cells": [
  {
   "cell_type": "markdown",
   "metadata": {
    "colab_type": "text",
    "id": "i-n_5en3ER1o"
   },
   "source": [
    "# Data Science Unit 1 Sprint Challenge 3\n",
    "\n",
    "# Creating Professional Portfolios\n",
    "\n",
    "For your Sprint Challenge, you will **write about your upcoming [data storytelling portfolio project](https://learn.lambdaschool.com/ds/module/recedjanlbpqxic2r)**.\n",
    "\n",
    "(Don't worry, you don't have to choose your final idea now. For this challenge, you can write about any idea you're considering.)"
   ]
  },
  {
   "cell_type": "markdown",
   "metadata": {
    "colab_type": "text",
    "id": "OS0nW1vz1itX"
   },
   "source": [
    "# Part 1\n",
    "\n",
    "**Describe an idea** you could work on for your upcoming data storytelling project. What's your hypothesis?\n",
    "\n",
    "#### Write a [lede](https://www.thoughtco.com/how-to-write-a-great-lede-2074346) (first paragraph)\n",
    "- Put the bottom line up front.\n",
    "- Use 60 words or fewer. (The [Hemingway App](http://www.hemingwayapp.com/) gives you word count.)\n",
    "   \n",
    "   ### Scrape a list of websites looking for obsolete technologies and especially Data Science/AI possible improvements.\n",
    "\n",
    "[This is hard](https://quoteinvestigator.com/2012/04/28/shorter-letter/), but you can do it!\n",
    "\n",
    "#### Stretch goals\n",
    "- Write more about your idea. Tell us what the story's about. Show us why it's interesting. Continue to follow the inverted pyramid structure. \n",
    "- Improve your readability. Post your \"before & after\" scores from the Hemingway App."
   ]
  },
  {
   "cell_type": "markdown",
   "metadata": {
    "colab_type": "text",
    "id": "bnLqMTWLd5i9"
   },
   "source": []
  },
  {
   "cell_type": "markdown",
   "metadata": {
    "colab_type": "text",
    "id": "Nqf9oJJDDu-d"
   },
   "source": [
    "# Part 2\n",
    "\n",
    "#### Find sources\n",
    "- Link to at least 2 relevant sources for your topic. Sources could include any data or writing about your topic.\n",
    "- Use [Markdown](https://commonmark.org/help/) to format your links.\n",
    "- Summarize each source in 1-2 sentences.\n",
    "\n",
    "#### Can enter 'AAAA' search, then 'AAAB'.     A big complication is that I only know English making working with websites in other languages difficult or impossible.  \n",
    "- [lists of websites by 4 character searches](http://biglistofwebsites.com/)\n",
    "\n",
    "### Exports for json and xml (not free).  \"Recent Lookups\" another source of websites to scrape. \n",
    "- [finds technologies/libraries used by a web site](https://builtwith.com/)\n",
    "\n",
    "#### Stretch goals\n",
    "- Find more sources.\n",
    "- Use Markdown to add images from your sources.\n",
    "- Critically evaluate your sources in writing."
   ]
  },
  {
   "cell_type": "markdown",
   "metadata": {
    "colab_type": "text",
    "id": "xAJlf735-2T5"
   },
   "source": []
  },
  {
   "cell_type": "markdown",
   "metadata": {
    "colab_type": "text",
    "id": "LuacMjSf2ses"
   },
   "source": [
    "# Part 3\n",
    "\n",
    "#### Plan your next steps\n",
    "- Describe at least 2 actions you'd take to get started with your project.\n",
    "\n",
    "- Use Markdown headings and lists to organize your plan.\n",
    "\n",
    "#### Stretch goals\n",
    "- Add detail to your plan.\n",
    "- Publish your project proposal on your GitHub Pages site. "
   ]
  },
  {
   "cell_type": "markdown",
   "metadata": {},
   "source": [
    "1. #### automate processing websites through https://builtwith.com/\n",
    "2. #### automate searching and extracting websides from http://biglistofwebsites.com"
   ]
  },
  {
   "cell_type": "markdown",
   "metadata": {
    "colab_type": "text",
    "id": "SFmS6ZZld4ot"
   },
   "source": []
  },
  {
   "cell_type": "markdown",
   "metadata": {},
   "source": [
    "$Type \\textit{Markdown} and LaTex: a^2$"
   ]
  },
  {
   "cell_type": "raw",
   "metadata": {},
   "source": [
    "%%latex\n",
    "$Type \\HS \\textit{Markdown}\\space{and LaTex:} a^2$"
   ]
  },
  {
   "cell_type": "markdown",
   "metadata": {},
   "source": [
    "%%latex\n",
    "$Type Markdown and LaTex: a^2$"
   ]
  },
  {
   "cell_type": "code",
   "execution_count": null,
   "metadata": {},
   "outputs": [],
   "source": []
  }
 ],
 "metadata": {
  "colab": {
   "collapsed_sections": [],
   "name": "DS_Unit_1_Sprint_Challenge_3.ipynb",
   "provenance": [],
   "version": "0.3.2"
  },
  "kernelspec": {
   "display_name": "Python 3",
   "language": "python",
   "name": "python3"
  },
  "language_info": {
   "codemirror_mode": {
    "name": "ipython",
    "version": 3
   },
   "file_extension": ".py",
   "mimetype": "text/x-python",
   "name": "python",
   "nbconvert_exporter": "python",
   "pygments_lexer": "ipython3",
   "version": "3.6.5"
  },
  "latex_envs": {
   "LaTeX_envs_menu_present": true,
   "autoclose": false,
   "autocomplete": true,
   "bibliofile": "biblio.bib",
   "cite_by": "apalike",
   "current_citInitial": 1,
   "eqLabelWithNumbers": true,
   "eqNumInitial": 1,
   "hotkeys": {
    "equation": "Ctrl-E",
    "itemize": "Ctrl-I"
   },
   "labels_anchors": false,
   "latex_user_defs": false,
   "report_style_numbering": false,
   "user_envs_cfg": false
  }
 },
 "nbformat": 4,
 "nbformat_minor": 1
}
