{
  "nbformat": 4,
  "nbformat_minor": 0,
  "metadata": {
    "colab": {
      "name": "DS_Unit_1_Sprint_Challenge_3.ipynb",
      "version": "0.3.2",
      "provenance": [],
      "collapsed_sections": [],
      "include_colab_link": true
    },
    "kernelspec": {
      "name": "python3",
      "display_name": "Python 3"
    }
  },
  "cells": [
    {
      "cell_type": "markdown",
      "metadata": {
        "id": "view-in-github",
        "colab_type": "text"
      },
      "source": [
        "<a href=\"https://colab.research.google.com/github/ShreyasJothish/DS-Sprint-03-Creating-Professional-Portfolios/blob/master/DS_Unit_1_Sprint_Challenge_3.ipynb\" target=\"_parent\"><img src=\"https://colab.research.google.com/assets/colab-badge.svg\" alt=\"Open In Colab\"/></a>"
      ]
    },
    {
      "metadata": {
        "id": "i-n_5en3ER1o",
        "colab_type": "text"
      },
      "cell_type": "markdown",
      "source": [
        "# Data Science Unit 1 Sprint Challenge 3\n",
        "\n",
        "# Creating Professional Portfolios\n",
        "\n",
        "For your Sprint Challenge, you will **write about your upcoming [data storytelling portfolio project](https://learn.lambdaschool.com/ds/module/recedjanlbpqxic2r)**.\n",
        "\n",
        "(Don't worry, you don't have to choose your final idea now. For this challenge, you can write about any idea you're considering.)"
      ]
    },
    {
      "metadata": {
        "id": "OS0nW1vz1itX",
        "colab_type": "text"
      },
      "cell_type": "markdown",
      "source": [
        "# Part 1\n",
        "\n",
        "**Describe an idea** you could work on for your upcoming data storytelling project. What's your hypothesis?\n",
        "\n",
        "#### Write a [lede](https://www.thoughtco.com/how-to-write-a-great-lede-2074346) (first paragraph)\n",
        "- Put the bottom line up front.\n",
        "- Use 60 words or fewer. (The [Hemingway App](http://www.hemingwayapp.com/) gives you word count.)\n",
        "\n",
        "[This is hard](https://quoteinvestigator.com/2012/04/28/shorter-letter/), but you can do it!\n",
        "\n",
        "#### Stretch goals\n",
        "- Write more about your idea. Tell us what the story's about. Show us why it's interesting. Continue to follow the inverted pyramid structure. \n",
        "- Improve your readability. Post your \"before & after\" scores from the Hemingway App."
      ]
    },
    {
      "metadata": {
        "id": "bnLqMTWLd5i9",
        "colab_type": "text"
      },
      "cell_type": "markdown",
      "source": [
        "**Social media influencers can sway twitter users by performing sentiment analysis. Replies to tweet determines twitter users political identity towards prominent political personalities.**\n",
        "\n",
        "\n",
        "* Who – Twitter users, social media influencers\n",
        "* What –  identify political inclination based on replies to tweet \n",
        "* Where – On Twitter\n",
        "* When – \n",
        "* Why – Twitter users express their views as part of replies to tweet  from prominent political personalities.\n",
        "* How –  sentiment analysis done on tweet replies.\n",
        "\n",
        "#### Stretch goals\n",
        "\n",
        "#They know what you do next summer…\n",
        "\n",
        "### Social media influencers can sway twitter users by performing sentiment analysis. Replies to tweet determines twitter users political identity towards prominent political personalities.\n",
        "\n",
        "2019 is a big year for India with all focus on Prime Minister Narendra Modi of ruling BJP party to keep power at center. For Mahagathbandhan (Grand Alliance) of opposition parties to pull him down.\n",
        "\n",
        "We all know how 2016 US elections fared. Thanks to so called [Russian interference](https://medium.com/r/?url=https%3A%2F%2Fwww.nytimes.com%2Fnews-event%2Frussian-election-hacking). Also how data harvesting [Facebook-Cambridge Analytica scandal](https://medium.com/r/?url=https%3A%2F%2Fwww.cnbc.com%2F2018%2F03%2F21%2Ffacebook-cambridge-analytica-scandal-everything-you-need-to-know.html) turned out.\n",
        "\n",
        "Have you ever wondered how you are helping these social media influencers’?  \n",
        "\n",
        "> **_Your social media posts provides access to data for harvesting and perception manipulation._**\n",
        "\n",
        "Hemingway App Before and After scores.\n",
        "\n",
        "[Before](https://flic.kr/p/Pviccn)\n",
        "\n",
        "[After](https://flic.kr/p/2casoQf)\n"
      ]
    },
    {
      "metadata": {
        "id": "Nqf9oJJDDu-d",
        "colab_type": "text"
      },
      "cell_type": "markdown",
      "source": [
        "# Part 2\n",
        "\n",
        "#### Find sources\n",
        "- Link to at least 2 relevant sources for your topic. Sources could include any data or writing about your topic.\n",
        "- Use [Markdown](https://commonmark.org/help/) to format your links.\n",
        "- Summarize each source in 1-2 sentences.\n",
        "\n",
        "#### Stretch goals\n",
        "- Find more sources.\n",
        "- Use Markdown to add images from your sources.\n",
        "- Critically evaluate your sources in writing."
      ]
    },
    {
      "metadata": {
        "id": "xAJlf735-2T5",
        "colab_type": "text"
      },
      "cell_type": "markdown",
      "source": [
        "[Russian interference in the 2016 United States elections](https://en.wikipedia.org/wiki/Russian_interference_in_the_2016_United_States_elections#Social_media_and_internet_trolls)\n",
        "\n",
        "The Russian government interfered in the 2016 U.S. presidential election to increase political instability in the United States and to damage Hillary Clinton's presidential campaign by bolstering the candidacies of Donald Trump, Bernie Sanders and Jill Stein.\n",
        "\n",
        "Russia also interfered in the elections by disseminating fake news promoted on social media.\n",
        "\n",
        "[Fake news on Facebook](https://www.cbsnews.com/news/facebook-fake-election-news-more-popular-than-real-news-buzzfeed-investigation/)\n",
        "\n",
        "People who got their 2016 election news on Facebook might have been looking at more fake stories than real ones.\n",
        "\n",
        "#### Stretch goals\n",
        "\n",
        "[Facebook and Cambridge Analytica Scandal](https://www.cnbc.com/2018/03/21/facebook-cambridge-analytica-scandal-everything-you-need-to-know.html)\n",
        "\n",
        "![Cambridge Analytica whistleblower Christopher Wylie](https://fm.cnbc.com/applications/cnbc.com/resources/img/editorial/2018/03/21/105078842-Chris_Wylie_.530x298.jpg?v=1521627322)\n",
        "\n",
        "As part of sting operation Britain's Channel 4 News, senior executives at Cambridge Analytica, including its **CEO Alexander Nix**, suggesting the firm could use sex workers, bribes and misinformation in order to try and help political candidates win votes around the world.\n",
        "\n",
        "**_Cambridge Analytica is alleged harvesting and use of personal data from Facebook._**\n",
        "\n",
        "Also allegedly utilized to direct messages for political campaigns supported by Cambridge Analytica, most notably Trump's election victory and the Brexit vote.\n",
        "\n",
        "\n",
        "[Cambridge Analytica - India Connection](https://qz.com/india/1238619/christopher-wylie-names-congress-as-part-of-cambridge-analyticas-indian-projects/)\n",
        "\n",
        "![Congress Cambridge Analytica Link](https://pbs.twimg.com/media/DZT2eNcU0AAWuYZ?format=jpg&name=small)\n",
        "\n",
        "Christopher Wylie, the whistleblower in the Cambridge Analytica scandal has also alleged Indian National Congress (INC),  India’s main opposition party used Cambridge Analytica service as part of voter-manipulation scandal.\n",
        "\n"
      ]
    },
    {
      "metadata": {
        "id": "LuacMjSf2ses",
        "colab_type": "text"
      },
      "cell_type": "markdown",
      "source": [
        "# Part 3\n",
        "\n",
        "#### Plan your next steps\n",
        "- Describe at least 2 actions you'd take to get started with your project.\n",
        "- Use Markdown headings and lists to organize your plan.\n",
        "\n",
        "#### Stretch goals\n",
        "- Add detail to your plan.\n",
        "- Publish your project proposal on your GitHub Pages site. "
      ]
    },
    {
      "metadata": {
        "id": "SFmS6ZZld4ot",
        "colab_type": "text"
      },
      "cell_type": "markdown",
      "source": [
        "\n",
        "# Political link\n",
        "\n",
        "## Project Overview\n",
        "\n",
        "Identity political inclination of twitter user's as **_For, Neutral and Against_** based on sentiment analysis done on quoted tweets to tweet from prominent political entity.\n",
        "\n",
        "## Project Plan\n",
        "\n",
        "1. Identify the political party or person of interest on twitter (referred to as entity) like Narendra Modi, BJP, Congress or Shashi Tharoor.\n",
        "\n",
        "2. Get entity's twitter handle. *@narendramodi*, *@BJP4India*, *@INCIndia* or *@realDonaldTrump*.\n",
        "\n",
        "3. Web scrap through their recent tweets and identify the people who are replying back or re-tweeting with comments.\n",
        "\n",
        "4. Identify the sentiment of the comments as either positive, neutral or negative. Here the percentage of the inclination towards or against is determined based on word assertions used.\n",
        "\n",
        "5. Make 3 lists For, Neutral and Against for a particular entity. Recursively build this list.\n",
        "\n",
        "## Reference List\n",
        "\n",
        "### API:\n",
        "\n",
        "> [Twitter API Documentation](https://developer.twitter.com/en/docs/tweets/data-dictionary/overview/tweet-object)\n",
        "\n",
        "> [Tweepy API Reference](https://tweepy.readthedocs.io/en/3.7.0/api.html)\n",
        "\n",
        "> [TextBlob API Reference](https://textblob.readthedocs.io/en/dev/api_reference.html#module-textblob.base)\n",
        "\n",
        "### Blogs:\n",
        "\n",
        "> [Twitter API Blog](http://adilmoujahid.com/posts/2014/07/twitter-analytics/)\n",
        "\n",
        "> [Twitter Sentiment Analysis Blog](https://github.com/llSourcell/twitter_sentiment_challenge/blob/master/demo.py)\n",
        "\n",
        "#### Stretch goals\n",
        "\n",
        "https://shreyasjothish.github.io/2018-11-30-political-link/\n"
      ]
    }
  ]
}