{
  "nbformat": 4,
  "nbformat_minor": 0,
  "metadata": {
    "colab": {
      "name": "DS 133 Jobs List, LinkedIn Memos.ipynb",
      "version": "0.3.2",
      "provenance": [],
      "include_colab_link": true
    },
    "kernelspec": {
      "name": "python3",
      "display_name": "Python 3"
    },
    "accelerator": "GPU"
  },
  "cells": [
    {
      "cell_type": "markdown",
      "metadata": {
        "id": "view-in-github",
        "colab_type": "text"
      },
      "source": [
        "<a href=\"https://colab.research.google.com/github/hughjafro/DS-Sprint-03-Creating-Professional-Portfolios/blob/master/DS_133_Jobs_List,_LinkedIn_Memos.ipynb\" target=\"_parent\"><img src=\"https://colab.research.google.com/assets/colab-badge.svg\" alt=\"Open In Colab\"/></a>"
      ]
    },
    {
      "metadata": {
        "id": "IXI-qTheebcz",
        "colab_type": "code",
        "colab": {}
      },
      "cell_type": "code",
      "source": [
        ""
      ],
      "execution_count": 0,
      "outputs": []
    },
    {
      "metadata": {
        "id": "uliBnfe8edtS",
        "colab_type": "text"
      },
      "cell_type": "markdown",
      "source": [
        "**Challenge**\n",
        "For your assignment, you will:\n",
        "\n",
        "**List your target geographic areas**\n",
        "  * Los Angeles\n",
        "  \n",
        "List your target industries\n",
        "  * Sports\n",
        "  * Entertainment\n",
        "  * Finance\n",
        "\n",
        "List 10 companies in your target geographic area or industry\n",
        "  * Goat, Culver City ('https://www.linkedin.com/jobs/view/929684822/') (\"https://www.goat.com\")\n",
        "  * Factual, LA  ('https://goo.gl/7aALrC' - LinkedIn)\n",
        "  * Harnam, Santa Monica ('https://www.linkedin.com/jobs/view/751368753/')\n",
        "  * FAMA, Playa Vista ('https://goo.gl/eKU3MK' - on Angel List)\n",
        "  * Snap, Venice ('https://www.linkedin.com/jobs/view/799448931/')\n",
        "  * Amazon, Santa Monica ('https://www.linkedin.com/jobs/view/897452951/')\n",
        "  \n",
        "  \n",
        "\n",
        "Find 5 data scientists who have mutual connections with you, or work in your target geographic area, or work in your target industry / company. List their URLs (to LinkedIn profile or other online presence), and something interesting about each person and/or their company.\n",
        "\n",
        "  1. John McKinnis, KPMG https://www.linkedin.com/in/johnmckinnis/ Fellow Cohort FEMBA 14\n",
        "  2. Rob Layton, Technical Recruiter Amazon - https://www.linkedin.com/in/rob-layton-b314155 - Has reached out to me previously\n",
        "  3. Ravi Iyer, DS at Facebook - https://www.linkedin.com/in/ravi-iyer-00939b4/ - GA DS Instructor \n",
        "  4. Reynaldo Garnica, UCI FEMBA Alum - https://www.linkedin.com/in/reygarnica/ FEMBA 15\n",
        "  5. Phillip North, BIT - https://www.linkedin.com/in/phillipnorth - Great contact, gave advice re: his new company, Code District, knows Yukikazu Hidaka https://www.linkedin.com/in/yhidaka\n",
        "  6. Jeremy Fuller, Hulu - https://www.linkedin.com/in/jeremyrfuller/ Connected to T. Webber, Duke, MBA, AA, LA\n",
        "  \n",
        "\n",
        "Stretch goal:\n",
        "\n",
        "Find more companies, managers, and data scientists\n",
        "\n",
        "LinkedIn Message:\n",
        "\n",
        "  1. John, It's been awhile. Hopefully, you are glad to be back in SoCal and away from all of the Northwest rain.\n",
        "  \n",
        "  I know you have been a data analyst/engineer since our UCI Merage days and was the first person I thought of for information. \n",
        "  \n",
        "  I have been moving my career in a new direction, towards data science and machine learning. I wanted to pick your brain a bit about some tips on how to best transistion into this space along with any other advice you can give.\n",
        "\n",
        "  2. Tiffany,\n",
        "  I see that you know Jeremy Fuller on LinkedIn. Maybe from Duke? He is now in working in LA as a data scientist.\n",
        "  \n",
        "  Would you be willing to introduce me to Jeremy? I am transistioning into the data science/machine learning field and would love to connect with someone similar who can give me advice/direction. If you can, cool. If not, cool too.\n",
        "  \n",
        "  Here's a quick blurb about me, if you can make the intro:\n",
        "  \n",
        "  I am currently doing a 7-month data science/machine learning intensive to go along with my mathematics degree. My background is more management consulting with an emphasis on operational efficiency, but my passions have led me back to applied analysis and data. I wanted to get your take on challenges and opportunities that you face in the industry as a minority and any advice that you could pass along.\n",
        "  \n",
        "  Any time that you can spare would be much appreciated.\n",
        "  \n",
        " -Let me know if you think I should augment this info before sending.\n",
        " \n",
        " Thanks,\n",
        " Tolbert\n"
      ]
    }
  ]
}