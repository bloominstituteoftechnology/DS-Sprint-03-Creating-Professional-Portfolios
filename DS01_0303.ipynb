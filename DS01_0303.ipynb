{
  "nbformat": 4,
  "nbformat_minor": 0,
  "metadata": {
    "colab": {
      "name": "DS01 0303.ipynb",
      "version": "0.3.2",
      "provenance": [],
      "collapsed_sections": [],
      "include_colab_link": true
    },
    "kernelspec": {
      "name": "python3",
      "display_name": "Python 3"
    },
    "accelerator": "GPU"
  },
  "cells": [
    {
      "cell_type": "markdown",
      "metadata": {
        "id": "view-in-github",
        "colab_type": "text"
      },
      "source": [
        "<a href=\"https://colab.research.google.com/github/hughjafro/DS-Sprint-03-Creating-Professional-Portfolios/blob/master/DS01_0303.ipynb\" target=\"_parent\"><img src=\"https://colab.research.google.com/assets/colab-badge.svg\" alt=\"Open In Colab\"/></a>"
      ]
    },
    {
      "metadata": {
        "id": "RXfs8BQkEoYU",
        "colab_type": "text"
      },
      "cell_type": "markdown",
      "source": [
        "**Prep for CC: repl.it**\n",
        "\n",
        "**ASCII Histogram**\n",
        "\n",
        "The goal of this coding challenge is to create a histogram using only ASCII characters.\n",
        "\n",
        "The function ascii_histogram() should print out a unique value from the tuple some_numbers in ascending order.\n",
        "\n",
        "Each line will contain a single number space followed by a space and + signs representing the frequency of that number in the some_numbers tuple.\n",
        "\n",
        "Example:\n",
        "ascii_histogram([0, 3, 0, 3, 0, -1, 0, -11, 20, 20])\n",
        "\n",
        "Output: \n",
        "-11 +\n",
        "  0 ++++\n",
        " -1 +\n",
        "  3 ++\n",
        " 20 ++\n",
        "\n",
        "You will need a precise print format in order to pass the test, which looks at the printed output of the program.\n",
        "\n",
        "Also to pass the test:\n",
        "Each successive number should increase in order.\n",
        "Give your number 3 digits of space (see output above).\n",
        "The number should be followed by 1 blank space.\n",
        "+ signs equivalent to the frequency of that number should follow the blank space.\n",
        "\n",
        "The code included is just a guide. Don't change the some_numbers tuple, but feel free to do whatever you need to do to get the proper output as described above.\n",
        "\n",
        "**STRETCH GOAL:** \n",
        "\n",
        "You blew through this and need something else TODO?\n",
        "\n",
        "Let's make this a FizzBuzZ-ogram!\n",
        "\n",
        "(Copy your code to another python development environment. \n",
        "Leave your working code alone and submit!)\n",
        "\n",
        "1. For numbers that are multiples of 3 switch the '+' to an 'f'\n",
        "2. For numbers that are multiples of 5 switch the '+' to a 'b'\n",
        "3. For numbers that are multiples of 3 and 5 switch the '+' to a 'z'\n"
      ]
    },
    {
      "metadata": {
        "id": "5x1wZJCUE3Lq",
        "colab_type": "code",
        "colab": {}
      },
      "cell_type": "code",
      "source": [
        "some_numbers = (-1, -15,   2,   1,   3,  16,  -3,  13,   3,   7,   5,  16, -11,\n",
        "         2,   1,  15,   5,  -1,  -8,   4, -13,   7,  14,   9,   4, -17,\n",
        "        21,  -5,   0,   5, -11, -21,  -6,   2,  -2,  -3,   6,   6,   0,\n",
        "        19,  -6,   5,   8,   2,  -9,  -9,   0,   0,   6,   2,   6,  22,\n",
        "        -5,  -4,  -4, -15, -26,   5,  -1,   4,   1,  -5,  20, -11, -22,\n",
        "        12,  -5,  12,  16,  10,  -9,   6,   0,   9,   5,   3, -14,  -4,\n",
        "         1,   4,  -4,  15,  16,  -3,  10,  -3,  22, -12,   9,  -8,  -3,\n",
        "        -9,  -2, -26,   7,  18,  -9,  -1,   7,  -2, -23,  12,  10,   1,\n",
        "        -4,  -2,   0,   0,   3,   2,   1,   4,   9,   9,  10,   0,  -8,\n",
        "        33, -21,  -7,   9,   6,  10,  11, -12, -12,  -9,  -2,  11, -15,\n",
        "        19,  14,  -6,  -3,   6,   1,   6,   6,  11,   3,   6,  19,  -9,\n",
        "       -11,  -2,   3, -14,   9,   8, -13, -18,   4,  13, -17,  11, -15,\n",
        "        22,  -8,  14,  11,  -4,  -4,  -6, -22,   2,  -1, -18,  -1,  -5,\n",
        "        -9,   4,   6,  14,   5,   2,   7,  13,  18,  -6,  -6,   0,  -4,\n",
        "         2,  -7, -12,  -4,  -3, -13,   5,  22, -13, -10,   2,   3,   2,\n",
        "        25,   8,   7,   5, -19,  -9, -20,  11,  -3,  -6,  -8,  -8,  -6,\n",
        "         9,   7,  12, -10,   5,  -1,  13, -11, -11,   6, -12,   2,   8,\n",
        "         5,  17,  -5,  -7, -12, -14,  -4, -24,  -8,   4,   3,  -1,  10,\n",
        "       -12,  26,  16, -22, -13,  12,   3,  -6, -10, -12,  -2,   4,  -7,\n",
        "        -3, -13,   8,   6, -13,  -5,  10,   2, -16,  -7,   4, -26,   3,\n",
        "        -5,  -1,   8,  -9,  12,   1,   9,  -9, -25,   2,  -2,  14,  21,\n",
        "        -1, -12, -13,   9,  24,  24,  -5, -18, -14,  -1,  15, -16, -13,\n",
        "        11,   4,  24,  -1,  11, -16,  -1, -15,  -9,  10,  -6, -18,   6,\n",
        "        18,   1,  -1,  -4, -12,  -5,   4,  -3,  20,   1,   5,   4,  -1,\n",
        "        19,  21,  14,   0,   2, -14,   8,   1,   8,  -3,  11, -12,  -4,\n",
        "        15,   1,   2,   2,  11,  -2, -27,   0)"
      ],
      "execution_count": 0,
      "outputs": []
    },
    {
      "metadata": {
        "id": "ZBPT1zFXE9FB",
        "colab_type": "code",
        "colab": {}
      },
      "cell_type": "code",
      "source": [
        "def hand_histogram(seq) -> dict:\n",
        "    \"\"\" Tally elements form `seq`. \"\"\"\n",
        "    hstgrm = {}\n",
        "    for i in seq:\n",
        "        hstgrm[i] = hstgrm.get(i, 0) + 1\n",
        "\n",
        "    return hstgrm"
      ],
      "execution_count": 0,
      "outputs": []
    },
    {
      "metadata": {
        "id": "ZMFR3WqCK5vR",
        "colab_type": "code",
        "colab": {}
      },
      "cell_type": "code",
      "source": [
        "hand = hand_histogram(some_numbers)"
      ],
      "execution_count": 0,
      "outputs": []
    },
    {
      "metadata": {
        "id": "NX5KF0iVLHKi",
        "colab_type": "code",
        "colab": {}
      },
      "cell_type": "code",
      "source": [
        "def length_nums(amount):\n",
        "  length = {}\n",
        "  for i in amount:\n",
        "    len(i)\n",
        "  return length"
      ],
      "execution_count": 0,
      "outputs": []
    },
    {
      "metadata": {
        "id": "9w7yNAXjNNSJ",
        "colab_type": "code",
        "colab": {
          "base_uri": "https://localhost:8080/",
          "height": 266
        },
        "outputId": "0d74ee86-02fe-4f7c-c7c6-201a49352c36"
      },
      "cell_type": "code",
      "source": [
        "length_nums(hand)"
      ],
      "execution_count": 21,
      "outputs": [
        {
          "output_type": "error",
          "ename": "TypeError",
          "evalue": "ignored",
          "traceback": [
            "\u001b[0;31m---------------------------------------------------------------------------\u001b[0m",
            "\u001b[0;31mTypeError\u001b[0m                                 Traceback (most recent call last)",
            "\u001b[0;32m<ipython-input-21-9f9d2172a744>\u001b[0m in \u001b[0;36m<module>\u001b[0;34m()\u001b[0m\n\u001b[0;32m----> 1\u001b[0;31m \u001b[0mlength_nums\u001b[0m\u001b[0;34m(\u001b[0m\u001b[0mhand\u001b[0m\u001b[0;34m)\u001b[0m\u001b[0;34m\u001b[0m\u001b[0;34m\u001b[0m\u001b[0m\n\u001b[0m",
            "\u001b[0;32m<ipython-input-20-2db6afc1a38a>\u001b[0m in \u001b[0;36mlength_nums\u001b[0;34m(amount)\u001b[0m\n\u001b[1;32m      2\u001b[0m   \u001b[0mlength\u001b[0m \u001b[0;34m=\u001b[0m \u001b[0;34m{\u001b[0m\u001b[0;34m}\u001b[0m\u001b[0;34m\u001b[0m\u001b[0;34m\u001b[0m\u001b[0m\n\u001b[1;32m      3\u001b[0m   \u001b[0;32mfor\u001b[0m \u001b[0mi\u001b[0m \u001b[0;32min\u001b[0m \u001b[0mamount\u001b[0m\u001b[0;34m:\u001b[0m\u001b[0;34m\u001b[0m\u001b[0;34m\u001b[0m\u001b[0m\n\u001b[0;32m----> 4\u001b[0;31m     \u001b[0mlen\u001b[0m\u001b[0;34m(\u001b[0m\u001b[0mi\u001b[0m\u001b[0;34m)\u001b[0m\u001b[0;34m\u001b[0m\u001b[0;34m\u001b[0m\u001b[0m\n\u001b[0m\u001b[1;32m      5\u001b[0m   \u001b[0;32mreturn\u001b[0m \u001b[0mlength\u001b[0m\u001b[0;34m\u001b[0m\u001b[0;34m\u001b[0m\u001b[0m\n",
            "\u001b[0;31mTypeError\u001b[0m: object of type 'int' has no len()"
          ]
        }
      ]
    },
    {
      "metadata": {
        "id": "OptMiUeHFHZ9",
        "colab_type": "code",
        "colab": {}
      },
      "cell_type": "code",
      "source": [
        "def ascii_histogram(seq) -> None:\n",
        "    \"\"\"A horizontal frequency-table/histogram plot.\"\"\"\n",
        "    # **** Your code here !!! *****\n",
        "    pass"
      ],
      "execution_count": 0,
      "outputs": []
    },
    {
      "metadata": {
        "id": "IEGi84R_ON6Z",
        "colab_type": "text"
      },
      "cell_type": "markdown",
      "source": [
        "**Time for solution with Darwin\n",
        "\n",
        "Didn't do well"
      ]
    },
    {
      "metadata": {
        "id": "iJThqy47OgOz",
        "colab_type": "code",
        "colab": {}
      },
      "cell_type": "code",
      "source": [
        "some_numbers = (-1, -15,   2,   1,   3,  16,  -3,  13,   3,   7,   5,  16, -11,\n",
        "         2,   1,  15,   5,  -1,  -8,   4, -13,   7,  14,   9,   4, -17,\n",
        "        21,  -5,   0,   5, -11, -21,  -6,   2,  -2,  -3,   6,   6,   0,\n",
        "        19,  -6,   5,   8,   2,  -9,  -9,   0,   0,   6,   2,   6,  22,\n",
        "        -5,  -4,  -4, -15, -26,   5,  -1,   4,   1,  -5,  20, -11, -22,\n",
        "        12,  -5,  12,  16,  10,  -9,   6,   0,   9,   5,   3, -14,  -4,\n",
        "         1,   4,  -4,  15,  16,  -3,  10,  -3,  22, -12,   9,  -8,  -3,\n",
        "        -9,  -2, -26,   7,  18,  -9,  -1,   7,  -2, -23,  12,  10,   1,\n",
        "        -4,  -2,   0,   0,   3,   2,   1,   4,   9,   9,  10,   0,  -8,\n",
        "        33, -21,  -7,   9,   6,  10,  11, -12, -12,  -9,  -2,  11, -15,\n",
        "        19,  14,  -6,  -3,   6,   1,   6,   6,  11,   3,   6,  19,  -9,\n",
        "       -11,  -2,   3, -14,   9,   8, -13, -18,   4,  13, -17,  11, -15,\n",
        "        22,  -8,  14,  11,  -4,  -4,  -6, -22,   2,  -1, -18,  -1,  -5,\n",
        "        -9,   4,   6,  14,   5,   2,   7,  13,  18,  -6,  -6,   0,  -4,\n",
        "         2,  -7, -12,  -4,  -3, -13,   5,  22, -13, -10,   2,   3,   2,\n",
        "        25,   8,   7,   5, -19,  -9, -20,  11,  -3,  -6,  -8,  -8,  -6,\n",
        "         9,   7,  12, -10,   5,  -1,  13, -11, -11,   6, -12,   2,   8,\n",
        "         5,  17,  -5,  -7, -12, -14,  -4, -24,  -8,   4,   3,  -1,  10,\n",
        "       -12,  26,  16, -22, -13,  12,   3,  -6, -10, -12,  -2,   4,  -7,\n",
        "        -3, -13,   8,   6, -13,  -5,  10,   2, -16,  -7,   4, -26,   3,\n",
        "        -5,  -1,   8,  -9,  12,   1,   9,  -9, -25,   2,  -2,  14,  21,\n",
        "        -1, -12, -13,   9,  24,  24,  -5, -18, -14,  -1,  15, -16, -13,\n",
        "        11,   4,  24,  -1,  11, -16,  -1, -15,  -9,  10,  -6, -18,   6,\n",
        "        18,   1,  -1,  -4, -12,  -5,   4,  -3,  20,   1,   5,   4,  -1,\n",
        "        19,  21,  14,   0,   2, -14,   8,   1,   8,  -3,  11, -12,  -4,\n",
        "        15,   1,   2,   2,  11,  -2, -27,   0)"
      ],
      "execution_count": 0,
      "outputs": []
    },
    {
      "metadata": {
        "id": "BFNId5j4OjI-",
        "colab_type": "code",
        "colab": {}
      },
      "cell_type": "code",
      "source": [
        "def hand_histogram(seq) -> dict:\n",
        "    \"\"\" Tally elements form `seq`. \"\"\"\n",
        "    hstgrm = {}\n",
        "    for i in seq:\n",
        "        hstgrm[i] = hstgrm.get(i, 0) + 1\n",
        "\n",
        "    return hstgrm"
      ],
      "execution_count": 0,
      "outputs": []
    },
    {
      "metadata": {
        "id": "rl8Qp5dEFU3a",
        "colab_type": "code",
        "colab": {
          "base_uri": "https://localhost:8080/",
          "height": 54
        },
        "outputId": "2486ac4e-48ee-47c5-d78f-97dbba840dea"
      },
      "cell_type": "code",
      "source": [
        "init_counted = hand_histogram(some_numbers)\n",
        "print(init_counted)"
      ],
      "execution_count": 22,
      "outputs": [
        {
          "output_type": "stream",
          "text": [
            "{-1: 15, -15: 5, 2: 17, 1: 12, 3: 10, 16: 5, -3: 11, 13: 4, 7: 7, 5: 12, -11: 6, 15: 4, -8: 7, 4: 13, -13: 9, 14: 6, 9: 10, -17: 2, 21: 3, -5: 10, 0: 11, -21: 2, -6: 10, -2: 9, 6: 14, 19: 4, 8: 8, -9: 12, 22: 4, -4: 12, -26: 3, 20: 2, -22: 3, 12: 6, 10: 8, -14: 5, -12: 11, 18: 3, -23: 1, 33: 1, -7: 5, 11: 10, -18: 4, -10: 3, 25: 1, -19: 1, -20: 1, 17: 1, -24: 1, 26: 1, -16: 3, -25: 1, 24: 3, -27: 1}\n"
          ],
          "name": "stdout"
        }
      ]
    },
    {
      "metadata": {
        "id": "mybgTdtPF-2s",
        "colab_type": "code",
        "colab": {}
      },
      "cell_type": "code",
      "source": [
        "# Want to spkit out the keys and freq values\n",
        "values = list(init_counted.keys())\n",
        "frequency = list(init_counted.values())"
      ],
      "execution_count": 0,
      "outputs": []
    },
    {
      "metadata": {
        "id": "MrB4C29DO0Oo",
        "colab_type": "code",
        "colab": {}
      },
      "cell_type": "code",
      "source": [
        "data = []"
      ],
      "execution_count": 0,
      "outputs": []
    },
    {
      "metadata": {
        "id": "NKxPdqDnO2QZ",
        "colab_type": "code",
        "colab": {}
      },
      "cell_type": "code",
      "source": [
        "for f,v in zip(frequency, values):\n",
        "  data.extend([v] * f)"
      ],
      "execution_count": 0,
      "outputs": []
    },
    {
      "metadata": {
        "id": "PSkohgs2O-N-",
        "colab_type": "code",
        "colab": {
          "base_uri": "https://localhost:8080/",
          "height": 54
        },
        "outputId": "fbcebf74-44ab-42ed-b3f5-cc8ba21276f4"
      },
      "cell_type": "code",
      "source": [
        "print(data)"
      ],
      "execution_count": 27,
      "outputs": [
        {
          "output_type": "stream",
          "text": [
            "[-1, -1, -1, -1, -1, -1, -1, -1, -1, -1, -1, -1, -1, -1, -1, -15, -15, -15, -15, -15, 2, 2, 2, 2, 2, 2, 2, 2, 2, 2, 2, 2, 2, 2, 2, 2, 2, 1, 1, 1, 1, 1, 1, 1, 1, 1, 1, 1, 1, 3, 3, 3, 3, 3, 3, 3, 3, 3, 3, 16, 16, 16, 16, 16, -3, -3, -3, -3, -3, -3, -3, -3, -3, -3, -3, 13, 13, 13, 13, 7, 7, 7, 7, 7, 7, 7, 5, 5, 5, 5, 5, 5, 5, 5, 5, 5, 5, 5, -11, -11, -11, -11, -11, -11, 15, 15, 15, 15, -8, -8, -8, -8, -8, -8, -8, 4, 4, 4, 4, 4, 4, 4, 4, 4, 4, 4, 4, 4, -13, -13, -13, -13, -13, -13, -13, -13, -13, 14, 14, 14, 14, 14, 14, 9, 9, 9, 9, 9, 9, 9, 9, 9, 9, -17, -17, 21, 21, 21, -5, -5, -5, -5, -5, -5, -5, -5, -5, -5, 0, 0, 0, 0, 0, 0, 0, 0, 0, 0, 0, -21, -21, -6, -6, -6, -6, -6, -6, -6, -6, -6, -6, -2, -2, -2, -2, -2, -2, -2, -2, -2, 6, 6, 6, 6, 6, 6, 6, 6, 6, 6, 6, 6, 6, 6, 19, 19, 19, 19, 8, 8, 8, 8, 8, 8, 8, 8, -9, -9, -9, -9, -9, -9, -9, -9, -9, -9, -9, -9, 22, 22, 22, 22, -4, -4, -4, -4, -4, -4, -4, -4, -4, -4, -4, -4, -26, -26, -26, 20, 20, -22, -22, -22, 12, 12, 12, 12, 12, 12, 10, 10, 10, 10, 10, 10, 10, 10, -14, -14, -14, -14, -14, -12, -12, -12, -12, -12, -12, -12, -12, -12, -12, -12, 18, 18, 18, -23, 33, -7, -7, -7, -7, -7, 11, 11, 11, 11, 11, 11, 11, 11, 11, 11, -18, -18, -18, -18, -10, -10, -10, 25, -19, -20, 17, -24, 26, -16, -16, -16, -25, 24, 24, 24, -27]\n"
          ],
          "name": "stdout"
        }
      ]
    },
    {
      "metadata": {
        "id": "pjGPjmrpO_WA",
        "colab_type": "code",
        "colab": {
          "base_uri": "https://localhost:8080/",
          "height": 935
        },
        "outputId": "2ae4c0b5-746e-45b2-aaa9-036f0f758f26"
      },
      "cell_type": "code",
      "source": [
        "def ascii_histogram(seq) -> None:\n",
        "  \"\"\"A horizontal frequency-table/histogram plot.\"\"\"\n",
        "  counted = hand_histogram(seq)\n",
        "  for k in sorted(counted):\n",
        "    print('{0:3d} {1}'.format(k, '+' * counted [k]))\n",
        "    \n",
        "ascii_histogram(data)"
      ],
      "execution_count": 29,
      "outputs": [
        {
          "output_type": "stream",
          "text": [
            "-27 +\n",
            "-26 +++\n",
            "-25 +\n",
            "-24 +\n",
            "-23 +\n",
            "-22 +++\n",
            "-21 ++\n",
            "-20 +\n",
            "-19 +\n",
            "-18 ++++\n",
            "-17 ++\n",
            "-16 +++\n",
            "-15 +++++\n",
            "-14 +++++\n",
            "-13 +++++++++\n",
            "-12 +++++++++++\n",
            "-11 ++++++\n",
            "-10 +++\n",
            " -9 ++++++++++++\n",
            " -8 +++++++\n",
            " -7 +++++\n",
            " -6 ++++++++++\n",
            " -5 ++++++++++\n",
            " -4 ++++++++++++\n",
            " -3 +++++++++++\n",
            " -2 +++++++++\n",
            " -1 +++++++++++++++\n",
            "  0 +++++++++++\n",
            "  1 ++++++++++++\n",
            "  2 +++++++++++++++++\n",
            "  3 ++++++++++\n",
            "  4 +++++++++++++\n",
            "  5 ++++++++++++\n",
            "  6 ++++++++++++++\n",
            "  7 +++++++\n",
            "  8 ++++++++\n",
            "  9 ++++++++++\n",
            " 10 ++++++++\n",
            " 11 ++++++++++\n",
            " 12 ++++++\n",
            " 13 ++++\n",
            " 14 ++++++\n",
            " 15 ++++\n",
            " 16 +++++\n",
            " 17 +\n",
            " 18 +++\n",
            " 19 ++++\n",
            " 20 ++\n",
            " 21 +++\n",
            " 22 ++++\n",
            " 24 +++\n",
            " 25 +\n",
            " 26 +\n",
            " 33 +\n"
          ],
          "name": "stdout"
        }
      ]
    },
    {
      "metadata": {
        "id": "ME-suawBVfoW",
        "colab_type": "text"
      },
      "cell_type": "markdown",
      "source": [
        "**Start of notes for class\n",
        "\n",
        "Professional development practice \n",
        "\n",
        "\n",
        "\n",
        "1.   Create a learning plan\n",
        "      * python\n",
        "        * functions\n",
        "          * Watch tutorials\n",
        "          * Read tutorials\n",
        "        * lambda\n",
        "          * Watch tutorials\n",
        "          * Read tutorials\n",
        "        * \n",
        "      * pandas\n",
        "      * Data viz\n",
        " \n",
        "2.    Follow up with a mentor\n",
        "\n",
        "3. I am doing a 7 month intensive in Data Science at Lambda School. When I am done I would love to consider a company like XYZ\n",
        "\n",
        "\n",
        "\n"
      ]
    },
    {
      "metadata": {
        "id": "7qPlqTJgPrLe",
        "colab_type": "code",
        "colab": {}
      },
      "cell_type": "code",
      "source": [
        ""
      ],
      "execution_count": 0,
      "outputs": []
    },
    {
      "metadata": {
        "colab_type": "text",
        "id": "dFsXuBZie3sZ"
      },
      "cell_type": "markdown",
      "source": [
        ""
      ]
    },
    {
      "metadata": {
        "id": "y5HfEPEPpKSP",
        "colab_type": "text"
      },
      "cell_type": "markdown",
      "source": [
        "**Web scraping\n",
        "\n",
        "switchup.org 2019 best coding bootcamps\n",
        "\n",
        "**REsources\n",
        "\n",
        "  * Automatetheboringstuff.com\n",
        "  * Concrete practical stuff\n"
      ]
    },
    {
      "metadata": {
        "id": "wrXLGpHApsqb",
        "colab_type": "code",
        "colab": {
          "base_uri": "https://localhost:8080/",
          "height": 2139
        },
        "outputId": "987d18a5-252d-46a1-f3a3-d5fd067a2532"
      },
      "cell_type": "code",
      "source": [
        "import bs4\n",
        "import pandas as pd\n",
        "import requests\n",
        "\n",
        "\n",
        "def scrape (url):\n",
        "  result = requests.get(url)\n",
        "  soup = bs4.BeautifulSoup(result.text, 'html.parser')\n",
        "  schools = [a.text for a in soup.select('h3')]\n",
        "  ratings = [float(span.text.split('/')[0] for span in soup.select('.ranking-item__rating--value'))]\n",
        "  reviews = [int(a.text.split()[0]) for a in soup.select('ranking-item__rating--count a')]\n",
        "  ranks = range(1, len(schools)+1)\n",
        "  data = pd.DataFrame({'rank': ranks, 'ratings': ratings, 'reviews': reviews}, index = schools)\n",
        "  return data\n",
        "\n",
        "overall = scrape('https://switchup.org/rankings/best-coding-bootcamps')\n",
        "online = scrape('https://switchup.org/rankings/best-online-bootcamps')"
      ],
      "execution_count": 1,
      "outputs": [
        {
          "output_type": "error",
          "ename": "ConnectionError",
          "evalue": "ignored",
          "traceback": [
            "\u001b[0;31m---------------------------------------------------------------------------\u001b[0m",
            "\u001b[0;31mTimeoutError\u001b[0m                              Traceback (most recent call last)",
            "\u001b[0;32m/usr/local/lib/python3.6/dist-packages/urllib3/connection.py\u001b[0m in \u001b[0;36m_new_conn\u001b[0;34m(self)\u001b[0m\n\u001b[1;32m    140\u001b[0m             conn = connection.create_connection(\n\u001b[0;32m--> 141\u001b[0;31m                 (self.host, self.port), self.timeout, **extra_kw)\n\u001b[0m\u001b[1;32m    142\u001b[0m \u001b[0;34m\u001b[0m\u001b[0m\n",
            "\u001b[0;32m/usr/local/lib/python3.6/dist-packages/urllib3/util/connection.py\u001b[0m in \u001b[0;36mcreate_connection\u001b[0;34m(address, timeout, source_address, socket_options)\u001b[0m\n\u001b[1;32m     82\u001b[0m     \u001b[0;32mif\u001b[0m \u001b[0merr\u001b[0m \u001b[0;32mis\u001b[0m \u001b[0;32mnot\u001b[0m \u001b[0;32mNone\u001b[0m\u001b[0;34m:\u001b[0m\u001b[0;34m\u001b[0m\u001b[0;34m\u001b[0m\u001b[0m\n\u001b[0;32m---> 83\u001b[0;31m         \u001b[0;32mraise\u001b[0m \u001b[0merr\u001b[0m\u001b[0;34m\u001b[0m\u001b[0;34m\u001b[0m\u001b[0m\n\u001b[0m\u001b[1;32m     84\u001b[0m \u001b[0;34m\u001b[0m\u001b[0m\n",
            "\u001b[0;32m/usr/local/lib/python3.6/dist-packages/urllib3/util/connection.py\u001b[0m in \u001b[0;36mcreate_connection\u001b[0;34m(address, timeout, source_address, socket_options)\u001b[0m\n\u001b[1;32m     72\u001b[0m                 \u001b[0msock\u001b[0m\u001b[0;34m.\u001b[0m\u001b[0mbind\u001b[0m\u001b[0;34m(\u001b[0m\u001b[0msource_address\u001b[0m\u001b[0;34m)\u001b[0m\u001b[0;34m\u001b[0m\u001b[0;34m\u001b[0m\u001b[0m\n\u001b[0;32m---> 73\u001b[0;31m             \u001b[0msock\u001b[0m\u001b[0;34m.\u001b[0m\u001b[0mconnect\u001b[0m\u001b[0;34m(\u001b[0m\u001b[0msa\u001b[0m\u001b[0;34m)\u001b[0m\u001b[0;34m\u001b[0m\u001b[0;34m\u001b[0m\u001b[0m\n\u001b[0m\u001b[1;32m     74\u001b[0m             \u001b[0;32mreturn\u001b[0m \u001b[0msock\u001b[0m\u001b[0;34m\u001b[0m\u001b[0;34m\u001b[0m\u001b[0m\n",
            "\u001b[0;31mTimeoutError\u001b[0m: [Errno 110] Connection timed out",
            "\nDuring handling of the above exception, another exception occurred:\n",
            "\u001b[0;31mNewConnectionError\u001b[0m                        Traceback (most recent call last)",
            "\u001b[0;32m/usr/local/lib/python3.6/dist-packages/urllib3/connectionpool.py\u001b[0m in \u001b[0;36murlopen\u001b[0;34m(self, method, url, body, headers, retries, redirect, assert_same_host, timeout, pool_timeout, release_conn, chunked, body_pos, **response_kw)\u001b[0m\n\u001b[1;32m    600\u001b[0m                                                   \u001b[0mbody\u001b[0m\u001b[0;34m=\u001b[0m\u001b[0mbody\u001b[0m\u001b[0;34m,\u001b[0m \u001b[0mheaders\u001b[0m\u001b[0;34m=\u001b[0m\u001b[0mheaders\u001b[0m\u001b[0;34m,\u001b[0m\u001b[0;34m\u001b[0m\u001b[0;34m\u001b[0m\u001b[0m\n\u001b[0;32m--> 601\u001b[0;31m                                                   chunked=chunked)\n\u001b[0m\u001b[1;32m    602\u001b[0m \u001b[0;34m\u001b[0m\u001b[0m\n",
            "\u001b[0;32m/usr/local/lib/python3.6/dist-packages/urllib3/connectionpool.py\u001b[0m in \u001b[0;36m_make_request\u001b[0;34m(self, conn, method, url, timeout, chunked, **httplib_request_kw)\u001b[0m\n\u001b[1;32m    345\u001b[0m         \u001b[0;32mtry\u001b[0m\u001b[0;34m:\u001b[0m\u001b[0;34m\u001b[0m\u001b[0;34m\u001b[0m\u001b[0m\n\u001b[0;32m--> 346\u001b[0;31m             \u001b[0mself\u001b[0m\u001b[0;34m.\u001b[0m\u001b[0m_validate_conn\u001b[0m\u001b[0;34m(\u001b[0m\u001b[0mconn\u001b[0m\u001b[0;34m)\u001b[0m\u001b[0;34m\u001b[0m\u001b[0;34m\u001b[0m\u001b[0m\n\u001b[0m\u001b[1;32m    347\u001b[0m         \u001b[0;32mexcept\u001b[0m \u001b[0;34m(\u001b[0m\u001b[0mSocketTimeout\u001b[0m\u001b[0;34m,\u001b[0m \u001b[0mBaseSSLError\u001b[0m\u001b[0;34m)\u001b[0m \u001b[0;32mas\u001b[0m \u001b[0me\u001b[0m\u001b[0;34m:\u001b[0m\u001b[0;34m\u001b[0m\u001b[0;34m\u001b[0m\u001b[0m\n",
            "\u001b[0;32m/usr/local/lib/python3.6/dist-packages/urllib3/connectionpool.py\u001b[0m in \u001b[0;36m_validate_conn\u001b[0;34m(self, conn)\u001b[0m\n\u001b[1;32m    849\u001b[0m         \u001b[0;32mif\u001b[0m \u001b[0;32mnot\u001b[0m \u001b[0mgetattr\u001b[0m\u001b[0;34m(\u001b[0m\u001b[0mconn\u001b[0m\u001b[0;34m,\u001b[0m \u001b[0;34m'sock'\u001b[0m\u001b[0;34m,\u001b[0m \u001b[0;32mNone\u001b[0m\u001b[0;34m)\u001b[0m\u001b[0;34m:\u001b[0m  \u001b[0;31m# AppEngine might not have  `.sock`\u001b[0m\u001b[0;34m\u001b[0m\u001b[0;34m\u001b[0m\u001b[0m\n\u001b[0;32m--> 850\u001b[0;31m             \u001b[0mconn\u001b[0m\u001b[0;34m.\u001b[0m\u001b[0mconnect\u001b[0m\u001b[0;34m(\u001b[0m\u001b[0;34m)\u001b[0m\u001b[0;34m\u001b[0m\u001b[0;34m\u001b[0m\u001b[0m\n\u001b[0m\u001b[1;32m    851\u001b[0m \u001b[0;34m\u001b[0m\u001b[0m\n",
            "\u001b[0;32m/usr/local/lib/python3.6/dist-packages/urllib3/connection.py\u001b[0m in \u001b[0;36mconnect\u001b[0;34m(self)\u001b[0m\n\u001b[1;32m    283\u001b[0m         \u001b[0;31m# Add certificate verification\u001b[0m\u001b[0;34m\u001b[0m\u001b[0;34m\u001b[0m\u001b[0;34m\u001b[0m\u001b[0m\n\u001b[0;32m--> 284\u001b[0;31m         \u001b[0mconn\u001b[0m \u001b[0;34m=\u001b[0m \u001b[0mself\u001b[0m\u001b[0;34m.\u001b[0m\u001b[0m_new_conn\u001b[0m\u001b[0;34m(\u001b[0m\u001b[0;34m)\u001b[0m\u001b[0;34m\u001b[0m\u001b[0;34m\u001b[0m\u001b[0m\n\u001b[0m\u001b[1;32m    285\u001b[0m \u001b[0;34m\u001b[0m\u001b[0m\n",
            "\u001b[0;32m/usr/local/lib/python3.6/dist-packages/urllib3/connection.py\u001b[0m in \u001b[0;36m_new_conn\u001b[0;34m(self)\u001b[0m\n\u001b[1;32m    149\u001b[0m             raise NewConnectionError(\n\u001b[0;32m--> 150\u001b[0;31m                 self, \"Failed to establish a new connection: %s\" % e)\n\u001b[0m\u001b[1;32m    151\u001b[0m \u001b[0;34m\u001b[0m\u001b[0m\n",
            "\u001b[0;31mNewConnectionError\u001b[0m: <urllib3.connection.VerifiedHTTPSConnection object at 0x7fc4c00588d0>: Failed to establish a new connection: [Errno 110] Connection timed out",
            "\nDuring handling of the above exception, another exception occurred:\n",
            "\u001b[0;31mMaxRetryError\u001b[0m                             Traceback (most recent call last)",
            "\u001b[0;32m/usr/local/lib/python3.6/dist-packages/requests/adapters.py\u001b[0m in \u001b[0;36msend\u001b[0;34m(self, request, stream, timeout, verify, cert, proxies)\u001b[0m\n\u001b[1;32m    439\u001b[0m                     \u001b[0mretries\u001b[0m\u001b[0;34m=\u001b[0m\u001b[0mself\u001b[0m\u001b[0;34m.\u001b[0m\u001b[0mmax_retries\u001b[0m\u001b[0;34m,\u001b[0m\u001b[0;34m\u001b[0m\u001b[0;34m\u001b[0m\u001b[0m\n\u001b[0;32m--> 440\u001b[0;31m                     \u001b[0mtimeout\u001b[0m\u001b[0;34m=\u001b[0m\u001b[0mtimeout\u001b[0m\u001b[0;34m\u001b[0m\u001b[0;34m\u001b[0m\u001b[0m\n\u001b[0m\u001b[1;32m    441\u001b[0m                 )\n",
            "\u001b[0;32m/usr/local/lib/python3.6/dist-packages/urllib3/connectionpool.py\u001b[0m in \u001b[0;36murlopen\u001b[0;34m(self, method, url, body, headers, retries, redirect, assert_same_host, timeout, pool_timeout, release_conn, chunked, body_pos, **response_kw)\u001b[0m\n\u001b[1;32m    638\u001b[0m             retries = retries.increment(method, url, error=e, _pool=self,\n\u001b[0;32m--> 639\u001b[0;31m                                         _stacktrace=sys.exc_info()[2])\n\u001b[0m\u001b[1;32m    640\u001b[0m             \u001b[0mretries\u001b[0m\u001b[0;34m.\u001b[0m\u001b[0msleep\u001b[0m\u001b[0;34m(\u001b[0m\u001b[0;34m)\u001b[0m\u001b[0;34m\u001b[0m\u001b[0;34m\u001b[0m\u001b[0m\n",
            "\u001b[0;32m/usr/local/lib/python3.6/dist-packages/urllib3/util/retry.py\u001b[0m in \u001b[0;36mincrement\u001b[0;34m(self, method, url, response, error, _pool, _stacktrace)\u001b[0m\n\u001b[1;32m    387\u001b[0m         \u001b[0;32mif\u001b[0m \u001b[0mnew_retry\u001b[0m\u001b[0;34m.\u001b[0m\u001b[0mis_exhausted\u001b[0m\u001b[0;34m(\u001b[0m\u001b[0;34m)\u001b[0m\u001b[0;34m:\u001b[0m\u001b[0;34m\u001b[0m\u001b[0;34m\u001b[0m\u001b[0m\n\u001b[0;32m--> 388\u001b[0;31m             \u001b[0;32mraise\u001b[0m \u001b[0mMaxRetryError\u001b[0m\u001b[0;34m(\u001b[0m\u001b[0m_pool\u001b[0m\u001b[0;34m,\u001b[0m \u001b[0murl\u001b[0m\u001b[0;34m,\u001b[0m \u001b[0merror\u001b[0m \u001b[0;32mor\u001b[0m \u001b[0mResponseError\u001b[0m\u001b[0;34m(\u001b[0m\u001b[0mcause\u001b[0m\u001b[0;34m)\u001b[0m\u001b[0;34m)\u001b[0m\u001b[0;34m\u001b[0m\u001b[0;34m\u001b[0m\u001b[0m\n\u001b[0m\u001b[1;32m    389\u001b[0m \u001b[0;34m\u001b[0m\u001b[0m\n",
            "\u001b[0;31mMaxRetryError\u001b[0m: HTTPSConnectionPool(host='switchup.org', port=443): Max retries exceeded with url: /rankings/best-coding-bootcamps (Caused by NewConnectionError('<urllib3.connection.VerifiedHTTPSConnection object at 0x7fc4c00588d0>: Failed to establish a new connection: [Errno 110] Connection timed out',))",
            "\nDuring handling of the above exception, another exception occurred:\n",
            "\u001b[0;31mConnectionError\u001b[0m                           Traceback (most recent call last)",
            "\u001b[0;32m<ipython-input-1-741e3449f876>\u001b[0m in \u001b[0;36m<module>\u001b[0;34m()\u001b[0m\n\u001b[1;32m     14\u001b[0m   \u001b[0;32mreturn\u001b[0m \u001b[0mdata\u001b[0m\u001b[0;34m\u001b[0m\u001b[0;34m\u001b[0m\u001b[0m\n\u001b[1;32m     15\u001b[0m \u001b[0;34m\u001b[0m\u001b[0m\n\u001b[0;32m---> 16\u001b[0;31m \u001b[0moverall\u001b[0m \u001b[0;34m=\u001b[0m \u001b[0mscrape\u001b[0m\u001b[0;34m(\u001b[0m\u001b[0;34m'https://switchup.org/rankings/best-coding-bootcamps'\u001b[0m\u001b[0;34m)\u001b[0m\u001b[0;34m\u001b[0m\u001b[0;34m\u001b[0m\u001b[0m\n\u001b[0m\u001b[1;32m     17\u001b[0m \u001b[0monline\u001b[0m \u001b[0;34m=\u001b[0m \u001b[0mscrape\u001b[0m\u001b[0;34m(\u001b[0m\u001b[0;34m'https://switchup.org/rankings/best-online-bootcamps'\u001b[0m\u001b[0;34m)\u001b[0m\u001b[0;34m\u001b[0m\u001b[0;34m\u001b[0m\u001b[0m\n",
            "\u001b[0;32m<ipython-input-1-741e3449f876>\u001b[0m in \u001b[0;36mscrape\u001b[0;34m(url)\u001b[0m\n\u001b[1;32m      5\u001b[0m \u001b[0;34m\u001b[0m\u001b[0m\n\u001b[1;32m      6\u001b[0m \u001b[0;32mdef\u001b[0m \u001b[0mscrape\u001b[0m \u001b[0;34m(\u001b[0m\u001b[0murl\u001b[0m\u001b[0;34m)\u001b[0m\u001b[0;34m:\u001b[0m\u001b[0;34m\u001b[0m\u001b[0;34m\u001b[0m\u001b[0m\n\u001b[0;32m----> 7\u001b[0;31m   \u001b[0mresult\u001b[0m \u001b[0;34m=\u001b[0m \u001b[0mrequests\u001b[0m\u001b[0;34m.\u001b[0m\u001b[0mget\u001b[0m\u001b[0;34m(\u001b[0m\u001b[0murl\u001b[0m\u001b[0;34m)\u001b[0m\u001b[0;34m\u001b[0m\u001b[0;34m\u001b[0m\u001b[0m\n\u001b[0m\u001b[1;32m      8\u001b[0m   \u001b[0msoup\u001b[0m \u001b[0;34m=\u001b[0m \u001b[0mbs4\u001b[0m\u001b[0;34m.\u001b[0m\u001b[0mBeautifulSoup\u001b[0m\u001b[0;34m(\u001b[0m\u001b[0mresult\u001b[0m\u001b[0;34m.\u001b[0m\u001b[0mtext\u001b[0m\u001b[0;34m,\u001b[0m \u001b[0;34m'html.parser'\u001b[0m\u001b[0;34m)\u001b[0m\u001b[0;34m\u001b[0m\u001b[0;34m\u001b[0m\u001b[0m\n\u001b[1;32m      9\u001b[0m   \u001b[0mschools\u001b[0m \u001b[0;34m=\u001b[0m \u001b[0;34m[\u001b[0m\u001b[0ma\u001b[0m\u001b[0;34m.\u001b[0m\u001b[0mtext\u001b[0m \u001b[0;32mfor\u001b[0m \u001b[0ma\u001b[0m \u001b[0;32min\u001b[0m \u001b[0msoup\u001b[0m\u001b[0;34m.\u001b[0m\u001b[0mselect\u001b[0m\u001b[0;34m(\u001b[0m\u001b[0;34m'h3'\u001b[0m\u001b[0;34m)\u001b[0m\u001b[0;34m]\u001b[0m\u001b[0;34m\u001b[0m\u001b[0;34m\u001b[0m\u001b[0m\n",
            "\u001b[0;32m/usr/local/lib/python3.6/dist-packages/requests/api.py\u001b[0m in \u001b[0;36mget\u001b[0;34m(url, params, **kwargs)\u001b[0m\n\u001b[1;32m     70\u001b[0m \u001b[0;34m\u001b[0m\u001b[0m\n\u001b[1;32m     71\u001b[0m     \u001b[0mkwargs\u001b[0m\u001b[0;34m.\u001b[0m\u001b[0msetdefault\u001b[0m\u001b[0;34m(\u001b[0m\u001b[0;34m'allow_redirects'\u001b[0m\u001b[0;34m,\u001b[0m \u001b[0;32mTrue\u001b[0m\u001b[0;34m)\u001b[0m\u001b[0;34m\u001b[0m\u001b[0;34m\u001b[0m\u001b[0m\n\u001b[0;32m---> 72\u001b[0;31m     \u001b[0;32mreturn\u001b[0m \u001b[0mrequest\u001b[0m\u001b[0;34m(\u001b[0m\u001b[0;34m'get'\u001b[0m\u001b[0;34m,\u001b[0m \u001b[0murl\u001b[0m\u001b[0;34m,\u001b[0m \u001b[0mparams\u001b[0m\u001b[0;34m=\u001b[0m\u001b[0mparams\u001b[0m\u001b[0;34m,\u001b[0m \u001b[0;34m**\u001b[0m\u001b[0mkwargs\u001b[0m\u001b[0;34m)\u001b[0m\u001b[0;34m\u001b[0m\u001b[0;34m\u001b[0m\u001b[0m\n\u001b[0m\u001b[1;32m     73\u001b[0m \u001b[0;34m\u001b[0m\u001b[0m\n\u001b[1;32m     74\u001b[0m \u001b[0;34m\u001b[0m\u001b[0m\n",
            "\u001b[0;32m/usr/local/lib/python3.6/dist-packages/requests/api.py\u001b[0m in \u001b[0;36mrequest\u001b[0;34m(method, url, **kwargs)\u001b[0m\n\u001b[1;32m     56\u001b[0m     \u001b[0;31m# cases, and look like a memory leak in others.\u001b[0m\u001b[0;34m\u001b[0m\u001b[0;34m\u001b[0m\u001b[0;34m\u001b[0m\u001b[0m\n\u001b[1;32m     57\u001b[0m     \u001b[0;32mwith\u001b[0m \u001b[0msessions\u001b[0m\u001b[0;34m.\u001b[0m\u001b[0mSession\u001b[0m\u001b[0;34m(\u001b[0m\u001b[0;34m)\u001b[0m \u001b[0;32mas\u001b[0m \u001b[0msession\u001b[0m\u001b[0;34m:\u001b[0m\u001b[0;34m\u001b[0m\u001b[0;34m\u001b[0m\u001b[0m\n\u001b[0;32m---> 58\u001b[0;31m         \u001b[0;32mreturn\u001b[0m \u001b[0msession\u001b[0m\u001b[0;34m.\u001b[0m\u001b[0mrequest\u001b[0m\u001b[0;34m(\u001b[0m\u001b[0mmethod\u001b[0m\u001b[0;34m=\u001b[0m\u001b[0mmethod\u001b[0m\u001b[0;34m,\u001b[0m \u001b[0murl\u001b[0m\u001b[0;34m=\u001b[0m\u001b[0murl\u001b[0m\u001b[0;34m,\u001b[0m \u001b[0;34m**\u001b[0m\u001b[0mkwargs\u001b[0m\u001b[0;34m)\u001b[0m\u001b[0;34m\u001b[0m\u001b[0;34m\u001b[0m\u001b[0m\n\u001b[0m\u001b[1;32m     59\u001b[0m \u001b[0;34m\u001b[0m\u001b[0m\n\u001b[1;32m     60\u001b[0m \u001b[0;34m\u001b[0m\u001b[0m\n",
            "\u001b[0;32m/usr/local/lib/python3.6/dist-packages/requests/sessions.py\u001b[0m in \u001b[0;36mrequest\u001b[0;34m(self, method, url, params, data, headers, cookies, files, auth, timeout, allow_redirects, proxies, hooks, stream, verify, cert, json)\u001b[0m\n\u001b[1;32m    506\u001b[0m         }\n\u001b[1;32m    507\u001b[0m         \u001b[0msend_kwargs\u001b[0m\u001b[0;34m.\u001b[0m\u001b[0mupdate\u001b[0m\u001b[0;34m(\u001b[0m\u001b[0msettings\u001b[0m\u001b[0;34m)\u001b[0m\u001b[0;34m\u001b[0m\u001b[0;34m\u001b[0m\u001b[0m\n\u001b[0;32m--> 508\u001b[0;31m         \u001b[0mresp\u001b[0m \u001b[0;34m=\u001b[0m \u001b[0mself\u001b[0m\u001b[0;34m.\u001b[0m\u001b[0msend\u001b[0m\u001b[0;34m(\u001b[0m\u001b[0mprep\u001b[0m\u001b[0;34m,\u001b[0m \u001b[0;34m**\u001b[0m\u001b[0msend_kwargs\u001b[0m\u001b[0;34m)\u001b[0m\u001b[0;34m\u001b[0m\u001b[0;34m\u001b[0m\u001b[0m\n\u001b[0m\u001b[1;32m    509\u001b[0m \u001b[0;34m\u001b[0m\u001b[0m\n\u001b[1;32m    510\u001b[0m         \u001b[0;32mreturn\u001b[0m \u001b[0mresp\u001b[0m\u001b[0;34m\u001b[0m\u001b[0;34m\u001b[0m\u001b[0m\n",
            "\u001b[0;32m/usr/local/lib/python3.6/dist-packages/requests/sessions.py\u001b[0m in \u001b[0;36msend\u001b[0;34m(self, request, **kwargs)\u001b[0m\n\u001b[1;32m    616\u001b[0m \u001b[0;34m\u001b[0m\u001b[0m\n\u001b[1;32m    617\u001b[0m         \u001b[0;31m# Send the request\u001b[0m\u001b[0;34m\u001b[0m\u001b[0;34m\u001b[0m\u001b[0;34m\u001b[0m\u001b[0m\n\u001b[0;32m--> 618\u001b[0;31m         \u001b[0mr\u001b[0m \u001b[0;34m=\u001b[0m \u001b[0madapter\u001b[0m\u001b[0;34m.\u001b[0m\u001b[0msend\u001b[0m\u001b[0;34m(\u001b[0m\u001b[0mrequest\u001b[0m\u001b[0;34m,\u001b[0m \u001b[0;34m**\u001b[0m\u001b[0mkwargs\u001b[0m\u001b[0;34m)\u001b[0m\u001b[0;34m\u001b[0m\u001b[0;34m\u001b[0m\u001b[0m\n\u001b[0m\u001b[1;32m    619\u001b[0m \u001b[0;34m\u001b[0m\u001b[0m\n\u001b[1;32m    620\u001b[0m         \u001b[0;31m# Total elapsed time of the request (approximately)\u001b[0m\u001b[0;34m\u001b[0m\u001b[0;34m\u001b[0m\u001b[0;34m\u001b[0m\u001b[0m\n",
            "\u001b[0;32m/usr/local/lib/python3.6/dist-packages/requests/adapters.py\u001b[0m in \u001b[0;36msend\u001b[0;34m(self, request, stream, timeout, verify, cert, proxies)\u001b[0m\n\u001b[1;32m    506\u001b[0m                 \u001b[0;32mraise\u001b[0m \u001b[0mSSLError\u001b[0m\u001b[0;34m(\u001b[0m\u001b[0me\u001b[0m\u001b[0;34m,\u001b[0m \u001b[0mrequest\u001b[0m\u001b[0;34m=\u001b[0m\u001b[0mrequest\u001b[0m\u001b[0;34m)\u001b[0m\u001b[0;34m\u001b[0m\u001b[0;34m\u001b[0m\u001b[0m\n\u001b[1;32m    507\u001b[0m \u001b[0;34m\u001b[0m\u001b[0m\n\u001b[0;32m--> 508\u001b[0;31m             \u001b[0;32mraise\u001b[0m \u001b[0mConnectionError\u001b[0m\u001b[0;34m(\u001b[0m\u001b[0me\u001b[0m\u001b[0;34m,\u001b[0m \u001b[0mrequest\u001b[0m\u001b[0;34m=\u001b[0m\u001b[0mrequest\u001b[0m\u001b[0;34m)\u001b[0m\u001b[0;34m\u001b[0m\u001b[0;34m\u001b[0m\u001b[0m\n\u001b[0m\u001b[1;32m    509\u001b[0m \u001b[0;34m\u001b[0m\u001b[0m\n\u001b[1;32m    510\u001b[0m         \u001b[0;32mexcept\u001b[0m \u001b[0mClosedPoolError\u001b[0m \u001b[0;32mas\u001b[0m \u001b[0me\u001b[0m\u001b[0;34m:\u001b[0m\u001b[0;34m\u001b[0m\u001b[0;34m\u001b[0m\u001b[0m\n",
            "\u001b[0;31mConnectionError\u001b[0m: HTTPSConnectionPool(host='switchup.org', port=443): Max retries exceeded with url: /rankings/best-coding-bootcamps (Caused by NewConnectionError('<urllib3.connection.VerifiedHTTPSConnection object at 0x7fc4c00588d0>: Failed to establish a new connection: [Errno 110] Connection timed out',))"
          ]
        }
      ]
    },
    {
      "metadata": {
        "id": "gz0C474ws9k3",
        "colab_type": "code",
        "colab": {}
      },
      "cell_type": "code",
      "source": [
        "url = 'https://switchup.org/rankings/best-coding-bootcamps'\n",
        "result = requests.get(url)"
      ],
      "execution_count": 0,
      "outputs": []
    },
    {
      "metadata": {
        "id": "fLXtgmFqt2EJ",
        "colab_type": "code",
        "colab": {
          "base_uri": "https://localhost:8080/",
          "height": 164
        },
        "outputId": "0631a5c0-6109-45d6-9410-1b7076c5364e"
      },
      "cell_type": "code",
      "source": [
        "result.text"
      ],
      "execution_count": 1,
      "outputs": [
        {
          "output_type": "error",
          "ename": "NameError",
          "evalue": "ignored",
          "traceback": [
            "\u001b[0;31m---------------------------------------------------------------------------\u001b[0m",
            "\u001b[0;31mNameError\u001b[0m                                 Traceback (most recent call last)",
            "\u001b[0;32m<ipython-input-1-a7b7aef83dd2>\u001b[0m in \u001b[0;36m<module>\u001b[0;34m()\u001b[0m\n\u001b[0;32m----> 1\u001b[0;31m \u001b[0mresults\u001b[0m\u001b[0;34m.\u001b[0m\u001b[0mtext\u001b[0m\u001b[0;34m\u001b[0m\u001b[0;34m\u001b[0m\u001b[0m\n\u001b[0m",
            "\u001b[0;31mNameError\u001b[0m: name 'results' is not defined"
          ]
        }
      ]
    },
    {
      "metadata": {
        "id": "kJ4tG7t3uqmq",
        "colab_type": "code",
        "colab": {}
      },
      "cell_type": "code",
      "source": [
        ""
      ],
      "execution_count": 0,
      "outputs": []
    }
  ]
}