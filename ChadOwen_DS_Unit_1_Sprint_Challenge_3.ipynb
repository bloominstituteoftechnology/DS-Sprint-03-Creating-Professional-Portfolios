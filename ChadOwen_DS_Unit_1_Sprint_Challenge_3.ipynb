{
  "nbformat": 4,
  "nbformat_minor": 0,
  "metadata": {
    "colab": {
      "name": "ChadOwen - DS_Unit_1_Sprint_Challenge_3.ipynb",
      "version": "0.3.2",
      "provenance": [],
      "collapsed_sections": [],
      "include_colab_link": true
    },
    "kernelspec": {
      "name": "python3",
      "display_name": "Python 3"
    }
  },
  "cells": [
    {
      "cell_type": "markdown",
      "metadata": {
        "id": "view-in-github",
        "colab_type": "text"
      },
      "source": [
        "<a href=\"https://colab.research.google.com/github/chadeowen/DS-Sprint-03-Creating-Professional-Portfolios/blob/master/ChadOwen_DS_Unit_1_Sprint_Challenge_3.ipynb\" target=\"_parent\"><img src=\"https://colab.research.google.com/assets/colab-badge.svg\" alt=\"Open In Colab\"/></a>"
      ]
    },
    {
      "metadata": {
        "id": "i-n_5en3ER1o",
        "colab_type": "text"
      },
      "cell_type": "markdown",
      "source": [
        "# Data Science Unit 1 Sprint Challenge 3\n",
        "\n",
        "# Creating Professional Portfolios\n",
        "\n",
        "For your Sprint Challenge, you will **write about your upcoming [data storytelling portfolio project](https://learn.lambdaschool.com/ds/module/recedjanlbpqxic2r)**.\n",
        "\n",
        "(Don't worry, you don't have to choose your final idea now. For this challenge, you can write about any idea you're considering.)"
      ]
    },
    {
      "metadata": {
        "id": "OS0nW1vz1itX",
        "colab_type": "text"
      },
      "cell_type": "markdown",
      "source": [
        "# Part 1\n",
        "\n",
        "**Describe an idea** you could work on for your upcoming data storytelling project. What's your hypothesis?\n",
        "\n",
        "#### Write a [lede](https://www.thoughtco.com/how-to-write-a-great-lede-2074346) (first paragraph)\n",
        "- Put the bottom line up front.\n",
        "- Use 60 words or fewer. (The [Hemingway App](http://www.hemingwayapp.com/) gives you word count.)\n",
        "\n",
        "[This is hard](https://quoteinvestigator.com/2012/04/28/shorter-letter/), but you can do it!\n",
        "\n",
        "#### Stretch goals\n",
        "- Write more about your idea. Tell us what the story's about. Show us why it's interesting. Continue to follow the inverted pyramid structure. \n",
        "- Improve your readability. Post your \"before & after\" scores from the Hemingway App."
      ]
    },
    {
      "metadata": {
        "id": "bnLqMTWLd5i9",
        "colab_type": "text"
      },
      "cell_type": "markdown",
      "source": [
        "- Who what where when why = States, Population Growth Rates, USA, From Civil War until now, Multitude of factors\n",
        "\n",
        "- I want my title to **pop**... maybe something like: '_A Second Civil War is Approaching; Why The North Might Be in More Trouble Than it Thinks_'\n",
        "\n",
        "- Controversial, I'm aware... Must tread lightly and be cautious of language, I'm also aware...\n",
        "\n",
        "- Lede: Population growth rates in Southern States have significantly outpaced those in Northern States since the Civil War; how __*might*__ this affect the current political divide?"
      ]
    },
    {
      "metadata": {
        "id": "Nqf9oJJDDu-d",
        "colab_type": "text"
      },
      "cell_type": "markdown",
      "source": [
        "# Part 2\n",
        "\n",
        "#### Find sources\n",
        "- Link to at least 2 relevant sources for your topic. Sources could include any data or writing about your topic.\n",
        "- Use [Markdown](https://commonmark.org/help/) to format your links.\n",
        "- Summarize each source in 1-2 sentences.\n",
        "\n",
        "#### Stretch goals\n",
        "- Find more sources.\n",
        "- Use Markdown to add images from your sources.\n",
        "- Critically evaluate your sources in writing."
      ]
    },
    {
      "metadata": {
        "id": "xAJlf735-2T5",
        "colab_type": "text"
      },
      "cell_type": "markdown",
      "source": [
        "[Facts and Trends Article](https://factsandtrends.net/2018/01/18/southern-states-continue-outpace-rest-u-s-population-growth/)\n",
        "\n",
        "- Numerical Growth top ten list and Percentage Growth top ten list\n",
        "\n",
        "[Bloomberg Opinion](https://www.bloomberg.com/opinion/articles/2018-01-04/america-s-heartland-has-moved-to-the-south-and-west)\n",
        "\n",
        "- Opinion piece on Southern and Western Population Growth\n",
        "- Some great visuals to keep in mind when making my report"
      ]
    },
    {
      "metadata": {
        "id": "LuacMjSf2ses",
        "colab_type": "text"
      },
      "cell_type": "markdown",
      "source": [
        "# Part 3\n",
        "\n",
        "#### Plan your next steps\n",
        "- Describe at least 2 actions you'd take to get started with your project.\n",
        "- Use Markdown headings and lists to organize your plan.\n",
        "\n",
        "#### Stretch goals\n",
        "- Add detail to your plan.\n",
        "- Publish your project proposal on your GitHub Pages site. "
      ]
    },
    {
      "metadata": {
        "id": "SFmS6ZZld4ot",
        "colab_type": "text"
      },
      "cell_type": "markdown",
      "source": [
        "  # Story\n",
        "  \n",
        "- The story I want to tell with the data is the most important part. Although I do not intend on being a data scientist with 'clickbait' or 'attention grabbing' reports, I do not mind using those practices given time constraints (project timelines). After collecting regional growth rates and state growth rates (speaking strictly population), I will paint a picture as to *why* the shifts are occuring and *how* this could play a factor given today's two-party divide.\n",
        "\n",
        "## Data\n",
        "  \n",
        "- The next step is to find the data. I'm finding that it's a bit trickier to track down historical census data (every seven years) and coupling that with census estimates (yearly) in a clean csv file, but I should be able to build my own if worst comes to worst. I have a broad idea of what the data will look like, but this weekend and next is when I'll spend time finding it.\n",
        "\n",
        "## Data Viz\n",
        "- Last action is choosing my data visualizations. I intend to provide different visualizations to portray multiple perspectives. The bloomberg article linked above looks helpful, but I will select data viz's that support my 'story'"
      ]
    }
  ]
}