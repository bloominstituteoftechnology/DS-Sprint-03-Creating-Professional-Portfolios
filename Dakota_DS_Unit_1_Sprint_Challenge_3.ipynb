{
  "nbformat": 4,
  "nbformat_minor": 0,
  "metadata": {
    "colab": {
      "name": "Dakota_DS_Unit_1_Sprint_Challenge_3.ipynb",
      "version": "0.3.2",
      "provenance": [],
      "collapsed_sections": [],
      "include_colab_link": true
    },
    "kernelspec": {
      "name": "python3",
      "display_name": "Python 3"
    }
  },
  "cells": [
    {
      "cell_type": "markdown",
      "metadata": {
        "id": "view-in-github",
        "colab_type": "text"
      },
      "source": [
        "<a href=\"https://colab.research.google.com/github/Dpgofast/DS-Sprint-03-Creating-Professional-Portfolios/blob/master/Dakota_DS_Unit_1_Sprint_Challenge_3.ipynb\" target=\"_parent\"><img src=\"https://colab.research.google.com/assets/colab-badge.svg\" alt=\"Open In Colab\"/></a>"
      ]
    },
    {
      "metadata": {
        "id": "i-n_5en3ER1o",
        "colab_type": "text"
      },
      "cell_type": "markdown",
      "source": [
        "# Data Science Unit 1 Sprint Challenge 3\n",
        "\n",
        "# Creating Professional Portfolios\n",
        "\n",
        "For your Sprint Challenge, you will **write about your upcoming [data storytelling portfolio project](https://learn.lambdaschool.com/ds/module/recedjanlbpqxic2r)**.\n",
        "\n",
        "(Don't worry, you don't have to choose your final idea now. For this challenge, you can write about any idea you're considering.)"
      ]
    },
    {
      "metadata": {
        "id": "OS0nW1vz1itX",
        "colab_type": "text"
      },
      "cell_type": "markdown",
      "source": [
        "# Part 1\n",
        "\n",
        "**Describe an idea** you could work on for your upcoming data storytelling project. What's your hypothesis?\n",
        "\n",
        "#### Write a [lede](https://www.thoughtco.com/how-to-write-a-great-lede-2074346) (first paragraph)\n",
        "- Put the bottom line up front.\n",
        "- Use 60 words or fewer. (The [Hemingway App](http://www.hemingwayapp.com/) gives you word count.)\n",
        "\n",
        "[This is hard](https://quoteinvestigator.com/2012/04/28/shorter-letter/), but you can do it!\n",
        "\n",
        "#### Stretch goals\n",
        "- Write more about your idea. Tell us what the story's about. Show us why it's interesting. Continue to follow the inverted pyramid structure. \n",
        "- Improve your readability. Post your \"before & after\" scores from the Hemingway App."
      ]
    },
    {
      "metadata": {
        "id": "bnLqMTWLd5i9",
        "colab_type": "text"
      },
      "cell_type": "markdown",
      "source": [
        "\n",
        "#            The Election Effect\n",
        "\n",
        "##Hypothesis: \n",
        "Presidential elections stimulate the economy of the respective candidates' home state. Investigation into a yearly report of export profits will show in fact this holds true. Viewing a 10 year period from 2008-2018 allows a view of both before and after as well as during an election cycle."
      ]
    },
    {
      "metadata": {
        "id": "Nqf9oJJDDu-d",
        "colab_type": "text"
      },
      "cell_type": "markdown",
      "source": [
        "# Part 2\n",
        "\n",
        "#### Find sources\n",
        "- Link to at least 2 relevant sources for your topic. Sources could include any data or writing about your topic.\n",
        "- Use [Markdown](https://commonmark.org/help/) to format your links.\n",
        "- Summarize each source in 1-2 sentences.\n",
        "\n",
        "#### Stretch goals\n",
        "- Find more sources.\n",
        "- Use Markdown to add images from your sources.\n",
        "- Critically evaluate your sources in writing."
      ]
    },
    {
      "metadata": {
        "id": "xAJlf735-2T5",
        "colab_type": "text"
      },
      "cell_type": "markdown",
      "source": [
        "##U.S elections impact the world economy\n",
        " An election cycle in United states can introduce volatility into world markets. Due to uncertainty or controversial ideas as profiled by  Jennifer Stinnett in the article: [How a Presidential Election Year Can Impact the Economy](https://smartasset.com/investing/election-year-impacts-economy)\n",
        "\n",
        "In some election cycles the general public believes the outcome is a threat to the economy. In a report by  Andrew Soergel: [Presidential Election 'Biggest Threat' to U.S. Economy for Most Americans](https://www.usnews.com/news/articles/2016-09-13/presidential-election-biggest-threat-to-us-economy-for-most-americans) the most recent election was an example of this. "
      ]
    },
    {
      "metadata": {
        "id": "LuacMjSf2ses",
        "colab_type": "text"
      },
      "cell_type": "markdown",
      "source": [
        "# Part 3\n",
        "\n",
        "#### Plan your next steps\n",
        "- Describe at least 2 actions you'd take to get started with your project.\n",
        "- Use Markdown headings and lists to organize your plan.\n",
        "\n",
        "#### Stretch goals\n",
        "- Add detail to your plan.\n",
        "- Publish your project proposal on your GitHub Pages site. "
      ]
    },
    {
      "metadata": {
        "id": "SFmS6ZZld4ot",
        "colab_type": "text"
      },
      "cell_type": "markdown",
      "source": [
        "##Moving Forward\n",
        "To gain true insights into the effect of presidential elections on the economy is no small task. With many high level processes required, the steps to achieve this goal must be clear. \n",
        "Preliminary steps include:\n",
        "* Collection of accurate data \n",
        "* Assembly of data into appropriate structure \n",
        "* Cleaning data of invalid information\n",
        "* Choosing appropriate processes to interpret data \n",
        "\n",
        "Once completed these preliminary steps will lay the groundwork for a decisive conclusion. To reach this conclusion the process will include:\n",
        "* Statistics of each states median and mean export profits (10 years)\n",
        "* Visualizations of state total export value fluctuations over time\n",
        "* Visualizations of state total export value fluctuations with emphasis on election periods \n",
        "* Charted evidence of correlation between election cycles and state export increases in a  candidates home state\n",
        "\n",
        "With these processes complete I intend to provide proof of support for The Election Effect."
      ]
    }
  ]
}